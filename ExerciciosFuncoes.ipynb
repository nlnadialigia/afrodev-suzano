{
  "nbformat": 4,
  "nbformat_minor": 0,
  "metadata": {
    "colab": {
      "name": "ExerciciosFuncoes.ipynb",
      "provenance": [],
      "include_colab_link": true
    },
    "kernelspec": {
      "name": "python3",
      "display_name": "Python 3"
    },
    "language_info": {
      "name": "python"
    }
  },
  "cells": [
    {
      "cell_type": "markdown",
      "metadata": {
        "id": "view-in-github",
        "colab_type": "text"
      },
      "source": [
        "<a href=\"https://colab.research.google.com/github/nlnadialigia/afrodev-suzano/blob/main/ExerciciosFuncoes.ipynb\" target=\"_parent\"><img src=\"https://colab.research.google.com/assets/colab-badge.svg\" alt=\"Open In Colab\"/></a>"
      ]
    },
    {
      "cell_type": "markdown",
      "metadata": {
        "id": "mN9NfcazTEOa"
      },
      "source": [
        "## Funções "
      ]
    },
    {
      "cell_type": "markdown",
      "metadata": {
        "id": "OFD5ExjBQeeo"
      },
      "source": [
        "**Faça um programa para imprimir:**\n",
        "\n",
        "\n",
        "\n",
        "```\n",
        "    1\n",
        "    2   2\n",
        "    3   3   3\n",
        "    .....\n",
        "    n   n   n   n   n   n  ... n\n",
        "```\n",
        "\n",
        "para um **n** informado pelo usuário. Use uma função que receba um valor **n** inteiro e imprima até a n-ésima linha.\n",
        "\n"
      ]
    },
    {
      "cell_type": "code",
      "metadata": {
        "id": "hfch9cN-QQSN",
        "colab": {
          "base_uri": "https://localhost:8080/"
        },
        "outputId": "2e613efe-49d7-4d5e-8aae-921cb252e52d"
      },
      "source": [
        "def imprimir_linha(n):\n",
        "  for i in range(1, n+1):\n",
        "    print(f'{str(i)} ' * i)\n",
        "\n",
        "num = int(input('Digite um valor inteiro: '))\n",
        "imprimir_linha(num)"
      ],
      "execution_count": null,
      "outputs": [
        {
          "output_type": "stream",
          "name": "stdout",
          "text": [
            "Digite um valor inteiro: 5\n",
            "1 \n",
            "2 2 \n",
            "3 3 3 \n",
            "4 4 4 4 \n",
            "5 5 5 5 5 \n"
          ]
        }
      ]
    },
    {
      "cell_type": "markdown",
      "metadata": {
        "id": "g_wUdiGURigX"
      },
      "source": [
        "**Faça um programa para imprimir:**\n",
        "\n",
        "```\n",
        "    1\n",
        "    1   2\n",
        "    1   2   3\n",
        "    .....\n",
        "    1   2   3   ...  n\n",
        "```\n",
        "\n",
        "para um **n** informado pelo usuário. Use uma função que receba um valor **n** inteiro imprima até a **n**-ésima linha.\n",
        "\n"
      ]
    },
    {
      "cell_type": "code",
      "metadata": {
        "id": "oMzs-yg5RtJd",
        "colab": {
          "base_uri": "https://localhost:8080/"
        },
        "outputId": "6e53ad03-5b6d-41ca-fd49-9b80e9dc913e"
      },
      "source": [
        "def imprimir_linha(n):\n",
        "  for i in range(1, n+1):\n",
        "    for j in range(1, i+1):\n",
        "      print(f'{str(j)}', end=' ')\n",
        "    print()\n",
        "\n",
        "num = int(input('Digite um número inteiro: '))\n",
        "imprimir_linha(num)\n"
      ],
      "execution_count": null,
      "outputs": [
        {
          "output_type": "stream",
          "name": "stdout",
          "text": [
            "Digite um número inteiro: 7\n",
            "1 \n",
            "1 2 \n",
            "1 2 3 \n",
            "1 2 3 4 \n",
            "1 2 3 4 5 \n",
            "1 2 3 4 5 6 \n",
            "1 2 3 4 5 6 7 \n"
          ]
        }
      ]
    },
    {
      "cell_type": "code",
      "metadata": {
        "colab": {
          "base_uri": "https://localhost:8080/"
        },
        "id": "qAKqkmedBwWn",
        "outputId": "65649fcb-b50b-49f4-efd0-022cf9c851c3"
      },
      "source": [
        "for i in range(5):\n",
        "  print(i, end=' ')"
      ],
      "execution_count": null,
      "outputs": [
        {
          "output_type": "stream",
          "name": "stdout",
          "text": [
            "0 1 2 3 4 "
          ]
        }
      ]
    },
    {
      "cell_type": "markdown",
      "metadata": {
        "id": "XfF7sM--R91K"
      },
      "source": [
        "**Faça um programa, com uma função que necessite de três argumentos, e que forneça a soma desses três argumentos.**"
      ]
    },
    {
      "cell_type": "code",
      "metadata": {
        "id": "qkQZri-0SBM6",
        "colab": {
          "base_uri": "https://localhost:8080/",
          "height": 333
        },
        "outputId": "65d7e830-041f-4198-d10b-94d238a7ba9f"
      },
      "source": [
        "def soma_argumentos():\n",
        "  soma = 0\n",
        "  for i in range(3):\n",
        "    arg = input('Digite um argumento: ')\n",
        "    soma += arg\n",
        "  print(f'A soma dos três argumentos é {soma}')\n",
        "\n",
        "soma_argumentos()\n"
      ],
      "execution_count": null,
      "outputs": [
        {
          "name": "stdout",
          "output_type": "stream",
          "text": [
            "Digite um argumento: 5\n"
          ]
        },
        {
          "output_type": "error",
          "ename": "TypeError",
          "evalue": "ignored",
          "traceback": [
            "\u001b[0;31m---------------------------------------------------------------------------\u001b[0m",
            "\u001b[0;31mTypeError\u001b[0m                                 Traceback (most recent call last)",
            "\u001b[0;32m<ipython-input-27-e1f22b3ba952>\u001b[0m in \u001b[0;36m<module>\u001b[0;34m()\u001b[0m\n\u001b[1;32m      6\u001b[0m   \u001b[0mprint\u001b[0m\u001b[0;34m(\u001b[0m\u001b[0;34mf'A soma dos três argumentos é {soma}'\u001b[0m\u001b[0;34m)\u001b[0m\u001b[0;34m\u001b[0m\u001b[0;34m\u001b[0m\u001b[0m\n\u001b[1;32m      7\u001b[0m \u001b[0;34m\u001b[0m\u001b[0m\n\u001b[0;32m----> 8\u001b[0;31m \u001b[0msoma_argumentos\u001b[0m\u001b[0;34m(\u001b[0m\u001b[0;34m)\u001b[0m\u001b[0;34m\u001b[0m\u001b[0;34m\u001b[0m\u001b[0m\n\u001b[0m",
            "\u001b[0;32m<ipython-input-27-e1f22b3ba952>\u001b[0m in \u001b[0;36msoma_argumentos\u001b[0;34m()\u001b[0m\n\u001b[1;32m      3\u001b[0m   \u001b[0;32mfor\u001b[0m \u001b[0mi\u001b[0m \u001b[0;32min\u001b[0m \u001b[0mrange\u001b[0m\u001b[0;34m(\u001b[0m\u001b[0;36m3\u001b[0m\u001b[0;34m)\u001b[0m\u001b[0;34m:\u001b[0m\u001b[0;34m\u001b[0m\u001b[0;34m\u001b[0m\u001b[0m\n\u001b[1;32m      4\u001b[0m     \u001b[0marg\u001b[0m \u001b[0;34m=\u001b[0m \u001b[0minput\u001b[0m\u001b[0;34m(\u001b[0m\u001b[0;34m'Digite um argumento: '\u001b[0m\u001b[0;34m)\u001b[0m\u001b[0;34m\u001b[0m\u001b[0;34m\u001b[0m\u001b[0m\n\u001b[0;32m----> 5\u001b[0;31m     \u001b[0msoma\u001b[0m \u001b[0;34m+=\u001b[0m \u001b[0marg\u001b[0m\u001b[0;34m\u001b[0m\u001b[0;34m\u001b[0m\u001b[0m\n\u001b[0m\u001b[1;32m      6\u001b[0m   \u001b[0mprint\u001b[0m\u001b[0;34m(\u001b[0m\u001b[0;34mf'A soma dos três argumentos é {soma}'\u001b[0m\u001b[0;34m)\u001b[0m\u001b[0;34m\u001b[0m\u001b[0;34m\u001b[0m\u001b[0m\n\u001b[1;32m      7\u001b[0m \u001b[0;34m\u001b[0m\u001b[0m\n",
            "\u001b[0;31mTypeError\u001b[0m: unsupported operand type(s) for +=: 'int' and 'str'"
          ]
        }
      ]
    },
    {
      "cell_type": "markdown",
      "metadata": {
        "id": "vT_YJ-_3SBn9"
      },
      "source": [
        "**Faça um programa, com uma função que necessite de um argumento. A função retorna o valor de caractere ‘P’, se seu argumento for positivo, e ‘N’, se seu argumento for zero ou negativo.**"
      ]
    },
    {
      "cell_type": "code",
      "metadata": {
        "id": "GbuacdZZSGEB"
      },
      "source": [
        ""
      ],
      "execution_count": null,
      "outputs": []
    },
    {
      "cell_type": "markdown",
      "metadata": {
        "id": "_J3S3DF-SGpa"
      },
      "source": [
        "**Faça um programa com uma função chamada somaImposto. A função possui dois parâmetros formais: taxaImposto, que é a quantia de imposto sobre vendas expressa em porcentagem e custo, que é o custo de um item antes do imposto. A função “altera” o valor de custo para incluir o imposto sobre vendas.**"
      ]
    },
    {
      "cell_type": "code",
      "metadata": {
        "id": "gdLd7R4xSOWa"
      },
      "source": [
        ""
      ],
      "execution_count": null,
      "outputs": []
    },
    {
      "cell_type": "markdown",
      "metadata": {
        "id": "i5j0AI9_SQUq"
      },
      "source": [
        "**Faça um programa que converta da notação de 24 horas para a notação de 12 horas. Por exemplo, o programa deve converter 14:25 em 2:25 P.M. A entrada é dada em dois inteiros. Deve haver pelo menos duas funções: uma para fazer a conversão e uma para a saída. Registre a informação A.M./P.M. como um valor ‘A’ para A.M. e ‘P’ para P.M. Assim, a função para efetuar as conversões terá um parâmetro formal para registrar se é A.M. ou P.M. Inclua um loop que permita que o usuário repita esse cálculo para novos valores de entrada todas as vezes que desejar**"
      ]
    },
    {
      "cell_type": "code",
      "metadata": {
        "id": "QQNQmEvYSVWB"
      },
      "source": [
        ""
      ],
      "execution_count": null,
      "outputs": []
    },
    {
      "cell_type": "markdown",
      "metadata": {
        "id": "pgP_sIO0SVyY"
      },
      "source": [
        "**Faça um programa que use a função valorPagamento para determinar o valor a ser pago por uma prestação de uma conta. O programa deverá solicitar ao usuário o valor da prestação e o número de dias em atraso e passar estes valores para a função valorPagamento, que calculará o valor a ser pago e devolverá este valor ao programa que a chamou. O programa deverá então exibir o valor a ser pago na tela. Após a execução o programa deverá voltar a pedir outro valor de prestação e assim continuar até que seja informado um valor igual a zero para a prestação. Neste momento o programa deverá ser encerrado, exibindo o relatório do dia, que conterá a quantidade e o valor total de prestações pagas no dia. O cálculo do valor a ser pago é feito da seguinte forma. Para pagamentos sem atraso, cobrar o valor da prestação. Quando houver atraso, cobrar 3% de multa, mais 0,1% de juros por dia de atraso.**"
      ]
    },
    {
      "cell_type": "code",
      "metadata": {
        "id": "5LlHaQ10SZDp"
      },
      "source": [
        ""
      ],
      "execution_count": null,
      "outputs": []
    },
    {
      "cell_type": "markdown",
      "metadata": {
        "id": "7QN_BPa8SZmK"
      },
      "source": [
        "**Faça uma função que informe a quantidade de dígitos de um determinado número inteiro informado.**"
      ]
    },
    {
      "cell_type": "code",
      "metadata": {
        "id": "1egzHj3ESg1w"
      },
      "source": [
        ""
      ],
      "execution_count": null,
      "outputs": []
    },
    {
      "cell_type": "markdown",
      "metadata": {
        "id": "ZMIz_AC3ShYB"
      },
      "source": [
        "**Reverso do número.** Faça uma função que retorne o reverso de um número inteiro informado. Por exemplo: 127 -> 721."
      ]
    },
    {
      "cell_type": "code",
      "metadata": {
        "id": "weEFkEpxSmCE"
      },
      "source": [
        ""
      ],
      "execution_count": null,
      "outputs": []
    },
    {
      "cell_type": "markdown",
      "metadata": {
        "id": "g15AaiobSoCH"
      },
      "source": [
        "**Jogo de Craps.** Faça um programa de implemente um jogo de Craps. O jogador lança um par de dados, obtendo um valor entre 2 e 12. Se, na primeira jogada, você tirar 7 ou 11, você um \"natural\" e ganhou. Se você tirar 2, 3 ou 12 na primeira jogada, isto é chamado de \"craps\" e você perdeu. Se, na primeira jogada, você fez um 4, 5, 6, 8, 9 ou 10,este é seu \"Ponto\". Seu objetivo agora é continuar jogando os dados até tirar este número novamente. Você perde, no entanto, se tirar um 7 antes de tirar este Ponto novamente."
      ]
    },
    {
      "cell_type": "code",
      "metadata": {
        "id": "ywJbHz3DSqv2"
      },
      "source": [
        ""
      ],
      "execution_count": null,
      "outputs": []
    },
    {
      "cell_type": "markdown",
      "metadata": {
        "id": "Z7psSn6QSs_R"
      },
      "source": [
        "**Data com mês por extenso.** Construa uma função que receba uma data no formato DD/MM/AAAA e devolva uma string no formato D de mesPorExtenso de AAAA. Opcionalmente, valide a data e retorne NULL caso a data seja inválida."
      ]
    },
    {
      "cell_type": "code",
      "metadata": {
        "id": "_-YiVq_USueK"
      },
      "source": [
        ""
      ],
      "execution_count": null,
      "outputs": []
    },
    {
      "cell_type": "markdown",
      "metadata": {
        "id": "hrCLui_7SvVQ"
      },
      "source": [
        "**Embaralha palavra.** Construa uma função que receba uma string como parâmetro e devolva outra string com os carateres embaralhados. Por exemplo: se função receber a palavra python, pode retornar npthyo, ophtyn ou qualquer outra combinação possível, de forma aleatória. Padronize em sua função que todos os caracteres serão devolvidos em caixa alta ou caixa baixa, independentemente de como foram digitados."
      ]
    },
    {
      "cell_type": "code",
      "metadata": {
        "id": "X_R2eFoRSyvi"
      },
      "source": [
        ""
      ],
      "execution_count": null,
      "outputs": []
    },
    {
      "cell_type": "markdown",
      "metadata": {
        "id": "bHAHBgE2SzIC"
      },
      "source": [
        "**Desenha moldura.** Construa uma função que desenhe um retângulo usando os caracteres ‘+’ , ‘−’ e ‘| ‘. Esta função deve receber dois parâmetros, linhas e colunas, sendo que o valor por omissão é o valor mínimo igual a 1 e o valor máximo é 20. Se valores fora da faixa forem informados, eles devem ser modificados para valores dentro da faixa de forma elegante."
      ]
    },
    {
      "cell_type": "code",
      "metadata": {
        "id": "jejrLAAOS2S2"
      },
      "source": [
        ""
      ],
      "execution_count": null,
      "outputs": []
    },
    {
      "cell_type": "markdown",
      "metadata": {
        "id": "NrEvpsgvS2tY"
      },
      "source": [
        "**Quadrado mágico.** Um quadrado mágico é aquele dividido em linhas e colunas, com um número em cada posição e no qual a soma das linhas, colunas e diagonais é a mesma. Por exemplo, veja um quadrado mágico de lado 3, com números de 1 a 9:\n",
        "\n",
        "```\n",
        "8  3  4 \n",
        "1  5  9\n",
        "6  7  2\n",
        "```\n",
        "\n",
        "Elabore uma função que identifica e mostra na tela todos os quadrados mágicos com as características acima. Dica: produza todas as combinações possíveis e verifique a soma quando completar cada quadrado. Usar um vetor de 1 a 9 parece ser mais simples que usar uma matriz 3x3.\n",
        "\n"
      ]
    },
    {
      "cell_type": "code",
      "metadata": {
        "id": "tgg7vm8FTBu2"
      },
      "source": [
        ""
      ],
      "execution_count": null,
      "outputs": []
    }
  ]
}