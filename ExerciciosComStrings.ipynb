{
  "nbformat": 4,
  "nbformat_minor": 0,
  "metadata": {
    "colab": {
      "name": "ExerciciosComStrings.ipynb",
      "provenance": [],
      "collapsed_sections": [],
      "include_colab_link": true
    },
    "kernelspec": {
      "name": "python3",
      "display_name": "Python 3"
    },
    "language_info": {
      "name": "python"
    }
  },
  "cells": [
    {
      "cell_type": "markdown",
      "metadata": {
        "id": "view-in-github",
        "colab_type": "text"
      },
      "source": [
        "<a href=\"https://colab.research.google.com/github/nlnadialigia/afrodev-suzano/blob/main/ExerciciosComStrings.ipynb\" target=\"_parent\"><img src=\"https://colab.research.google.com/assets/colab-badge.svg\" alt=\"Open In Colab\"/></a>"
      ]
    },
    {
      "cell_type": "markdown",
      "metadata": {
        "id": "2BI3HmITeVj8"
      },
      "source": [
        "#Strings"
      ]
    },
    {
      "cell_type": "markdown",
      "metadata": {
        "id": "c5_hUeL5eYLg"
      },
      "source": [
        "**Tamanho de strings. Faça um programa que leia 2 strings e informe o conteúdo delas seguido do seu comprimento. Informe também se as duas strings possuem o mesmo comprimento e são iguais ou diferentes no conteúdo.**\n",
        "\n",
        "\n",
        "```\n",
        "Compara duas strings\n",
        "String 1: Brasil Hexa 2006\n",
        "String 2: Brasil! Hexa 2006!\n",
        "Tamanho de \"Brasil Hexa 2006\": 16 caracteres\n",
        "Tamanho de \"Brasil! Hexa 2006!\": 18 caracteres\n",
        "As duas strings são de tamanhos diferentes.\n",
        "As duas strings possuem conteúdo diferente.\n",
        "```\n",
        "\n"
      ]
    },
    {
      "cell_type": "code",
      "metadata": {
        "id": "mxapiJC3eUcR",
        "colab": {
          "base_uri": "https://localhost:8080/"
        },
        "outputId": "63766f53-9188-4e17-931c-a263bd562eae"
      },
      "source": [
        "string1 = input('Dgite uma string: ')\n",
        "string2 = input('Dgite outra string: ')\n",
        "\n",
        "print(f'String 1: {string1}')\n",
        "print(f'String 2: {string2}')\n",
        "\n",
        "print(f'Tamado de {string1}: {len(string1)} caracteres')\n",
        "print(f'Tamado de {string2}: {len(string2)} caracteres')\n",
        "\n",
        "if string1 == string2:\n",
        "  print('As duas strings são do mesmo tamanho.')\n",
        "  print('As duas strings possuem conteúdo igual.')\n",
        "else:\n",
        "  if len(string1) != len(string2):\n",
        "    print('As duas strings são de tamanhos diferentes.')\n",
        "  print('As duas strings possuem conteúdo diferent.')\n",
        "\n",
        "\n",
        "# O homem que copiava\n",
        "# O homem que copiava!\n",
        "\n"
      ],
      "execution_count": 7,
      "outputs": [
        {
          "output_type": "stream",
          "name": "stdout",
          "text": [
            "Dgite uma string: # O homem que copiava\n",
            "Dgite outra string: # O homem que copiava\n",
            "String 1: # O homem que copiava\n",
            "String 2: # O homem que copiava\n",
            "Tamado de # O homem que copiava: 21 caracteres\n",
            "Tamado de # O homem que copiava: 21 caracteres\n",
            "As duas strings são do mesmo tamanho.\n",
            "As duas strings possuem conteúdo igual.\n"
          ]
        }
      ]
    },
    {
      "cell_type": "markdown",
      "metadata": {
        "id": "81v8V31SejK-"
      },
      "source": [
        "**Nome ao contrário em maiúsculas. Faça um programa que permita ao usuário digitar o seu nome e em seguida mostre o nome do usuário de trás para frente utilizando somente letras maiúsculas. Dica: lembre−se que ao informar o nome o usuário pode digitar letras maiúsculas ou minúsculas.**"
      ]
    },
    {
      "cell_type": "code",
      "metadata": {
        "id": "gm01p3SBemNs",
        "colab": {
          "base_uri": "https://localhost:8080/"
        },
        "outputId": "ce5358c4-bf55-4f6a-e8d7-7042f4fb67d9"
      },
      "source": [
        "nome = input('Digite seu nome: ').strip()\n",
        "nome = (nome[::-1]).upper()\n",
        "print(nome)"
      ],
      "execution_count": 11,
      "outputs": [
        {
          "output_type": "stream",
          "name": "stdout",
          "text": [
            "Digite seu nome: nadia\n",
            "AIDAN\n"
          ]
        }
      ]
    },
    {
      "cell_type": "markdown",
      "metadata": {
        "id": "CiEt8Be1emnM"
      },
      "source": [
        "**Nome na vertical. Faça um programa que solicite o nome do usuário e imprima-o na vertical.**\n",
        "\n",
        "\n",
        "```\n",
        "F\n",
        "U\n",
        "L\n",
        "A\n",
        "N\n",
        "O\n",
        "```\n",
        "\n",
        "\n"
      ]
    },
    {
      "cell_type": "code",
      "metadata": {
        "id": "6JGDz-AKeq7q",
        "colab": {
          "base_uri": "https://localhost:8080/"
        },
        "outputId": "7235809d-cec4-44bd-fa4b-14dd089f6e11"
      },
      "source": [
        "nome = input('Nome: ').upper()\n",
        "\n",
        "for c in range(len(nome)):\n",
        "  print(nome[c])"
      ],
      "execution_count": 13,
      "outputs": [
        {
          "output_type": "stream",
          "name": "stdout",
          "text": [
            "Nome: nadia ligia\n",
            "N\n",
            "A\n",
            "D\n",
            "I\n",
            "A\n",
            " \n",
            "L\n",
            "I\n",
            "G\n",
            "I\n",
            "A\n"
          ]
        }
      ]
    },
    {
      "cell_type": "markdown",
      "metadata": {
        "id": "h-Tj27bEewsh"
      },
      "source": [
        "**Nome na vertical em escada. Modifique o programa anterior de forma a mostrar o nome em formato de escada.**\n",
        "\n",
        "\n",
        "```\n",
        "F\n",
        "FU\n",
        "FUL\n",
        "FULA\n",
        "FULAN\n",
        "FULANO\n",
        "```\n",
        "\n"
      ]
    },
    {
      "cell_type": "code",
      "metadata": {
        "id": "fLUe_klVe6g9",
        "colab": {
          "base_uri": "https://localhost:8080/"
        },
        "outputId": "886051ef-d532-451b-bd9a-1212c810726d"
      },
      "source": [
        "nome = input('Nome: ').upper()\n",
        "for i in range(0, len(nome)):\n",
        "  for j in range(0, i + 1):\n",
        "    print(f'{str(nome[j])}', end=' ')\n",
        "  print()\n",
        "\n"
      ],
      "execution_count": 17,
      "outputs": [
        {
          "output_type": "stream",
          "name": "stdout",
          "text": [
            "Nome: nadia ligia\n",
            "N \n",
            "N A \n",
            "N A D \n",
            "N A D I \n",
            "N A D I A \n",
            "N A D I A   \n",
            "N A D I A   L \n",
            "N A D I A   L I \n",
            "N A D I A   L I G \n",
            "N A D I A   L I G I \n",
            "N A D I A   L I G I A \n"
          ]
        }
      ]
    },
    {
      "cell_type": "markdown",
      "metadata": {
        "id": "yBhaTSU-e6-S"
      },
      "source": [
        "**Nome na vertical em escada invertida. Altere o programa anterior de modo que a escada seja invertida.**\n",
        "\n",
        "\n",
        "```\n",
        "FULANO\n",
        "FULAN\n",
        "FULA\n",
        "FUL\n",
        "FU\n",
        "F\n",
        "```\n",
        "\n"
      ]
    },
    {
      "cell_type": "code",
      "metadata": {
        "id": "9lnUPsU0fG0g",
        "colab": {
          "base_uri": "https://localhost:8080/"
        },
        "outputId": "3cc24e84-af18-4265-c1da-921ebeb882e4"
      },
      "source": [
        "nome = input('Nome: ').upper()\n",
        "\n",
        "for i in range(len(nome)):\n",
        "  if i == 0:\n",
        "    print(nome)\n",
        "  else:\n",
        "    print(nome[:-i])\n"
      ],
      "execution_count": 27,
      "outputs": [
        {
          "output_type": "stream",
          "name": "stdout",
          "text": [
            "Nome: nadia ligia\n",
            "NADIA LIGIA\n",
            "NADIA LIGI\n",
            "NADIA LIG\n",
            "NADIA LI\n",
            "NADIA L\n",
            "NADIA \n",
            "NADIA\n",
            "NADI\n",
            "NAD\n",
            "NA\n",
            "N\n"
          ]
        }
      ]
    },
    {
      "cell_type": "markdown",
      "metadata": {
        "id": "NSSYKUQ3fHVF"
      },
      "source": [
        "**Data por extenso. Faça um programa que solicite a data de nascimento (dd/mm/aaaa) do usuário e imprima a data com o nome do mês por extenso.**\n",
        "\n",
        "\n",
        "```\n",
        "Data de Nascimento: 29/10/1973\n",
        "Você nasceu em  29 de Outubro de 1973.\n",
        "```\n",
        "\n"
      ]
    },
    {
      "cell_type": "code",
      "metadata": {
        "id": "uxTF0Th8fT12",
        "colab": {
          "base_uri": "https://localhost:8080/"
        },
        "outputId": "359f6ad2-9b53-4e79-f0d3-b966ae408673"
      },
      "source": [
        "meses = ['janeiro', 'fevereiro', 'março', 'abril', 'maio', 'junho', 'julho', 'agosto', 'setembro', 'outubro', 'novembro', 'dezembro']\n",
        "\n",
        "while True:\n",
        "  nasc = input('Data de nascimento (dd/mm/aaaa): ')\n",
        "  if len(nasc) != 10:\n",
        "    print('Data inválida.')\n",
        "  else:\n",
        "    # nasc = nasc.split('/')\n",
        "    dia = nasc[:2]\n",
        "    mes = nasc[2:4]\n",
        "    ano = nasc[5:]\n",
        "    for i in range(len(meses)):\n",
        "      if i == mes:\n",
        "        print(f'Você nasceum em {dia} de {meses[i-1]} de {ano}.')\n",
        "    break"
      ],
      "execution_count": 34,
      "outputs": [
        {
          "name": "stdout",
          "output_type": "stream",
          "text": [
            "Data de nascimento (dd/mm/aaaa): 14101977\n",
            "Data inválida.\n",
            "Data de nascimento (dd/mm/aaaa): 14/10/1977\n"
          ]
        }
      ]
    },
    {
      "cell_type": "markdown",
      "metadata": {
        "id": "J4vjhl1zfUeW"
      },
      "source": [
        "**Conta espaços e vogais. Dado uma string com uma frase informada pelo usuário (incluindo espaços em branco), conte:**\n",
        "\n",
        "1. quantos espaços em branco existem na frase.\n",
        "2. quantas vezes aparecem as vogais a, e, i, o, u."
      ]
    },
    {
      "cell_type": "code",
      "metadata": {
        "id": "cUUWbxn5fy4N"
      },
      "source": [
        ""
      ],
      "execution_count": null,
      "outputs": []
    },
    {
      "cell_type": "markdown",
      "metadata": {
        "id": "_trmaipsgAMP"
      },
      "source": [
        "**Palíndromo. Um palíndromo é uma seqüência de caracteres cuja leitura é idêntica se feita da direita para esquerda ou vice−versa. Por exemplo: OSSO e OVO são palíndromos. Em textos mais complexos os espaços e pontuação são ignorados. A frase SUBI NO ONIBUS é o exemplo de uma frase palíndroma onde os espaços foram ignorados. Faça um programa que leia uma seqüência de caracteres, mostre−a e diga se é um palíndromo ou não.**"
      ]
    },
    {
      "cell_type": "code",
      "metadata": {
        "id": "BmEAkso_gDvm"
      },
      "source": [
        ""
      ],
      "execution_count": null,
      "outputs": []
    },
    {
      "cell_type": "markdown",
      "metadata": {
        "id": "TZja1EYigENf"
      },
      "source": [
        "**Verificação de CPF. Desenvolva um programa que solicite a digitação de um número de CPF no formato xxx.xxx.xxx-xx e indique se é um número válido ou inválido através da validação dos dígitos verificadores edos caracteres de formatação.**"
      ]
    },
    {
      "cell_type": "code",
      "metadata": {
        "id": "QQpzKV9_gIqV"
      },
      "source": [
        ""
      ],
      "execution_count": null,
      "outputs": []
    },
    {
      "cell_type": "markdown",
      "metadata": {
        "id": "sSOkvvG9gJEv"
      },
      "source": [
        "**Número por extenso. Escreva um programa que solicite ao usuário a digitação de um número até 99 e imprima-o na tela por extenso.**"
      ]
    },
    {
      "cell_type": "code",
      "metadata": {
        "id": "U_1CdSqAgLpL"
      },
      "source": [
        ""
      ],
      "execution_count": null,
      "outputs": []
    },
    {
      "cell_type": "markdown",
      "metadata": {
        "id": "grCkRd7FgMuR"
      },
      "source": [
        "**Jogo de Forca. Desenvolva um jogo da forca. O programa terá uma lista de palavras lidas de um arquivo texto e escolherá uma aleatoriamente. O jogador poderá errar 6 vezes antes de ser enforcado.**\n",
        "\n",
        "```\n",
        "Digite uma letra: A\n",
        "-> Você errou pela 1ª vez. Tente de novo!\n",
        "\n",
        "Digite uma letra: O\n",
        "A palavra é: _ _ _ _ O\n",
        "\n",
        "Digite uma letra: E\n",
        "A palavra é: _ E _ _ O\n",
        "\n",
        "Digite uma letra: S\n",
        "-> Você errou pela 2ª vez. Tente de novo!\n",
        "```\n",
        "\n"
      ]
    },
    {
      "cell_type": "code",
      "metadata": {
        "id": "gaG5Tg0mgS3y"
      },
      "source": [
        ""
      ],
      "execution_count": null,
      "outputs": []
    },
    {
      "cell_type": "markdown",
      "metadata": {
        "id": "SSCL2Ab4gTet"
      },
      "source": [
        "**Valida e corrige número de telefone. Faça um programa que leia um número de telefone, e corrija o número no caso deste conter somente 7 dígitos, acrescentando o '3' na frente. O usuário pode informar o número com ou sem o traço separador.**\n",
        "\n",
        "\n",
        "\n",
        "```\n",
        "Valida e corrige número de telefone\n",
        "Telefone: 461-0133\n",
        "Telefone possui 7 dígitos. Vou acrescentar o digito três na frente.\n",
        "Telefone corrigido sem formatação: 34610133\n",
        "Telefone corrigido com formatação: 3461-0133\n",
        "```\n",
        "\n"
      ]
    },
    {
      "cell_type": "code",
      "metadata": {
        "id": "UKOfW_EJgZLX"
      },
      "source": [
        ""
      ],
      "execution_count": null,
      "outputs": []
    },
    {
      "cell_type": "markdown",
      "metadata": {
        "id": "xGA_p4nMgZr7"
      },
      "source": [
        "**Jogo da palavra embaralhada. Desenvolva um jogo em que o usuário tenha que adivinhar uma palavra que será mostrada com as letras embaralhadas. O programa terá uma lista de palavras lidas de um arquivo texto e escolherá uma aleatoriamente. O jogador terá seis tentativas para adivinhar a palavra. Ao final a palavra deve ser mostrada na tela, informando se o usuário ganhou ou perdeu o jogo.**"
      ]
    },
    {
      "cell_type": "code",
      "metadata": {
        "id": "95zhcZ2Mgc4n"
      },
      "source": [
        ""
      ],
      "execution_count": null,
      "outputs": []
    },
    {
      "cell_type": "markdown",
      "metadata": {
        "id": "cXJgom_zgdWb"
      },
      "source": [
        "**Leet spek generator. Leet é uma forma de se escrever o alfabeto latino usando outros símbolos em lugar das letras, como números por exemplo. A própria palavra leet admite muitas variações, como l33t ou 1337. O uso do leet reflete uma subcultura relacionada ao mundo dos jogos de computador e internet, sendo muito usada para confundir os iniciantes e afirmar-se como parte de um grupo. Pesquise sobre as principais formas de traduzir as letras. Depois, faça um programa que peça uma texto e transforme-o para a grafia leet speak.**"
      ]
    },
    {
      "cell_type": "code",
      "metadata": {
        "id": "u-fZVAjwggHL"
      },
      "source": [
        ""
      ],
      "execution_count": null,
      "outputs": []
    }
  ]
}