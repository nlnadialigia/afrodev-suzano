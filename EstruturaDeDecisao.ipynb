{
  "nbformat": 4,
  "nbformat_minor": 0,
  "metadata": {
    "colab": {
      "name": "EstruturaDeDecisao.ipynb",
      "provenance": [],
      "collapsed_sections": [],
      "include_colab_link": true
    },
    "kernelspec": {
      "name": "python3",
      "display_name": "Python 3"
    },
    "language_info": {
      "name": "python"
    }
  },
  "cells": [
    {
      "cell_type": "markdown",
      "metadata": {
        "id": "view-in-github",
        "colab_type": "text"
      },
      "source": [
        "<a href=\"https://colab.research.google.com/github/nlnadialigia/afrodev-suzano/blob/main/EstruturaDeDecisao.ipynb\" target=\"_parent\"><img src=\"https://colab.research.google.com/assets/colab-badge.svg\" alt=\"Open In Colab\"/></a>"
      ]
    },
    {
      "cell_type": "markdown",
      "metadata": {
        "id": "G_OlOhEvJ36b"
      },
      "source": [
        "**Faça um Programa que peça dois números e imprima o maior deles.**"
      ]
    },
    {
      "cell_type": "code",
      "metadata": {
        "id": "362fBqdZJ9zi",
        "colab": {
          "base_uri": "https://localhost:8080/"
        },
        "outputId": "01818367-d04e-4b42-a507-04e0ff9b1061"
      },
      "source": [
        "a = int(input('Digite um número: '))\n",
        "b = int(input('Digite outro número: '))\n",
        "resposta = f'{a} é maior que {b}' if a > b else f'{b} é maior que {a}'\n",
        "print(resposta)"
      ],
      "execution_count": null,
      "outputs": [
        {
          "output_type": "stream",
          "name": "stdout",
          "text": [
            "Digite um número: 6\n",
            "Digite outro número: 8\n",
            "8 é maior que 6\n"
          ]
        }
      ]
    },
    {
      "cell_type": "markdown",
      "metadata": {
        "id": "NP80SIo_J-2s"
      },
      "source": [
        "**Faça um Programa que peça um valor e mostre na tela se o valor é positivo ou negativo.**\n"
      ]
    },
    {
      "cell_type": "code",
      "metadata": {
        "id": "dcIuf2HoKCBA",
        "colab": {
          "base_uri": "https://localhost:8080/"
        },
        "outputId": "1df82849-272d-4cbf-f61a-37c9a6c76f08"
      },
      "source": [
        "valor = float(input('Digite um valor: '))\n",
        "\n",
        "if valor > 0:\n",
        "  print('O valor digitado é positivo')\n",
        "else:\n",
        "  print('O valor digitado é negativo')"
      ],
      "execution_count": null,
      "outputs": [
        {
          "output_type": "stream",
          "name": "stdout",
          "text": [
            "Digite um valor: -12\n",
            "O valor digitado é negativo\n"
          ]
        }
      ]
    },
    {
      "cell_type": "markdown",
      "metadata": {
        "id": "SKKJfiz5KChN"
      },
      "source": [
        "**Faça um Programa que verifique se uma letra digitada é \"F\" ou \"M\". Conforme a letra escrever: F - Feminino, M - Masculino, Sexo Inválido.**"
      ]
    },
    {
      "cell_type": "code",
      "metadata": {
        "id": "TTKGQOexKGhm",
        "colab": {
          "base_uri": "https://localhost:8080/"
        },
        "outputId": "deaa064d-0747-4f1f-e3ff-81f3829b79c2"
      },
      "source": [
        "letter = str(input('Digite o sexo [M/F]: ')).upper()\n",
        "if letter in 'FM':\n",
        "  choice = 'F - Feminino' if letter == 'F' else 'M - Masculino'\n",
        "  print(choice)\n",
        "else:\n",
        "  print('Sexo inválido!')"
      ],
      "execution_count": null,
      "outputs": [
        {
          "output_type": "stream",
          "name": "stdout",
          "text": [
            "Digite o sexo [M/F]: d\n",
            "Sexo inválido!\n"
          ]
        }
      ]
    },
    {
      "cell_type": "markdown",
      "metadata": {
        "id": "ZWWd3bCEKHDo"
      },
      "source": [
        "**Faça um Programa que verifique se uma letra digitada é vogal ou consoante.**\n"
      ]
    },
    {
      "cell_type": "code",
      "metadata": {
        "id": "VH92aUqxKL0u",
        "colab": {
          "base_uri": "https://localhost:8080/"
        },
        "outputId": "08557a27-a876-45dd-9eb9-e1f5be0d6d76"
      },
      "source": [
        "vogais = ['a', 'e', 'i', 'o', 'u']\n",
        "letra = str(input('Digite uma letra: ')).lower()\n",
        "resposta = f'A letra {letra.upper()} é uma vogal.' if letra in vogais else f'A letra {letra.upper()} é uma consoante.'\n",
        "print(resposta)\n"
      ],
      "execution_count": null,
      "outputs": [
        {
          "output_type": "stream",
          "name": "stdout",
          "text": [
            "Digite uma letra: i\n",
            "A letra I é uma vogal.\n"
          ]
        }
      ]
    },
    {
      "cell_type": "markdown",
      "metadata": {
        "id": "-EWVLFREKOUm"
      },
      "source": [
        "**Faça um programa para a leitura de duas notas parciais de um aluno. O programa deve calcular a média alcançada por aluno e apresentar:**\n",
        "\n",
        "1. A mensagem \"Aprovado\", se a média alcançada for maior ou igual a sete;\n",
        "2. A mensagem \"Reprovado\", se a média for menor do que sete;\n",
        "3. A mensagem \"Aprovado com Distinção\", se a média for igual a dez.\n"
      ]
    },
    {
      "cell_type": "code",
      "metadata": {
        "id": "BOn_4lfHKlel",
        "colab": {
          "base_uri": "https://localhost:8080/"
        },
        "outputId": "f572d89b-ad59-4e54-ec36-7f87c8f73dde"
      },
      "source": [
        "soma = 0\n",
        "for i in range(2):\n",
        "  nota = float(input(f'Digite a {i + 1}ª nota: '))\n",
        "  soma += nota\n",
        "media = soma / 2\n",
        "print(f'A média do aluno é {media:.2f}')\n",
        "print('Resultado: ', end='')\n",
        "if media < 7:\n",
        "  print('Reprovado')\n",
        "elif media >= 7 and media < 10:\n",
        "  print('Aprovado')\n",
        "else :\n",
        "  print('Aprovado com Distinção')"
      ],
      "execution_count": null,
      "outputs": [
        {
          "output_type": "stream",
          "name": "stdout",
          "text": [
            "Digite a 1ª nota: 10\n",
            "Digite a 2ª nota: 10\n",
            "A média do aluno é 10.00\n",
            "Resultado: Aprovado com Distinção\n"
          ]
        }
      ]
    },
    {
      "cell_type": "markdown",
      "metadata": {
        "id": "uJ-YSfcqKm9L"
      },
      "source": [
        "**Faça um Programa que leia três números e mostre o maior deles.**"
      ]
    },
    {
      "cell_type": "code",
      "metadata": {
        "id": "WLor82RpKqtA",
        "colab": {
          "base_uri": "https://localhost:8080/"
        },
        "outputId": "12e2b890-f0f1-4328-f83a-da8d3f7adbc4"
      },
      "source": [
        "for i in range(3):\n",
        "  numero = float(input('Digite um numero: '))\n",
        "  if i == 0:\n",
        "    maior = numero\n",
        "  elif numero > maior:\n",
        "    maior = numero\n",
        "print(f'O maior número digitado é {int(maior)}')"
      ],
      "execution_count": null,
      "outputs": [
        {
          "output_type": "stream",
          "name": "stdout",
          "text": [
            "Digite um numero: 235\n",
            "Digite um numero: 0\n",
            "Digite um numero: -25\n",
            "O maior número digitado é 235\n"
          ]
        }
      ]
    },
    {
      "cell_type": "markdown",
      "metadata": {
        "id": "S5FF994WKrQE"
      },
      "source": [
        "**Faça um Programa que leia três números e mostre o maior e o menor deles.**"
      ]
    },
    {
      "cell_type": "code",
      "metadata": {
        "id": "Ll3Xi6ztKuQz",
        "colab": {
          "base_uri": "https://localhost:8080/"
        },
        "outputId": "4333acb9-c0c1-41e9-94d4-17a2d97779fd"
      },
      "source": [
        "for i in range(3):\n",
        "  numero = float(input('Digite um numero: '))\n",
        "  if i == 0:\n",
        "    maior = menor = numero\n",
        "  elif numero > maior:\n",
        "    maior = numero\n",
        "  elif numero < menor:\n",
        "    menor = numero\n",
        "print(f'O maior número é {maior}')\n",
        "print(f'O menor número é {menor}')"
      ],
      "execution_count": null,
      "outputs": [
        {
          "output_type": "stream",
          "name": "stdout",
          "text": [
            "Digite um numero: 5.5\n",
            "Digite um numero: 7\n",
            "Digite um numero: 9\n",
            "O maior número é 9\n",
            "O menor número é 6\n"
          ]
        }
      ]
    },
    {
      "cell_type": "markdown",
      "metadata": {
        "id": "bKJZhsWvKuxK"
      },
      "source": [
        "**Faça um programa que pergunte o preço de três produtos e informe qual produto você deve comprar, sabendo que a decisão é sempre pelo mais barato.**"
      ]
    },
    {
      "cell_type": "code",
      "metadata": {
        "id": "tEqrpqB4KyEk",
        "colab": {
          "base_uri": "https://localhost:8080/"
        },
        "outputId": "6f7d4068-a269-4fde-8482-930245274f00"
      },
      "source": [
        "menor = 0\n",
        "\n",
        "for i in range(3):\n",
        "    x = False\n",
        "\n",
        "    while not x:\n",
        "        preco = input('Informe o preço do produto: R$')\n",
        "        if preco.isnumeric():\n",
        "            preco = float(preco)\n",
        "            if i == 0:\n",
        "                menor = preco\n",
        "            elif preco < menor:\n",
        "                menor = preco\n",
        "            x = True\n",
        "        else:\n",
        "            print('Preço inválido!')\n",
        "\n",
        "print(f'Compre o produto de valor R${menor:.2f}, que é o mais barato.')\n",
        "  \n"
      ],
      "execution_count": null,
      "outputs": [
        {
          "output_type": "stream",
          "name": "stdout",
          "text": [
            "Informe o preço do produto: R$50\n",
            "Informe o preço do produto: R$25\n",
            "Informe o preço do produto: R$12\n",
            "Compre o produto de valor R$12.00, que é o mais barato\n"
          ]
        }
      ]
    },
    {
      "cell_type": "markdown",
      "metadata": {
        "id": "wnzNpHXjKykv"
      },
      "source": [
        "**Faça um Programa que leia três números e mostre-os em ordem decrescente.**"
      ]
    },
    {
      "cell_type": "code",
      "metadata": {
        "id": "BswFXISGK8hH",
        "colab": {
          "base_uri": "https://localhost:8080/"
        },
        "outputId": "2b991993-b219-4c5e-f0cc-d0e514580386"
      },
      "source": [
        "lista = []\n",
        "for i in range(1, 4):\n",
        "    x = False\n",
        "    while not x:\n",
        "        num = input(f'Digite o {i}º número: ')\n",
        "        if num.isalpha():\n",
        "            print('Valor inválido.')\n",
        "        else:\n",
        "            num = float(num)\n",
        "            lista.append(num)\n",
        "            x = True\n",
        "\n",
        "lista.sort(reverse=True)\n",
        "print(f'Números em ordem decrescent: {lista}')"
      ],
      "execution_count": null,
      "outputs": [
        {
          "output_type": "stream",
          "name": "stdout",
          "text": [
            "Digite o 1º número: 8\n",
            "Digite o 2º número: -5\n",
            "Digite o 3º número: b\n",
            "Valor inválido.\n",
            "Digite o 3º número: 7\n",
            "Números em ordem decrescent: [8.0, 7.0, -5.0]\n"
          ]
        }
      ]
    },
    {
      "cell_type": "markdown",
      "metadata": {
        "id": "dZgiN0p-K9Oz"
      },
      "source": [
        "**Faça um Programa que pergunte em que turno você estuda. Peça para digitar M-matutino ou V-Vespertino ou N- Noturno. Imprima a mensagem \"Bom Dia!\", \"Boa Tarde!\" ou \"Boa Noite!\" ou \"Valor Inválido!\", conforme o caso.**"
      ]
    },
    {
      "cell_type": "code",
      "metadata": {
        "id": "m53GR8H7LA29",
        "colab": {
          "base_uri": "https://localhost:8080/"
        },
        "outputId": "b0969659-32d6-41ae-8e27-030766882bb2"
      },
      "source": [
        "while True:\n",
        "    questao = input('Em que turno você estuda? [M/V/N]: ').upper()\n",
        "\n",
        "    if questao in 'MVN':\n",
        "        if questao == 'M':\n",
        "            print('Bom dia!')\n",
        "        elif questao == 'V':\n",
        "            print('Boa tarde!')\n",
        "        else:\n",
        "            print('Boa noite!')\n",
        "        break\n",
        "    else:\n",
        "        print('Valor inválido!')\n",
        "\n"
      ],
      "execution_count": null,
      "outputs": [
        {
          "output_type": "stream",
          "name": "stdout",
          "text": [
            "Em que turno você estuda? [M/V/N]: m\n",
            "Bom dia!\n"
          ]
        }
      ]
    },
    {
      "cell_type": "markdown",
      "metadata": {
        "id": "X8zxnsKeLBVL"
      },
      "source": [
        "**As Organizações Tabajara resolveram dar um aumento de salário aos seus colaboradores e lhe contraram para desenvolver o programa que calculará os reajustes.**\n",
        "\n",
        "**Faça um programa que recebe o salário de um colaborador e o reajuste segundo o seguinte critério, baseado no salário atual:**\n",
        "\n",
        "1. salários até 280,00 (incluindo): aumento de 20%\n",
        "\n",
        "2. salários entre 280,00 e 700,00: aumento de 15%\n",
        "\n",
        "3. salários entre 700,00 e 1500,00: aumento de 10%\n",
        "\n",
        "4. salários de R$ 1500,00 em diante: aumento de 5% Após o aumento ser realizado, informe na tela:\n",
        "\n",
        "- salário antes do reajuste;\n",
        "- percentual de aumento aplicado;\n",
        "- valor do aumento;\n",
        "- novo salário, após o aumento.\n"
      ]
    },
    {
      "cell_type": "code",
      "metadata": {
        "id": "UifAoSNjLbL3",
        "colab": {
          "base_uri": "https://localhost:8080/"
        },
        "outputId": "97b06efd-f8ce-4567-f6b3-e0ea17c1388b"
      },
      "source": [
        "salario_inicial = float(input('Qual seu salário? R$'))\n",
        "\n",
        "\n",
        "def aumento():\n",
        "    if salario_inicial <= 280:\n",
        "        p = 20\n",
        "    elif 280 < salario_inicial <= 700:\n",
        "        p = 15\n",
        "    elif 700 < salario_inicial <= 1500:\n",
        "        p = 10\n",
        "    else:\n",
        "        p = 5\n",
        "    return p\n",
        "\n",
        "\n",
        "percentual = aumento()\n",
        "reajuste = salario_inicial * percentual / 100\n",
        "novo_salario = salario_inicial + reajuste\n",
        "\n",
        "\n",
        "print(f'''\n",
        "- Salário antes do reajuste: R${salario_inicial:.2f}\n",
        "- Percentual de aumento: {percentual}%\n",
        "- Valor do aumento: {reajuste:.2f}\n",
        "- Novo salário: {novo_salario:.2f}\n",
        "''')"
      ],
      "execution_count": null,
      "outputs": [
        {
          "output_type": "stream",
          "name": "stdout",
          "text": [
            "Qual seu salário? R$350\n",
            "\n",
            "- Salário antes do reajuste: R$350.00\n",
            "- Percentual de aumento: 15%\n",
            "- Valor do aumento: 52.50\n",
            "- Novo salário: 402.50\n",
            "\n"
          ]
        }
      ]
    },
    {
      "cell_type": "markdown",
      "metadata": {
        "id": "iP1kUENOMgsL"
      },
      "source": [
        "**Faça um programa para o cálculo de uma folha de pagamento, sabendo que os descontos são do Imposto de Renda, que depende do salário bruto (conforme tabela abaixo) e 3% para o Sindicato e que o FGTS corresponde a 11% do Salário Bruto, mas não é descontado (é a empresa que deposita). O Salário Líquido corresponde ao Salário Bruto menos os descontos. O programa deverá pedir ao usuário o valor da sua hora e a quantidade de horas trabalhadas no mês.**\n",
        "\n",
        "Desconto do IR:\n",
        "\n",
        "1. Salário Bruto até 900 (inclusive) - isento\n",
        "\n",
        "2. Salário Bruto até 1500 (inclusive) - desconto de 5%\n",
        "\n",
        "3. Salário Bruto até 2500 (inclusive) - desconto de 10%\n",
        "\n",
        "4. Salário Bruto acima de 2500 - desconto de 20% Imprima na tela as informações, dispostas conforme o exemplo abaixo. No exemplo o valor da hora é 5 e a quantidade de hora é 220.\n",
        "\n",
        "*Exemplo:*\n",
        "```\n",
        "Salário Bruto: (5 * 220)          : R$ 1100,00\n",
        "  (-) IR (5%)                     : R$   55,00  \n",
        "  (-) INSS ( 10%)                 : R$  110,00\n",
        "  FGTS (11%)                      : R$  121,00\n",
        "  Total de descontos              : R$  165,00\n",
        "  Salário Liquido                 : R$  935,00\n",
        "\n",
        "```\n",
        "\n"
      ]
    },
    {
      "cell_type": "code",
      "metadata": {
        "id": "Wq6u_3SSM4pa",
        "colab": {
          "base_uri": "https://localhost:8080/"
        },
        "outputId": "66491fab-3bb5-462b-83cf-1ca763db0813"
      },
      "source": [
        "def real(n):\n",
        "    n = f'{n:_.2f}'\n",
        "    n = n.replace('.', ',').replace('_', '.')\n",
        "    return n\n",
        "\n",
        "\n",
        "try:\n",
        "    vh = float(input('Digite o valor da hora trabalhada: '))\n",
        "    ht = float(input('Digite as horas trabalhadas: '))\n",
        "except (ValueError, TypeError) as error:\n",
        "    print(f'ERRO ao processar informações: {error}')\n",
        "except KeyboardInterrupt:\n",
        "    print('\\nO usuário interrompeu a execução do programa')\n",
        "else:\n",
        "    sb = vh * ht\n",
        "    ir = sb * 0.05\n",
        "    inss = sb * 0.10\n",
        "    fgts = sb * 0.11\n",
        "    descontos = ir + inss\n",
        "    sl = sb - descontos\n",
        "    print(f'''\n",
        "    Salário Bruto: ({vh} * {ht})      : R$ {real(sb):>10}\n",
        "      (-) IR (5%)                     : R$ {real(ir):>10}\n",
        "      (-) INSS ( 10%)                 : R$ {real(inss):>10}\n",
        "      FGTS (11%)                      : R$ {real(fgts):>10}\n",
        "      Total de descontos              : R$ {real(descontos):>10}\n",
        "      Salário Liquido                 : R$ {real(sl):>10}\n",
        "    ''')\n"
      ],
      "execution_count": null,
      "outputs": [
        {
          "output_type": "stream",
          "name": "stdout",
          "text": [
            "Digite o valor da hora trabalhada: 5\n",
            "Digite as horas trabalhadas: 220\n",
            "\n",
            "    Salário Bruto: (5.0 * 220.0)      : R$   1.100,00\n",
            "      (-) IR (5%)                     : R$      55,00\n",
            "      (-) INSS ( 10%)                 : R$     110,00\n",
            "      FGTS (11%)                      : R$     121,00\n",
            "      Total de descontos              : R$     165,00\n",
            "      Salário Liquido                 : R$     935,00\n",
            "    \n"
          ]
        }
      ]
    },
    {
      "cell_type": "markdown",
      "metadata": {
        "id": "64n0wAXxNiUr"
      },
      "source": [
        "**Faça um Programa que leia um número e exiba o dia correspondente da semana. (1-Domingo, 2- Segunda, etc.), se digitar outro valor deve aparecer valor inválido.**"
      ]
    },
    {
      "cell_type": "code",
      "metadata": {
        "id": "yhH7ivq6NoQW",
        "colab": {
          "base_uri": "https://localhost:8080/"
        },
        "outputId": "a9d01f0b-cb6a-4150-ea19-646c7fc6aa01"
      },
      "source": [
        "semana = ['Domingo', 'Segunda', 'Terça', 'Quarta', 'Quinta', 'Sexta', 'Sábado']\n",
        "try:\n",
        "    escolha = int(input('Digite um número de 1 a 7: '))\n",
        "except Exception as error:\n",
        "    print(f'Valor inválido => {error}')\n",
        "except KeyboardInterrupt:\n",
        "    print('Usuário interrompeu a execução do programa')\n",
        "else:\n",
        "    if 1 <= escolha <= 7:\n",
        "        for i, value in enumerate(semana, start=1):\n",
        "            if i == escolha:\n",
        "                print(f'{i}-{value}')\n",
        "    else:\n",
        "        print('Valor inválido')"
      ],
      "execution_count": null,
      "outputs": [
        {
          "output_type": "stream",
          "name": "stdout",
          "text": [
            "Digite um número de 1 a 7: 3\n",
            "3-Terça\n"
          ]
        }
      ]
    },
    {
      "cell_type": "markdown",
      "metadata": {
        "id": "YF4LUV_GNpzj"
      },
      "source": [
        "**Faça um programa que lê as duas notas parciais obtidas por um aluno numa disciplina ao longo de um semestre, e calcule a sua média. A atribuição de conceitos obedece à tabela abaixo:**\n",
        "\n",
        "```  \n",
        "Média de Aproveitamento  Conceito\n",
        "  Entre 9.0 e 10.0        A\n",
        "  Entre 7.5 e 9.0         B\n",
        "  Entre 6.0 e 7.5         C\n",
        "  Entre 4.0 e 6.0         D\n",
        "  Entre 4.0 e zero        E\n",
        "```\n",
        "\n",
        "*O algoritmo deve mostrar na tela as notas, a média, o conceito correspondente e a mensagem “APROVADO” se o conceito for A, B ou C ou “REPROVADO” se o conceito for D ou E.*"
      ]
    },
    {
      "cell_type": "code",
      "metadata": {
        "id": "vYrbdnTHN5Wp",
        "colab": {
          "base_uri": "https://localhost:8080/"
        },
        "outputId": "8afca5d2-5ed9-4a24-c1d5-50f930ea57e0"
      },
      "source": [
        "def aproveitamento(num):\n",
        "    conceito = ''\n",
        "    if 0 <= num < 4:\n",
        "        conceito = 'E'\n",
        "    elif 4 <= num < 6:\n",
        "        conceito = 'D'\n",
        "    elif 6 <= num < 7.5:\n",
        "        conceito = 'C'\n",
        "    elif 7.5 <= num < 9:\n",
        "        conceito = 'B'\n",
        "    elif 9 <= num < 10:\n",
        "        conceito = 'A'\n",
        "    return conceito\n",
        "\n",
        "\n",
        "def resultado(conceito):\n",
        "    mensagem = ''\n",
        "    if aproveitamento(media) in 'ABC':\n",
        "        mensagem = 'APROVADO'\n",
        "    else:\n",
        "        mensagem = 'REPROVADO'\n",
        "    return mensagem\n",
        "\n",
        "\n",
        "notas = []\n",
        "try:\n",
        "    for i in range(2):\n",
        "        nota = float(input(f'Digite a {i + 1}ª nota: '))\n",
        "        notas.append(nota)\n",
        "except Exception as error:\n",
        "    print(f'ERRO => {error}')\n",
        "except KeyboardInterrupt:\n",
        "    print('Usuário interrompeu a execução do programa.')\n",
        "else:\n",
        "    media = sum(notas) / len(notas)\n",
        "    print(f'Notas: {notas}')\n",
        "    print(f'Média: {media:.1f}')\n",
        "    print(f'Conceito: {aproveitamento(media)}')\n",
        "    print(f'Resultado: {resultado(aproveitamento(media))}')"
      ],
      "execution_count": null,
      "outputs": [
        {
          "output_type": "stream",
          "name": "stdout",
          "text": [
            "Digite a 1ª nota: 8\n",
            "Digite a 2ª nota: 9\n",
            "Notas: [8.0, 9.0]\n",
            "Média: 8.5\n",
            "Conceito: B\n",
            "Resultado: APROVADO\n"
          ]
        }
      ]
    },
    {
      "cell_type": "markdown",
      "metadata": {
        "id": "HOYZSQ3cN7Ge"
      },
      "source": [
        "**Faça um Programa que peça os 3 lados de um triângulo. O programa deverá informar se os valores podem ser um triângulo. Indique, caso os lados formem um triângulo, se o mesmo é: equilátero, isósceles ou escaleno.**\n",
        "\n",
        "**Dicas:**\n",
        "1. Três lados formam um triângulo quando a soma de quaisquer dois lados for maior que o terceiro;\n",
        "\n",
        "2. Triângulo Equilátero: três lados iguais;\n",
        "\n",
        "3. Triângulo Isósceles: quaisquer dois lados iguais;\n",
        "\n",
        "4. Triângulo Escaleno: três lados diferentes;"
      ]
    },
    {
      "cell_type": "code",
      "metadata": {
        "id": "akr8zFWaOIV6",
        "colab": {
          "base_uri": "https://localhost:8080/"
        },
        "outputId": "c5e3d2cf-ae1c-4b67-fdec-65efbe7dd94f"
      },
      "source": [
        "print('Analisdor de Triângulos'.center(30))\n",
        "print('*' * 30)\n",
        "a = float(input('Primeiro segmento: '))\n",
        "b = float(input('Segundo segmento: '))\n",
        "c = float(input('Terceiro segmento: '))\n",
        "if a < b + c and b < a + c and c < a + b:\n",
        "    if a == b and b == c:\n",
        "        print('Os segmentos acima formam um Triângulo EQUILÁTERO: todos os lados são iguais')\n",
        "    elif a == b and b != c:\n",
        "        print('Os segmentos acima formam um Triângulo ISÓCELES: dois lados iguais e um diferente')\n",
        "    else:\n",
        "        print('Os segmentos acima forma um Triângulo ESCALENO: todos os lados são diferentes.')\n",
        "else:\n",
        "    print('Os segmentos acima NÃO PODEM FORMAR triângulo!')"
      ],
      "execution_count": 4,
      "outputs": [
        {
          "output_type": "stream",
          "name": "stdout",
          "text": [
            "   Analisdor de Triângulos    \n",
            "******************************\n",
            "Primeiro segmento: 9\n",
            "Segundo segmento: 6\n",
            "Terceiro segmento: 12\n",
            "Os segmentos acima forma um Triângulo ESCALENO: todos os lados são diferentes.\n"
          ]
        }
      ]
    },
    {
      "cell_type": "markdown",
      "metadata": {
        "id": "7qb30_aDOXQV"
      },
      "source": [
        "**Faça um programa que calcule as raízes de uma equação do segundo grau, na forma ax2 + bx + c. O programa deverá pedir os valores de a, b e c e fazer as consistências, informando ao usuário nas seguintes situações:**\n",
        "\n",
        "1. Se o usuário informar o valor de A igual a zero, a equação não é do segundo grau e o programa não deve fazer pedir os demais valores, sendo encerrado;\n",
        "2. Se o delta calculado for negativo, a equação não possui raizes reais. Informe ao usuário e encerre o programa;\n",
        "3. Se o delta calculado for igual a zero a equação possui apenas uma raiz real; informe-a ao usuário;\n",
        "4. Se o delta for positivo, a equação possui duas raiz reais; informe-as ao usuário;\n"
      ]
    },
    {
      "cell_type": "code",
      "metadata": {
        "id": "tmqHR-FGOlHx",
        "colab": {
          "base_uri": "https://localhost:8080/"
        },
        "outputId": "fbd94d91-1847-40a3-b044-59d218da8211"
      },
      "source": [
        "from math import sqrt\n",
        "\n",
        "print('EQUAÇÃO DO SEGUNDO GRAU'.center(60))\n",
        "print('*' * 60)\n",
        "\n",
        "try:\n",
        "  a = float(input('Digite o valor de a: '))\n",
        "  if a != 0:\n",
        "    b = float(input('Digite o valor de b: '))\n",
        "    c = float(input('Digite o valor de c: '))\n",
        "    delta = (b * b) - (4 * a * c)\n",
        "    if delta < 0:\n",
        "      print('A equação não possui raízes reais.')\n",
        "    else:\n",
        "      x1 = (-b + sqrt(delta)) / 2\n",
        "      x2 = (-b - sqrt(delta)) / 2\n",
        "      print(f'\\033[1;34mAs raízes da equação são: x1 = {x1} e x2 = {x2}\\033[0m')\n",
        "  else:\n",
        "    print(f'\\033[1;31mCoeficinte de a = 0. A equação não é do segundo grau!\\033[0m')\n",
        "except Exception as error:\n",
        "  print(f'ERRO => {error}')\n",
        "except KeyboardInterrupt:\n",
        "  print('\\033[1;31mUsuário interrompeu o processo.\\033[m')\n",
        "else:\n",
        "  print('*' * 60)\n",
        "  print('FIM DO PROGRAMA!'.center(60))\n",
        "\n"
      ],
      "execution_count": 37,
      "outputs": [
        {
          "output_type": "stream",
          "name": "stdout",
          "text": [
            "                  EQUAÇÃO DO SEGUNDO GRAU                   \n",
            "************************************************************\n",
            "Digite o valor de a: 0\n",
            "\u001b[1;31mCoeficinte de a = 0. A equação não é do segundo grau!\u001b[0m\n",
            "************************************************************\n",
            "                      FIM DO PROGRAMA!                      \n"
          ]
        }
      ]
    },
    {
      "cell_type": "markdown",
      "metadata": {
        "id": "KnFPLrs6OK-U"
      },
      "source": [
        "**Faça um Programa que peça um número correspondente a um determinado ano e em seguida informe se este ano é ou não bissexto.**"
      ]
    },
    {
      "cell_type": "code",
      "metadata": {
        "id": "8fGApHJDOovT",
        "colab": {
          "base_uri": "https://localhost:8080/"
        },
        "outputId": "63bc11cc-1816-4bc4-f3da-d9c299ca7328"
      },
      "source": [
        "from datetime import date\n",
        "\n",
        "try:\n",
        "  year = int(input('Que ano quer analisar? Coloque 0 para analisar o ano atual: '))\n",
        "except Exception as error:\n",
        "  print(f'ERRO => {error}')\n",
        "except KeyboardInterrupt:\n",
        "  print('Usuário interrompeu a execução.')\n",
        "else:\n",
        "  print(f'O ano {year}', end=' ')\n",
        "  if year % 4 == 0 and year % 100 != 0 or year % 400 == 0:\n",
        "      print('é bissexto')\n",
        "  else:\n",
        "      print('não é bissexto')"
      ],
      "execution_count": 42,
      "outputs": [
        {
          "output_type": "stream",
          "name": "stdout",
          "text": [
            "Que ano quer analisar? Coloque 0 para analisar o ano atual: 1977\n",
            "O ano 1977 não é bissexto\n"
          ]
        }
      ]
    },
    {
      "cell_type": "markdown",
      "metadata": {
        "id": "n7hGQuDdOqlj"
      },
      "source": [
        "**Faça um Programa que peça uma data no formato dd/mm/aaaa e determine se a mesma é uma data válida.**\n"
      ]
    },
    {
      "cell_type": "code",
      "metadata": {
        "id": "iNgmj-yVOvFW",
        "colab": {
          "base_uri": "https://localhost:8080/"
        },
        "outputId": "e44d058a-6005-4188-bafc-abeff4d5313c"
      },
      "source": [
        "# Validar o input\n",
        "verifica = True\n",
        "while verifica:\n",
        "  data = input('Digite uma data [dd/mm/aaaa]: ')\n",
        "  if len(data) == 10:\n",
        "    if ('/') in data:\n",
        "      verifica = False\n",
        "      continue\n",
        "  else:\n",
        "    print('Entre com a data no formato correto!')\n",
        "# print(data)\n",
        "data = data.split('/')\n",
        "dia = int(data[0])\n",
        "mes = int(data[1])\n",
        "ano = int(data[2])\n",
        "\n",
        "valida = False\n",
        "\n",
        "# Meses com 31 dias\n",
        "if( mes==1 or mes==3 or mes==5 or mes==7 or \\\n",
        "    mes==8 or mes==10 or mes==12):\n",
        "    if(dia<=31):\n",
        "        valida = True\n",
        "# Meses com 30 dias\n",
        "elif( mes==4 or mes==6 or mes==9 or mes==11):\n",
        "    if(dia<=30):\n",
        "        valida = True\n",
        "elif mes==2:\n",
        "    # Testa se é bissexto\n",
        "    if (ano%4==0 and ano%100!=0) or (ano%400==0):\n",
        "        if(dia<=29):\n",
        "            valida = True\n",
        "    elif(dia<=28):\n",
        "            valida = True\n",
        "\n",
        "if(valida):\n",
        "    print('Data válida')\n",
        "else:\n",
        "    print('Data Inválida')\n"
      ],
      "execution_count": 77,
      "outputs": [
        {
          "output_type": "stream",
          "name": "stdout",
          "text": [
            "Digite uma data [dd/mm/aaaa]: 12/09/1988\n",
            "Data válida\n"
          ]
        }
      ]
    },
    {
      "cell_type": "markdown",
      "metadata": {
        "id": "Wqn9Zv1dOv2x"
      },
      "source": [
        "**Faça um Programa que leia um número inteiro menor que 1000 e imprima a quantidade de centenas, dezenas e unidades do mesmo.**\n",
        "\n",
        "**Observando os termos no plural a colocação do \"e\", da vírgula entre outros.**\n",
        "\n",
        "Exemplo:\n",
        "\n",
        "\n",
        "```\n",
        "326 = 3 centenas, 2 dezenas e 6 unidades\n",
        "\n",
        "12 = 1 dezena e 2 unidades Testar com: 326, 300, 100, 320, 310,305, 301, 101, 311, 111, 25, 20, 10, 21, 11, 1, 7 e 16\n",
        "\n",
        "```\n",
        "\n",
        "\n",
        "\n"
      ]
    },
    {
      "cell_type": "code",
      "metadata": {
        "id": "LY1evJaKPKlL",
        "colab": {
          "base_uri": "https://localhost:8080/"
        },
        "outputId": "be2e3be4-81a8-4b79-d040-d7ac265e122f"
      },
      "source": [
        "num = int(input('Digite um número inteiro menor que 1000: '))\n",
        "\n",
        "if 0 < num < 1000:\n",
        "  u = num // 1 % 10\n",
        "  d = num // 10 % 10\n",
        "  c = num // 100 % 10\n",
        "  print(f'{num} =', end=' ')\n",
        "\n",
        "  def formatacao(n, desc):\n",
        "    if n > 1:\n",
        "      print(f'{n} {desc}s', end='')\n",
        "    else:\n",
        "      print(f'{n} {desc}', end='')\n",
        " \n",
        "if 0 < num < 10:\n",
        "  funcao(u, 'unidade')\n",
        "elif 10 <= num < 100:\n",
        "  funcao(d, 'dezena')\n",
        "  print(' e', end=' ')\n",
        "  funcao(u, 'unidade')\n",
        "else:\n",
        "  funcao(c, 'centena')\n",
        "  print(',', end=' ')\n",
        "  funcao(d, 'dezena')\n",
        "  print(' e', end=' ')\n",
        "  funcao(u, 'unidade')\n"
      ],
      "execution_count": 100,
      "outputs": [
        {
          "output_type": "stream",
          "name": "stdout",
          "text": [
            "Digite um número inteiro menor que 1000: 7\n",
            "7 = 7 unidades"
          ]
        }
      ]
    },
    {
      "cell_type": "markdown",
      "metadata": {
        "id": "UVwXqCw3PPsE"
      },
      "source": [
        ""
      ]
    }
  ]
}