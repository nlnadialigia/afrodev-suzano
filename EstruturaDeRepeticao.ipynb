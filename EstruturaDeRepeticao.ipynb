{
  "nbformat": 4,
  "nbformat_minor": 0,
  "metadata": {
    "colab": {
      "name": "EstruturaDeRepeticao.ipynb",
      "provenance": [],
      "collapsed_sections": [],
      "include_colab_link": true
    },
    "kernelspec": {
      "name": "python3",
      "display_name": "Python 3"
    },
    "language_info": {
      "name": "python"
    }
  },
  "cells": [
    {
      "cell_type": "markdown",
      "metadata": {
        "id": "view-in-github",
        "colab_type": "text"
      },
      "source": [
        "<a href=\"https://colab.research.google.com/github/nlnadialigia/afrodev-suzano/blob/main/EstruturaDeRepeticao.ipynb\" target=\"_parent\"><img src=\"https://colab.research.google.com/assets/colab-badge.svg\" alt=\"Open In Colab\"/></a>"
      ]
    },
    {
      "cell_type": "markdown",
      "metadata": {
        "id": "vuwqepc2UEn1"
      },
      "source": [
        "#Estrutura de Repetição"
      ]
    },
    {
      "cell_type": "markdown",
      "metadata": {
        "id": "i0VWYDyXUJKa"
      },
      "source": [
        "**Faça um programa que peça uma nota, entre zero e dez. Mostre uma mensagem caso o valor seja inválido e continue pedindo até que o usuário informe um valor válido.**"
      ]
    },
    {
      "cell_type": "code",
      "metadata": {
        "id": "CnhWjyNlUEDz",
        "colab": {
          "base_uri": "https://localhost:8080/"
        },
        "outputId": "f76acf88-2355-41d4-9c87-300374804be1"
      },
      "source": [
        "validar = True\n",
        "\n",
        "while validar:\n",
        "  nota = input('Digite uma nota de 0 a 10: ')\n",
        "  if nota.isnumeric():\n",
        "    nota = int(nota)\n",
        "    if 0 <= nota <= 10:\n",
        "      validar = False\n",
        "    else:\n",
        "      print('Valor inválido!')\n",
        "  else:\n",
        "    print('Valor inválido!')\n",
        "print('FIM DO PROGRAMA')\n"
      ],
      "execution_count": 14,
      "outputs": [
        {
          "output_type": "stream",
          "name": "stdout",
          "text": [
            "Digite uma nota de 0 a 10: 15\n",
            "Valor inválido!\n",
            "Digite uma nota de 0 a 10: e\n",
            "Valor inválido!\n",
            "Digite uma nota de 0 a 10: 6\n",
            "FIM DO PROGRAMA\n"
          ]
        }
      ]
    },
    {
      "cell_type": "markdown",
      "metadata": {
        "id": "oDJTeGNYUMqc"
      },
      "source": [
        "**Faça um programa que leia um nome de usuário e a sua senha e não aceite a senha igual ao nome do usuário, mostrando uma mensagem de erro e voltando a pedir as informações.**"
      ]
    },
    {
      "cell_type": "code",
      "metadata": {
        "id": "XZToYXP2UPIp",
        "colab": {
          "base_uri": "https://localhost:8080/"
        },
        "outputId": "38a28249-c503-4c13-85cf-effeff6357c9"
      },
      "source": [
        "x = True\n",
        "nome = input('Digite seu nome: ').upper()\n",
        "while x:\n",
        "  senha = input('Digite uma senha: ').upper()\n",
        "  if nome == senha:\n",
        "    print('Digite uma senha diferente do seu nome')\n",
        "  else:\n",
        "    x = False\n",
        "print('Senha cadastrada com sucesso!')\n"
      ],
      "execution_count": null,
      "outputs": [
        {
          "output_type": "stream",
          "name": "stdout",
          "text": [
            "Digite seu nome: nadia\n",
            "Digite uma senha: nadia\n",
            "Digite uma senha diferente do seu nome\n",
            "Digite uma senha: Nadia\n",
            "Digite uma senha diferente do seu nome\n",
            "Digite uma senha: ligia\n",
            "Senha cadastrada com sucesso!\n"
          ]
        }
      ]
    },
    {
      "cell_type": "markdown",
      "metadata": {
        "id": "UmsV2VroUPiX"
      },
      "source": [
        "**Faça um programa que leia e valide as seguintes informações:**\n",
        "1. Nome: maior que 3 caracteres;\n",
        "2. Idade: entre 0 e 150;\n",
        "3. Salário: maior que zero;\n",
        "4. Sexo: 'f' ou 'm';\n",
        "5. Estado Civil: 's', 'c', 'v', 'd';\n"
      ]
    },
    {
      "cell_type": "code",
      "metadata": {
        "id": "E8mZ4ZEPUbfk",
        "colab": {
          "base_uri": "https://localhost:8080/"
        },
        "outputId": "6ab50c81-a7b3-494d-df67-b42fa97fd880"
      },
      "source": [
        "def validacao(campo, condicao):\n",
        "  if not condicao:\n",
        "    print(f'Campo inválido!')\n",
        "\n",
        "\n",
        "nome = input('Nome: ').upper()\n",
        "validacao(nome, len(nome) > 3)\n",
        "\n",
        "idade = int(input('Idade: '))\n",
        "validacao(idade, 0 <= idade <= 150)\n",
        "\n",
        "salario = float(input('Salário: R$'))\n",
        "validacao(salario, salario > 0)\n",
        "\n",
        "sexo = input('Sexo [F/M]: ').upper()\n",
        "validacao(sexo, sexo in 'FM')\n",
        "\n",
        "estado_civil = input('Estado Civil [S/C/V/D]: ').upper()\n",
        "validacao(estado_civil, estado_civil in 'SCVD')\n",
        "\n",
        "print('*' * 50)\n",
        "print('FIM DO PROGRAMA')\n"
      ],
      "execution_count": 41,
      "outputs": [
        {
          "output_type": "stream",
          "name": "stdout",
          "text": [
            "Nome: na\n",
            "Campo inválido!\n",
            "Idade: 53\n",
            "Salário: R$0\n",
            "Campo inválido!\n",
            "Sexo [F/M]: f\n",
            "Estado Civil [S/C/V/D]: c\n",
            "**************************************************\n",
            "FIM DO PROGRAMA\n"
          ]
        }
      ]
    },
    {
      "cell_type": "markdown",
      "metadata": {
        "id": "JBAu4aXEUsjV"
      },
      "source": [
        "**Supondo que a população de um país A seja da ordem de 80000 habitantes com uma taxa anual de crescimento de 3% e que a população de B seja 200000 habitantes com uma taxa de crescimento de 1.5%. Faça um programa que calcule e escreva o número de anos necessários para que a população do país A ultrapasse ou iguale a população do país B, mantidas as taxas de crescimento.**"
      ]
    },
    {
      "cell_type": "code",
      "metadata": {
        "id": "jnmSYL2DUwSw",
        "colab": {
          "base_uri": "https://localhost:8080/"
        },
        "outputId": "f4d89e02-c555-4127-bf0c-c9c68dc08504"
      },
      "source": [
        "ano = 0\n",
        "a = 80000\n",
        "b = 200000\n",
        "\n",
        "while a < b:\n",
        "  a += a * 0.03\n",
        "  b += b * 0.015\n",
        "  ano += 1\n",
        "\n",
        "print(f'''Serão necessários {ano} anos para que a população do país A \n",
        "ultrapasse ou iguale a população do país B.''')\n"
      ],
      "execution_count": 52,
      "outputs": [
        {
          "output_type": "stream",
          "name": "stdout",
          "text": [
            "Serão necessários 130 anos para que a população do país A \n",
            "ultrapasse ou iguale a população do país B.\n"
          ]
        }
      ]
    },
    {
      "cell_type": "markdown",
      "metadata": {
        "id": "8hxDsCgZUw25"
      },
      "source": [
        "**Altere o programa anterior permitindo ao usuário informar as populações e as taxas de crescimento iniciais. Valide a entrada e permita repetir a operação.**\n"
      ]
    },
    {
      "cell_type": "code",
      "metadata": {
        "id": "Ke22Q7nWU24X"
      },
      "source": [
        "def calculo(a, ta, b, tb):\n",
        "  ano = 0\n",
        "  while a < b:\n",
        "    a += a * ta / 100\n",
        "    b += b * tb / 100\n",
        "    ano += 1\n",
        "  return ano\n",
        "\n",
        "validar = True\n",
        "continuar = 'S'\n",
        "\n",
        "while validar:\n",
        "  a = float(input('Digite a população do país A: '))\n",
        "  ta = float(input('Digite a taxa de crecimento: '))\n",
        "  b = float(input('Digite a população do país B: '))\n",
        "  tb = float(input('Digite a taxa de crecimento: '))\n",
        "  resposta = calculo(a, ta, b, tb)\n",
        "  if a > b:\n",
        "    print('A população do país A já é maior que a do país B!')\n",
        "  else:\n",
        "    print(f'''Serão necessários {resposta} anos para que a população do país A \n",
        "ultrapasse ou iguale a população do país B.''')\n",
        "  print('*' * 80)\n",
        "  while True:\n",
        "    continuar = input('Deseja repetir a operação? [S/N]: ').upper()\n",
        "    print('*' * 80)\n",
        "    if continuar not in 'SN':\n",
        "      print('Valor inválido!')\n",
        "    else:\n",
        "      if continuar == 'N':\n",
        "        validar = False\n",
        "      break\n",
        "print('*' * 80)\n",
        "print('FIM DO PROGRAMA')\n",
        "\n",
        "\n",
        "\n",
        "    \n",
        "  "
      ],
      "execution_count": null,
      "outputs": []
    },
    {
      "cell_type": "markdown",
      "metadata": {
        "id": "KejKYN5yU3qq"
      },
      "source": [
        "**Faça um programa que imprima na tela os números de 1 a 20, um abaixo do outro. Depois modifique o programa para que ele mostre os números um ao lado do outro.**"
      ]
    },
    {
      "cell_type": "code",
      "metadata": {
        "id": "7wuBS7xaU6Ls",
        "colab": {
          "base_uri": "https://localhost:8080/"
        },
        "outputId": "c7538af3-124c-4d09-e01e-66b0c8f60f90"
      },
      "source": [
        "print('Impressão na vertical')\n",
        "for i in range(1, 21):\n",
        "  print(i)\n",
        "\n",
        "print('Impressão na horizontal')\n",
        "for i in range(1, 21):\n",
        "  print(i, end=' ')"
      ],
      "execution_count": 84,
      "outputs": [
        {
          "output_type": "stream",
          "name": "stdout",
          "text": [
            "Impressão na vertical\n",
            "1\n",
            "2\n",
            "3\n",
            "4\n",
            "5\n",
            "6\n",
            "7\n",
            "8\n",
            "9\n",
            "10\n",
            "11\n",
            "12\n",
            "13\n",
            "14\n",
            "15\n",
            "16\n",
            "17\n",
            "18\n",
            "19\n",
            "20\n",
            "Impressão na horizontal\n",
            "1 2 3 4 5 6 7 8 9 10 11 12 13 14 15 16 17 18 19 20 "
          ]
        }
      ]
    },
    {
      "cell_type": "markdown",
      "metadata": {
        "id": "adBxVjSCU6rQ"
      },
      "source": [
        "**Faça um programa que leia 5 números e informe o maior número.**"
      ]
    },
    {
      "cell_type": "code",
      "metadata": {
        "id": "lEbRPE8WU-Jr",
        "colab": {
          "base_uri": "https://localhost:8080/"
        },
        "outputId": "07f23956-092b-40ce-8ecd-2bc3da0338d8"
      },
      "source": [
        "for i in range(5):\n",
        "  n = int(input('Digite um número: '))\n",
        "  if i == 0:\n",
        "    maior = n\n",
        "  else:\n",
        "    if n > maior:\n",
        "      maior = n\n",
        "print('*' * 50)\n",
        "print(f'O maior número digitado foi {maior}')\n"
      ],
      "execution_count": 87,
      "outputs": [
        {
          "output_type": "stream",
          "name": "stdout",
          "text": [
            "Digite um número: 5\n",
            "Digite um número: 12\n",
            "Digite um número: 8\n",
            "Digite um número: 55\n",
            "Digite um número: 7\n",
            "**************************************************\n",
            "O maior número digitado foi 55\n"
          ]
        }
      ]
    },
    {
      "cell_type": "markdown",
      "metadata": {
        "id": "V8q5abVyU-wB"
      },
      "source": [
        "**Faça um programa que leia 5 números e informe a soma e a média dos números.**"
      ]
    },
    {
      "cell_type": "code",
      "metadata": {
        "id": "36sW3UWdVBzl",
        "colab": {
          "base_uri": "https://localhost:8080/"
        },
        "outputId": "c2f86ef9-414f-42e0-fde6-550a46176fb5"
      },
      "source": [
        "soma = 0\n",
        "for i in range(5):\n",
        "  n = int(input('Digite um número: '))\n",
        "  soma += n\n",
        "media = soma / 5\n",
        "print('*' * 80)\n",
        "print(f'A soma e a média dos números digitados são respectivamente {soma} e {media}')"
      ],
      "execution_count": 89,
      "outputs": [
        {
          "output_type": "stream",
          "name": "stdout",
          "text": [
            "Digite um número: 5\n",
            "Digite um número: 7\n",
            "Digite um número: 20\n",
            "Digite um número: 18\n",
            "Digite um número: 10\n",
            "**************************************************\n",
            "A soma e a média dos números digitados são respectivamente 60 e 12.0\n"
          ]
        }
      ]
    },
    {
      "cell_type": "markdown",
      "metadata": {
        "id": "pKrd5O2VVCa0"
      },
      "source": [
        "**Faça um programa que imprima na tela apenas os números ímpares entre 1 e 50.**"
      ]
    },
    {
      "cell_type": "code",
      "metadata": {
        "id": "zFRtbGiOVFRe",
        "colab": {
          "base_uri": "https://localhost:8080/"
        },
        "outputId": "50ff7269-f16a-4de0-82be-87df6ce4fb1c"
      },
      "source": [
        "for i in range(1, 51):\n",
        "  if i % 2 != 0:\n",
        "    print(i, end=' ')"
      ],
      "execution_count": 90,
      "outputs": [
        {
          "output_type": "stream",
          "name": "stdout",
          "text": [
            "1 3 5 7 9 11 13 15 17 19 21 23 25 27 29 31 33 35 37 39 41 43 45 47 49 "
          ]
        }
      ]
    },
    {
      "cell_type": "markdown",
      "metadata": {
        "id": "4q8uaiwRVF2_"
      },
      "source": [
        "**Faça um programa que receba dois números inteiros e gere os números inteiros que estão no intervalo compreendido por eles.**"
      ]
    },
    {
      "cell_type": "code",
      "metadata": {
        "id": "Mpy0hRwhVJHd",
        "colab": {
          "base_uri": "https://localhost:8080/"
        },
        "outputId": "82e45905-c00b-455c-e48c-ab17ec94aa24"
      },
      "source": [
        "n1 = int(input('Digite um número inteiro: '))\n",
        "n2 = int(input('Digite outro número inteiro: '))\n",
        "\n",
        "def logica(x, y):\n",
        "  if x < y:\n",
        "    for i in range(x, y+1):\n",
        "      print(i, end=' ')\n",
        "  else:\n",
        "    for i in range(x, y-1, -1):\n",
        "      print(i, end=' ')\n",
        "\n",
        "logica(n1, n2)\n",
        "\n"
      ],
      "execution_count": 102,
      "outputs": [
        {
          "output_type": "stream",
          "name": "stdout",
          "text": [
            "Digite um número inteiro: 18\n",
            "Digite outro número inteiro: 5\n",
            "18 17 16 15 14 13 12 11 10 9 8 7 6 5 "
          ]
        }
      ]
    },
    {
      "cell_type": "markdown",
      "metadata": {
        "id": "d6mQuXUIVJu4"
      },
      "source": [
        "**Altere o programa anterior para mostrar no final a soma dos números.**"
      ]
    },
    {
      "cell_type": "code",
      "metadata": {
        "id": "HGeIt1cqVMHq",
        "colab": {
          "base_uri": "https://localhost:8080/"
        },
        "outputId": "102fb005-803a-4767-fbf8-35325e981e28"
      },
      "source": [
        "n1 = int(input('Digite um número inteiro: '))\n",
        "n2 = int(input('Digite outro número inteiro: '))\n",
        "\n",
        "def logica(x, y):\n",
        "  soma = 0\n",
        "  if x < y:\n",
        "    for i in range(x, y+1):\n",
        "      soma += i\n",
        "      print(i, end=' ')\n",
        "  else:\n",
        "    for i in range(x, y-1, -1):\n",
        "      soma += i\n",
        "      print(i, end=' ')\n",
        "  print(f'\\nsoma = {soma}')\n",
        "  \n",
        "\n",
        "logica(n1, n2)"
      ],
      "execution_count": 105,
      "outputs": [
        {
          "output_type": "stream",
          "name": "stdout",
          "text": [
            "Digite um número inteiro: 5\n",
            "Digite outro número inteiro: 18\n",
            "5 6 7 8 9 10 11 12 13 14 15 16 17 18 \n",
            "soma = 161\n"
          ]
        }
      ]
    },
    {
      "cell_type": "markdown",
      "metadata": {
        "id": "TUoN5lMoVMyn"
      },
      "source": [
        "**Desenvolva um gerador de tabuada, capaz de gerar a tabuada de qualquer número inteiro entre 1 a 10. O usuário deve informar de qual numero ele deseja ver a tabuada. A saída deve ser conforme o exemplo abaixo:**\n",
        "\n",
        "```\n",
        "Tabuada de 5:\n",
        "5 X 1 = 5\n",
        "5 X 2 = 10\n",
        "...\n",
        "5 X 10 = 50\n",
        "```\n",
        "\n"
      ]
    },
    {
      "cell_type": "code",
      "metadata": {
        "id": "O4tUlNQwVUP-",
        "colab": {
          "base_uri": "https://localhost:8080/"
        },
        "outputId": "d7934261-252a-4806-9a30-1605d4404291"
      },
      "source": [
        "num = int(input('Qual tabuada você deseja visualizar? '))\n",
        "for i in range(1, 11):\n",
        "  print(f'{num} x {i:>2} = {(num * i):>2}')\n",
        "\n"
      ],
      "execution_count": null,
      "outputs": [
        {
          "output_type": "stream",
          "name": "stdout",
          "text": [
            "Qual tabuada você deseja visualizar? 6\n",
            "6 x  1 =  6\n",
            "6 x  2 = 12\n",
            "6 x  3 = 18\n",
            "6 x  4 = 24\n",
            "6 x  5 = 30\n",
            "6 x  6 = 36\n",
            "6 x  7 = 42\n",
            "6 x  8 = 48\n",
            "6 x  9 = 54\n",
            "6 x 10 = 60\n"
          ]
        }
      ]
    },
    {
      "cell_type": "markdown",
      "metadata": {
        "id": "_DhG7bJPVU-k"
      },
      "source": [
        "**Faça um programa que peça dois números, base e expoente, calcule e mostre o primeiro número elevado ao segundo número. Não utilize a função de potência da linguagem.**"
      ]
    },
    {
      "cell_type": "code",
      "metadata": {
        "id": "U5yRbhFuVX1p",
        "colab": {
          "base_uri": "https://localhost:8080/"
        },
        "outputId": "59dba43a-c3fd-433b-f017-bafd5fbd5b8d"
      },
      "source": [
        "print('Potência')\n",
        "base = int(input('Qual a base? '))\n",
        "expoente = int(input('Qual o expoente? '))\n",
        "potencia = 1\n",
        "\n",
        "for i in range(1, expoente+1):\n",
        "  potencia *= base\n",
        "print(f'{base} elevado {expoente} é igual a {potencia}')\n"
      ],
      "execution_count": 111,
      "outputs": [
        {
          "output_type": "stream",
          "name": "stdout",
          "text": [
            "Potência\n",
            "Qual a base? 2\n",
            "Qual o expoente? 3\n",
            "2 elevado 3 é igual a 8\n"
          ]
        }
      ]
    },
    {
      "cell_type": "markdown",
      "metadata": {
        "id": "xJ0TIO2hVYQ_"
      },
      "source": [
        "**Faça um programa que peça 10 números inteiros, calcule e mostre a quantidade de números pares e a quantidade de números impares.**"
      ]
    },
    {
      "cell_type": "code",
      "metadata": {
        "id": "5vxglX_VVc49"
      },
      "source": [
        ""
      ],
      "execution_count": null,
      "outputs": []
    },
    {
      "cell_type": "markdown",
      "metadata": {
        "id": "UA8SBnbHVda4"
      },
      "source": [
        "**A série de Fibonacci é formada pela seqüência 1,1,2,3,5,8,13,21,34,55,... Faça um programa capaz de gerar a série até o n−ésimo termo.**"
      ]
    },
    {
      "cell_type": "code",
      "metadata": {
        "id": "h9j2dE-vVfok"
      },
      "source": [
        ""
      ],
      "execution_count": null,
      "outputs": []
    },
    {
      "cell_type": "markdown",
      "metadata": {
        "id": "mm-MWVgQVgO4"
      },
      "source": [
        "**A série de Fibonacci é formada pela seqüência 0,1,1,2,3,5,8,13,21,34,55,... Faça um programa que gere a série até que o valor seja maior que 500.**"
      ]
    },
    {
      "cell_type": "code",
      "metadata": {
        "id": "m6gMMhuYXRR-"
      },
      "source": [
        ""
      ],
      "execution_count": null,
      "outputs": []
    },
    {
      "cell_type": "markdown",
      "metadata": {
        "id": "BmfbwTXGXR4L"
      },
      "source": [
        "**Faça um programa que calcule o fatorial de um número inteiro fornecido pelo usuário. Ex.: 5!=5.4.3.2.1=120**"
      ]
    },
    {
      "cell_type": "code",
      "metadata": {
        "id": "XzQtaMkvXVkM"
      },
      "source": [
        ""
      ],
      "execution_count": null,
      "outputs": []
    },
    {
      "cell_type": "markdown",
      "metadata": {
        "id": "8KTGUK32XbGd"
      },
      "source": [
        "**Faça um programa que, dado um conjunto de N números, determine o menor valor, o maior valor e a soma dos valores.**"
      ]
    },
    {
      "cell_type": "code",
      "metadata": {
        "id": "ZkMBx9AeXdh2"
      },
      "source": [
        ""
      ],
      "execution_count": null,
      "outputs": []
    },
    {
      "cell_type": "markdown",
      "metadata": {
        "id": "iIUeumwZXeDI"
      },
      "source": [
        "**Altere o programa anterior para que ele aceite apenas números entre 0 e 1000.**"
      ]
    },
    {
      "cell_type": "code",
      "metadata": {
        "id": "u_xrYYaRXg5g"
      },
      "source": [
        ""
      ],
      "execution_count": null,
      "outputs": []
    },
    {
      "cell_type": "markdown",
      "metadata": {
        "id": "WWGAUYneXhXK"
      },
      "source": [
        "**Altere o programa de cálculo do fatorial, permitindo ao usuário calcular o fatorial várias vezes e limitando o fatorial a números inteiros positivos e menores que 16.**"
      ]
    },
    {
      "cell_type": "code",
      "metadata": {
        "id": "FlwRZnX4Xj5L"
      },
      "source": [
        ""
      ],
      "execution_count": null,
      "outputs": []
    },
    {
      "cell_type": "markdown",
      "metadata": {
        "id": "NT3vQwFOXkZY"
      },
      "source": [
        "**Faça um programa que peça um número inteiro e determine se ele é ou não um número primo. Um número primo é aquele que é divisível somente por ele mesmo e por 1.**"
      ]
    },
    {
      "cell_type": "code",
      "metadata": {
        "id": "Ps7yROPbXmqV"
      },
      "source": [
        ""
      ],
      "execution_count": null,
      "outputs": []
    },
    {
      "cell_type": "markdown",
      "metadata": {
        "id": "VNZ9fUQXXnW3"
      },
      "source": [
        "**Altere o programa de cálculo dos números primos, informando, caso o número não seja primo, por quais número ele é divisível.**"
      ]
    },
    {
      "cell_type": "code",
      "metadata": {
        "id": "kmtaSCvuXuPl"
      },
      "source": [
        ""
      ],
      "execution_count": null,
      "outputs": []
    },
    {
      "cell_type": "markdown",
      "metadata": {
        "id": "hoAuDwG8XuxZ"
      },
      "source": [
        "**Faça um programa que mostre todos os primos entre 1 e N sendo N um número inteiro fornecido pelo usuário. O programa deverá mostrar também o número de divisões que ele executou para encontrar os números primos. Serão avaliados o funcionamento, o estilo e o número de testes (divisões) executados.**"
      ]
    },
    {
      "cell_type": "code",
      "metadata": {
        "id": "Zjf46gqHXx0I"
      },
      "source": [
        ""
      ],
      "execution_count": null,
      "outputs": []
    },
    {
      "cell_type": "markdown",
      "metadata": {
        "id": "6Ym230blXyYq"
      },
      "source": [
        "**Faça um programa que calcule o mostre a média aritmética de N notas.**"
      ]
    },
    {
      "cell_type": "code",
      "metadata": {
        "id": "a6TZ41sCX1YH"
      },
      "source": [
        ""
      ],
      "execution_count": null,
      "outputs": []
    },
    {
      "cell_type": "markdown",
      "metadata": {
        "id": "21efvlNBX19H"
      },
      "source": [
        "**Faça um programa que peça para n pessoas a sua idade, ao final o programa devera verificar se a média de idade da turma varia entre 0 e 25,26 e 60 e maior que 60; e então, dizer se a turma é jovem, adulta ou idosa, conforme a média calculada.**"
      ]
    },
    {
      "cell_type": "code",
      "metadata": {
        "id": "gKv780_eX4oj"
      },
      "source": [
        ""
      ],
      "execution_count": null,
      "outputs": []
    },
    {
      "cell_type": "markdown",
      "metadata": {
        "id": "l0xNGUk6X5Dt"
      },
      "source": [
        "**Numa eleição existem três candidatos. Faça um programa que peça o número total de eleitores. Peça para cada eleitor votar e ao final mostrar o número de votos de cada candidato.**"
      ]
    },
    {
      "cell_type": "code",
      "metadata": {
        "id": "J3gDk-GyX7vi"
      },
      "source": [
        ""
      ],
      "execution_count": null,
      "outputs": []
    },
    {
      "cell_type": "markdown",
      "metadata": {
        "id": "955iZQCtX8E3"
      },
      "source": [
        "**Faça um programa que calcule o número médio de alunos por turma. Para isto, peça a quantidade de turmas e a quantidade de alunos para cada turma. As turmas não podem ter mais de 40 alunos.**"
      ]
    },
    {
      "cell_type": "code",
      "metadata": {
        "id": "wB4AHjxQX-Rq"
      },
      "source": [
        ""
      ],
      "execution_count": null,
      "outputs": []
    },
    {
      "cell_type": "markdown",
      "metadata": {
        "id": "48Gh62AKX-ui"
      },
      "source": [
        "**Faça um programa que calcule o valor total investido por um colecionador em sua coleção de CDs e o valor médio gasto em cada um deles. O usuário deverá informar a quantidade de CDs e o valor para em cada um.**"
      ]
    },
    {
      "cell_type": "code",
      "metadata": {
        "id": "Vo7gwoZ4YA9Z"
      },
      "source": [
        ""
      ],
      "execution_count": null,
      "outputs": []
    },
    {
      "cell_type": "markdown",
      "metadata": {
        "id": "osteOSyHYCRW"
      },
      "source": [
        "**O Sr. Manoel Joaquim possui uma grande loja de artigos de R$ 1,99, com cerca de 10 caixas. Para agilizar o cálculo de quanto cada cliente deve pagar ele desenvolveu um tabela que contém o número de itens que o cliente comprou e ao lado o valor da conta. Desta forma a atendente do caixa precisa apenas contar quantos itens o cliente está levando e olhar na tabela de preços. Você foi contratado para desenvolver o programa que monta esta tabela de preços, que conterá os preços de 1 até 50 produtos, conforme o exemplo abaixo:**\n",
        "\n",
        "```\n",
        "Lojas Quase Dois - Tabela de preços\n",
        "1 - R$ 1.99\n",
        "2 - R$ 3.98\n",
        "...\n",
        "50 - R$ 99.50\n",
        "```\n",
        "\n"
      ]
    },
    {
      "cell_type": "code",
      "metadata": {
        "id": "DOL5MU7QYJOP"
      },
      "source": [
        ""
      ],
      "execution_count": null,
      "outputs": []
    }
  ]
}