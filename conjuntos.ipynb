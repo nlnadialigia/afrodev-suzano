{
  "nbformat": 4,
  "nbformat_minor": 0,
  "metadata": {
    "colab": {
      "name": "conjuntos.ipynb",
      "provenance": [],
      "collapsed_sections": [],
      "include_colab_link": true
    },
    "kernelspec": {
      "name": "python3",
      "display_name": "Python 3"
    },
    "language_info": {
      "name": "python"
    }
  },
  "cells": [
    {
      "cell_type": "markdown",
      "metadata": {
        "id": "view-in-github",
        "colab_type": "text"
      },
      "source": [
        "<a href=\"https://colab.research.google.com/github/nlnadialigia/afrodev-suzano/blob/main/conjuntos.ipynb\" target=\"_parent\"><img src=\"https://colab.research.google.com/assets/colab-badge.svg\" alt=\"Open In Colab\"/></a>"
      ]
    },
    {
      "cell_type": "markdown",
      "metadata": {
        "id": "h3Q1G79ys1Eu"
      },
      "source": [
        "#Conjuntos - Set"
      ]
    },
    {
      "cell_type": "markdown",
      "metadata": {
        "id": "AIOjK7T-uLpU"
      },
      "source": [
        "## Função auxiliar"
      ]
    },
    {
      "cell_type": "code",
      "metadata": {
        "id": "hlGK11kNuLEd"
      },
      "source": [
        "from random import random\n",
        "\n",
        "\n",
        "def numerosRandomicos(c, x):\n",
        "    \"\"\"\n",
        "    :param c: conjunto\n",
        "    :param x: quantidade de elementos\n",
        "    :return: conjunto de elmentos\n",
        "    \"\"\"\n",
        "    for i in range(x):\n",
        "        x = int(random()*10)\n",
        "        c.add(x)\n",
        "    return c\n"
      ],
      "execution_count": 8,
      "outputs": []
    },
    {
      "cell_type": "markdown",
      "metadata": {
        "id": "_WC61Ctxs50R"
      },
      "source": [
        "**Escreva um programa Python para criar um conjunto.**"
      ]
    },
    {
      "cell_type": "code",
      "metadata": {
        "id": "L_NcvlkTsysm"
      },
      "source": [
        "dados = set()"
      ],
      "execution_count": null,
      "outputs": []
    },
    {
      "cell_type": "markdown",
      "metadata": {
        "id": "ezkcetwdtA2i"
      },
      "source": [
        "**Escreva um programa Python para iteração em conjuntos.**"
      ]
    },
    {
      "cell_type": "code",
      "metadata": {
        "id": "SVmNH84YtEQ_",
        "colab": {
          "base_uri": "https://localhost:8080/"
        },
        "outputId": "473d09f1-777e-41db-ea88-bc6e3e8f4ab7"
      },
      "source": [
        "for i in range(6):\n",
        "  dados.add(i)\n",
        "dados"
      ],
      "execution_count": null,
      "outputs": [
        {
          "output_type": "execute_result",
          "data": {
            "text/plain": [
              "{0, 1, 2, 3, 4, 5, 9}"
            ]
          },
          "metadata": {},
          "execution_count": 12
        }
      ]
    },
    {
      "cell_type": "markdown",
      "metadata": {
        "id": "_Hyh5onetEtz"
      },
      "source": [
        "**Escreva um programa Python para adicionar um item a um conjunto.**"
      ]
    },
    {
      "cell_type": "code",
      "metadata": {
        "id": "2BeIZn-8tMJM",
        "colab": {
          "base_uri": "https://localhost:8080/"
        },
        "outputId": "180dd697-ef20-433f-c481-e28289f2e9d0"
      },
      "source": [
        "dados.add(9)\n",
        "print(dados)"
      ],
      "execution_count": null,
      "outputs": [
        {
          "output_type": "stream",
          "name": "stdout",
          "text": [
            "{0, 1, 2, 3, 4, 9}\n"
          ]
        }
      ]
    },
    {
      "cell_type": "markdown",
      "metadata": {
        "id": "0Uzx_FpotO0b"
      },
      "source": [
        "**Escreva um programa Python para remover item (ns) de um determinado conjunto.**"
      ]
    },
    {
      "cell_type": "code",
      "metadata": {
        "id": "SUW3mTqJtSoR",
        "colab": {
          "base_uri": "https://localhost:8080/"
        },
        "outputId": "15301014-9f1f-4af6-97e2-010dc9c12d45"
      },
      "source": [
        "dados.remove(5)\n",
        "dados"
      ],
      "execution_count": null,
      "outputs": [
        {
          "output_type": "execute_result",
          "data": {
            "text/plain": [
              "{0, 1, 2, 3, 4, 9}"
            ]
          },
          "metadata": {},
          "execution_count": 13
        }
      ]
    },
    {
      "cell_type": "markdown",
      "metadata": {
        "id": "ayUviB_ztTC-"
      },
      "source": [
        "**Escreva um programa Python para remover um item de um conjunto, se estiver presente no conjunto**"
      ]
    },
    {
      "cell_type": "code",
      "metadata": {
        "id": "V1Haw3UJtWV6",
        "colab": {
          "base_uri": "https://localhost:8080/"
        },
        "outputId": "cd90a9e4-0be8-4c37-c6db-522e971cb314"
      },
      "source": [
        "def removerDados(i):\n",
        "  if i in dados:\n",
        "    dados.remove(i)\n",
        "  else:\n",
        "    print('Item não pertence ao conjunto')\n",
        "  return dados\n",
        "\n",
        "removerDados(7)"
      ],
      "execution_count": null,
      "outputs": [
        {
          "output_type": "stream",
          "name": "stdout",
          "text": [
            "Item não pertence ao conjunto\n"
          ]
        },
        {
          "output_type": "execute_result",
          "data": {
            "text/plain": [
              "{0, 1, 2, 3, 4, 9}"
            ]
          },
          "metadata": {},
          "execution_count": 15
        }
      ]
    },
    {
      "cell_type": "markdown",
      "metadata": {
        "id": "DERjLROrtWzk"
      },
      "source": [
        "**Escreva um programa Python para criar uma interseção de conjuntos.**"
      ]
    },
    {
      "cell_type": "code",
      "metadata": {
        "id": "Ax3ymRTWtavL",
        "colab": {
          "base_uri": "https://localhost:8080/"
        },
        "outputId": "494949fd-6e68-41ae-a2d4-b9b3df510221"
      },
      "source": [
        "def interseccaoConjuntos(c1, c2):\n",
        "    \"\"\"\n",
        "    :param c1: conjunto 1\n",
        "    :param c2: conjunto 2\n",
        "    :return: intersecção entre o conjunto 1 e o conjunto 2\n",
        "    \"\"\"\n",
        "    return c1 & c2\n",
        "\n",
        "\n",
        "conjunto_a = set()\n",
        "conjunto_b = set()\n",
        "\n",
        "numerosRandomicos(conjunto_a, 4)\n",
        "numerosRandomicos(conjunto_b, 12)\n",
        "print(conjunto_a)\n",
        "print(conjunto_b)\n",
        "\n",
        "print(interseccaoConjuntos(conjunto_a, conjunto_b))"
      ],
      "execution_count": 9,
      "outputs": [
        {
          "output_type": "stream",
          "name": "stdout",
          "text": [
            "{3, 4, 6, 7}\n",
            "{0, 1, 2, 4, 5, 6, 8, 9}\n",
            "{4, 6}\n"
          ]
        }
      ]
    },
    {
      "cell_type": "markdown",
      "metadata": {
        "id": "A5PoiORvtbO5"
      },
      "source": [
        "**Escreva um programa Python para criar uma união de conjuntos.**"
      ]
    },
    {
      "cell_type": "code",
      "metadata": {
        "id": "9HJgoJv5tg3r",
        "colab": {
          "base_uri": "https://localhost:8080/"
        },
        "outputId": "f985c4ab-bf44-43a8-d8af-1a728d192e09"
      },
      "source": [
        "def uniaoConjuntos(c1, c2):\n",
        "    \"\"\"\n",
        "    :param c1: conjunto 1\n",
        "    :param c2: conjunto 2\n",
        "    :return: intersecção entre o conjunto 1 e o conjunto 2\n",
        "    \"\"\"\n",
        "    return c1 | c2\n",
        "\n",
        "\n",
        "conjunto_a = set()\n",
        "conjunto_b = set()\n",
        "\n",
        "numerosRandomicos(conjunto_a, 4)\n",
        "numerosRandomicos(conjunto_b, 3)\n",
        "print(conjunto_a)\n",
        "print(conjunto_b)\n",
        "\n",
        "print(uniaoConjuntos(conjunto_a, conjunto_b))"
      ],
      "execution_count": 10,
      "outputs": [
        {
          "output_type": "stream",
          "name": "stdout",
          "text": [
            "{0, 9, 4, 7}\n",
            "{9, 6, 7}\n",
            "{0, 4, 6, 7, 9}\n"
          ]
        }
      ]
    },
    {
      "cell_type": "markdown",
      "metadata": {
        "id": "jDIiMpAMthSi"
      },
      "source": [
        "**Escreva um programa Python para criar diferença definida.**\n",
        "\n",
        "`diferença definida ( - )` => restarão apenas os elementos que estiverem em um dos set, mas não no segundo."
      ]
    },
    {
      "cell_type": "code",
      "metadata": {
        "id": "F824A6IrtkVM",
        "colab": {
          "base_uri": "https://localhost:8080/"
        },
        "outputId": "12379208-1c1d-42c0-aadc-37bc18cd0d84"
      },
      "source": [
        "def diferencaDefinida(c1, c2):\n",
        "    \"\"\"\n",
        "    :param c1: conjunto 1\n",
        "    :param c2: conjunto 2\n",
        "    :return: intersecção entre o conjunto 1 e o conjunto 2\n",
        "    \"\"\"\n",
        "    return c1 - c2\n",
        "\n",
        "\n",
        "conjunto_a = set()\n",
        "conjunto_b = set()\n",
        "\n",
        "numerosRandomicos(conjunto_a, 4)\n",
        "numerosRandomicos(conjunto_b, 3)\n",
        "print(conjunto_a)\n",
        "print(conjunto_b)\n",
        "\n",
        "print(diferencaDefinida(conjunto_a, conjunto_b))"
      ],
      "execution_count": 11,
      "outputs": [
        {
          "output_type": "stream",
          "name": "stdout",
          "text": [
            "{8, 1, 3, 5}\n",
            "{2, 3, 4}\n",
            "{8, 1, 5}\n"
          ]
        }
      ]
    },
    {
      "cell_type": "markdown",
      "metadata": {
        "id": "mP8UGqC8tkvQ"
      },
      "source": [
        "**Escreva um programa Python para criar uma diferença simétrica.**\n",
        "\n",
        "`diferença simétrica ( ^ )` => apenas os elementos que estiverem nos dois sets, porém que não se repitam, serão exibidos."
      ]
    },
    {
      "cell_type": "code",
      "metadata": {
        "id": "az8OrPKAtoA8",
        "colab": {
          "base_uri": "https://localhost:8080/"
        },
        "outputId": "6a078961-bd87-4a25-d291-62da8ecc9efa"
      },
      "source": [
        "def diferencaSimetrica(c1, c2):\n",
        "    \"\"\"\n",
        "    :param c1: conjunto 1\n",
        "    :param c2: conjunto 2\n",
        "    :return: intersecção entre o conjunto 1 e o conjunto 2\n",
        "    \"\"\"\n",
        "    return c1 ^ c2\n",
        "\n",
        "\n",
        "conjunto_a = set()\n",
        "conjunto_b = set()\n",
        "\n",
        "numerosRandomicos(conjunto_a, 4)\n",
        "numerosRandomicos(conjunto_b, 3)\n",
        "print(conjunto_a)\n",
        "print(conjunto_b)\n",
        "\n",
        "print(diferencaSimetrica(conjunto_a, conjunto_b))"
      ],
      "execution_count": 15,
      "outputs": [
        {
          "output_type": "stream",
          "name": "stdout",
          "text": [
            "{0, 9, 8}\n",
            "{8, 1, 5}\n",
            "{0, 1, 5, 9}\n"
          ]
        }
      ]
    },
    {
      "cell_type": "markdown",
      "metadata": {
        "id": "vzF0YOsKtofN"
      },
      "source": [
        "**Escreva um programa Python para verificar se um conjunto é um subconjunto de outro conjunto.**"
      ]
    },
    {
      "cell_type": "code",
      "metadata": {
        "id": "n1IgV_37tsPt"
      },
      "source": [
        ""
      ],
      "execution_count": null,
      "outputs": []
    },
    {
      "cell_type": "markdown",
      "metadata": {
        "id": "H-29CAnntsmj"
      },
      "source": [
        "**Escreva um programa Python para criar uma cópia superficial dos conjuntos.**\n",
        "\n",
        "*Nota: Cópia superficial é uma cópia bit a bit de um objeto. É criado um novo objeto que possui uma cópia exata dos valores do objeto original.*"
      ]
    },
    {
      "cell_type": "code",
      "metadata": {
        "id": "AOmFr2-ot2ID"
      },
      "source": [
        ""
      ],
      "execution_count": null,
      "outputs": []
    },
    {
      "cell_type": "markdown",
      "metadata": {
        "id": "GK1_6bMZt3Fv"
      },
      "source": [
        "**Escreva um programa Python para remover todos os elementos de um determinado conjunto.**"
      ]
    },
    {
      "cell_type": "code",
      "metadata": {
        "id": "aaa_gPaTt-RV"
      },
      "source": [
        ""
      ],
      "execution_count": null,
      "outputs": []
    },
    {
      "cell_type": "markdown",
      "metadata": {
        "id": "YH5JJjUWt-uc"
      },
      "source": [
        "**Escreva um programa Python para encontrar o valor máximo e mínimo em um conjunto.**"
      ]
    },
    {
      "cell_type": "code",
      "metadata": {
        "id": "Nz5o64gnuGLC"
      },
      "source": [
        ""
      ],
      "execution_count": null,
      "outputs": []
    },
    {
      "cell_type": "markdown",
      "metadata": {
        "id": "QFIatLtAuKxY"
      },
      "source": [
        "**Escreva um programa Python para encontrar o comprimento de um conjunto.**"
      ]
    },
    {
      "cell_type": "code",
      "metadata": {
        "id": "pbOYyxoFuL-V"
      },
      "source": [
        ""
      ],
      "execution_count": null,
      "outputs": []
    }
  ]
}