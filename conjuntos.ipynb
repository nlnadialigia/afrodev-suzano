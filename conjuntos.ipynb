{
  "nbformat": 4,
  "nbformat_minor": 0,
  "metadata": {
    "colab": {
      "name": "conjuntos.ipynb",
      "provenance": [],
      "collapsed_sections": [],
      "include_colab_link": true
    },
    "kernelspec": {
      "name": "python3",
      "display_name": "Python 3"
    },
    "language_info": {
      "name": "python"
    }
  },
  "cells": [
    {
      "cell_type": "markdown",
      "metadata": {
        "id": "view-in-github",
        "colab_type": "text"
      },
      "source": [
        "<a href=\"https://colab.research.google.com/github/nlnadialigia/afrodev-suzano/blob/main/conjuntos.ipynb\" target=\"_parent\"><img src=\"https://colab.research.google.com/assets/colab-badge.svg\" alt=\"Open In Colab\"/></a>"
      ]
    },
    {
      "cell_type": "markdown",
      "metadata": {
        "id": "h3Q1G79ys1Eu"
      },
      "source": [
        "#Conjuntos - Set"
      ]
    },
    {
      "cell_type": "markdown",
      "metadata": {
        "id": "AIOjK7T-uLpU"
      },
      "source": [
        "## Função auxiliar"
      ]
    },
    {
      "cell_type": "code",
      "metadata": {
        "id": "hlGK11kNuLEd"
      },
      "source": [
        "from random import random\n",
        "\n",
        "\n",
        "def numerosRandomicos(c, x):\n",
        "    \"\"\"\n",
        "    :param c: conjunto\n",
        "    :param x: quantidade de elementos\n",
        "    :return: conjunto de elmentos\n",
        "    \"\"\"\n",
        "    for i in range(x):\n",
        "        x = int(random()*100)\n",
        "        c.add(x)\n",
        "    return c\n"
      ],
      "execution_count": 12,
      "outputs": []
    },
    {
      "cell_type": "markdown",
      "metadata": {
        "id": "GFaICRrfCYOb"
      },
      "source": [
        "## Exercícios"
      ]
    },
    {
      "cell_type": "markdown",
      "metadata": {
        "id": "_WC61Ctxs50R"
      },
      "source": [
        "**Escreva um programa Python para criar um conjunto.**"
      ]
    },
    {
      "cell_type": "code",
      "metadata": {
        "id": "L_NcvlkTsysm"
      },
      "source": [
        "dados = set()"
      ],
      "execution_count": null,
      "outputs": []
    },
    {
      "cell_type": "markdown",
      "metadata": {
        "id": "ezkcetwdtA2i"
      },
      "source": [
        "**Escreva um programa Python para iteração em conjuntos.**"
      ]
    },
    {
      "cell_type": "code",
      "metadata": {
        "id": "SVmNH84YtEQ_",
        "colab": {
          "base_uri": "https://localhost:8080/"
        },
        "outputId": "473d09f1-777e-41db-ea88-bc6e3e8f4ab7"
      },
      "source": [
        "for i in range(6):\n",
        "  dados.add(i)\n",
        "dados"
      ],
      "execution_count": null,
      "outputs": [
        {
          "output_type": "execute_result",
          "data": {
            "text/plain": [
              "{0, 1, 2, 3, 4, 5, 9}"
            ]
          },
          "metadata": {},
          "execution_count": 12
        }
      ]
    },
    {
      "cell_type": "markdown",
      "metadata": {
        "id": "_Hyh5onetEtz"
      },
      "source": [
        "**Escreva um programa Python para adicionar um item a um conjunto.**"
      ]
    },
    {
      "cell_type": "code",
      "metadata": {
        "id": "2BeIZn-8tMJM",
        "colab": {
          "base_uri": "https://localhost:8080/"
        },
        "outputId": "180dd697-ef20-433f-c481-e28289f2e9d0"
      },
      "source": [
        "dados.add(9)\n",
        "print(dados)"
      ],
      "execution_count": null,
      "outputs": [
        {
          "output_type": "stream",
          "name": "stdout",
          "text": [
            "{0, 1, 2, 3, 4, 9}\n"
          ]
        }
      ]
    },
    {
      "cell_type": "markdown",
      "metadata": {
        "id": "0Uzx_FpotO0b"
      },
      "source": [
        "**Escreva um programa Python para remover item (ns) de um determinado conjunto.**"
      ]
    },
    {
      "cell_type": "code",
      "metadata": {
        "id": "SUW3mTqJtSoR",
        "colab": {
          "base_uri": "https://localhost:8080/"
        },
        "outputId": "15301014-9f1f-4af6-97e2-010dc9c12d45"
      },
      "source": [
        "dados.remove(5)\n",
        "dados"
      ],
      "execution_count": null,
      "outputs": [
        {
          "output_type": "execute_result",
          "data": {
            "text/plain": [
              "{0, 1, 2, 3, 4, 9}"
            ]
          },
          "metadata": {},
          "execution_count": 13
        }
      ]
    },
    {
      "cell_type": "markdown",
      "metadata": {
        "id": "ayUviB_ztTC-"
      },
      "source": [
        "**Escreva um programa Python para remover um item de um conjunto, se estiver presente no conjunto**"
      ]
    },
    {
      "cell_type": "code",
      "metadata": {
        "id": "V1Haw3UJtWV6",
        "colab": {
          "base_uri": "https://localhost:8080/"
        },
        "outputId": "cd90a9e4-0be8-4c37-c6db-522e971cb314"
      },
      "source": [
        "def removerDados(i):\n",
        "  if i in dados:\n",
        "    dados.remove(i)\n",
        "  else:\n",
        "    print('Item não pertence ao conjunto')\n",
        "  return dados\n",
        "\n",
        "removerDados(7)"
      ],
      "execution_count": null,
      "outputs": [
        {
          "output_type": "stream",
          "name": "stdout",
          "text": [
            "Item não pertence ao conjunto\n"
          ]
        },
        {
          "output_type": "execute_result",
          "data": {
            "text/plain": [
              "{0, 1, 2, 3, 4, 9}"
            ]
          },
          "metadata": {},
          "execution_count": 15
        }
      ]
    },
    {
      "cell_type": "markdown",
      "metadata": {
        "id": "DERjLROrtWzk"
      },
      "source": [
        "**Escreva um programa Python para criar uma interseção de conjuntos.**"
      ]
    },
    {
      "cell_type": "code",
      "metadata": {
        "id": "Ax3ymRTWtavL",
        "colab": {
          "base_uri": "https://localhost:8080/"
        },
        "outputId": "494949fd-6e68-41ae-a2d4-b9b3df510221"
      },
      "source": [
        "def interseccaoConjuntos(c1, c2):\n",
        "    \"\"\"\n",
        "    :param c1: conjunto 1\n",
        "    :param c2: conjunto 2\n",
        "    :return: intersecção entre o conjunto 1 e o conjunto 2\n",
        "    \"\"\"\n",
        "    return c1 & c2\n",
        "\n",
        "\n",
        "conjunto_a = set()\n",
        "conjunto_b = set()\n",
        "\n",
        "numerosRandomicos(conjunto_a, 4)\n",
        "numerosRandomicos(conjunto_b, 12)\n",
        "print(conjunto_a)\n",
        "print(conjunto_b)\n",
        "\n",
        "print(interseccaoConjuntos(conjunto_a, conjunto_b))"
      ],
      "execution_count": null,
      "outputs": [
        {
          "output_type": "stream",
          "name": "stdout",
          "text": [
            "{3, 4, 6, 7}\n",
            "{0, 1, 2, 4, 5, 6, 8, 9}\n",
            "{4, 6}\n"
          ]
        }
      ]
    },
    {
      "cell_type": "markdown",
      "metadata": {
        "id": "A5PoiORvtbO5"
      },
      "source": [
        "**Escreva um programa Python para criar uma união de conjuntos.**"
      ]
    },
    {
      "cell_type": "code",
      "metadata": {
        "id": "9HJgoJv5tg3r",
        "colab": {
          "base_uri": "https://localhost:8080/"
        },
        "outputId": "f985c4ab-bf44-43a8-d8af-1a728d192e09"
      },
      "source": [
        "def uniaoConjuntos(c1, c2):\n",
        "    \"\"\"\n",
        "    :param c1: conjunto 1\n",
        "    :param c2: conjunto 2\n",
        "    :return: união entre o conjunto 1 e o conjunto 2\n",
        "    \"\"\"\n",
        "    return c1 | c2\n",
        "\n",
        "\n",
        "conjunto_a = set()\n",
        "conjunto_b = set()\n",
        "\n",
        "numerosRandomicos(conjunto_a, 4)\n",
        "numerosRandomicos(conjunto_b, 3)\n",
        "print(conjunto_a)\n",
        "print(conjunto_b)\n",
        "\n",
        "print(uniaoConjuntos(conjunto_a, conjunto_b))"
      ],
      "execution_count": null,
      "outputs": [
        {
          "output_type": "stream",
          "name": "stdout",
          "text": [
            "{0, 9, 4, 7}\n",
            "{9, 6, 7}\n",
            "{0, 4, 6, 7, 9}\n"
          ]
        }
      ]
    },
    {
      "cell_type": "markdown",
      "metadata": {
        "id": "jDIiMpAMthSi"
      },
      "source": [
        "**Escreva um programa Python para criar diferença definida.**\n",
        "\n",
        "`diferença definida ( - )` => restarão apenas os elementos que estiverem em um dos set, mas não no segundo."
      ]
    },
    {
      "cell_type": "code",
      "metadata": {
        "id": "F824A6IrtkVM",
        "colab": {
          "base_uri": "https://localhost:8080/"
        },
        "outputId": "12379208-1c1d-42c0-aadc-37bc18cd0d84"
      },
      "source": [
        "def diferencaDefinida(c1, c2):\n",
        "    \"\"\"\n",
        "    :param c1: conjunto 1\n",
        "    :param c2: conjunto 2\n",
        "    :return: diferença definida entre o conjunto 1 e o conjunto 2\n",
        "    \"\"\"\n",
        "    return c1 - c2\n",
        "\n",
        "\n",
        "conjunto_a = set()\n",
        "conjunto_b = set()\n",
        "\n",
        "numerosRandomicos(conjunto_a, 4)\n",
        "numerosRandomicos(conjunto_b, 3)\n",
        "print(conjunto_a)\n",
        "print(conjunto_b)\n",
        "\n",
        "print(diferencaDefinida(conjunto_a, conjunto_b))"
      ],
      "execution_count": null,
      "outputs": [
        {
          "output_type": "stream",
          "name": "stdout",
          "text": [
            "{8, 1, 3, 5}\n",
            "{2, 3, 4}\n",
            "{8, 1, 5}\n"
          ]
        }
      ]
    },
    {
      "cell_type": "markdown",
      "metadata": {
        "id": "mP8UGqC8tkvQ"
      },
      "source": [
        "**Escreva um programa Python para criar uma diferença simétrica.**\n",
        "\n",
        "`diferença simétrica ( ^ )` => apenas os elementos que estiverem nos dois sets, porém que não se repitam, serão exibidos."
      ]
    },
    {
      "cell_type": "code",
      "metadata": {
        "id": "az8OrPKAtoA8",
        "colab": {
          "base_uri": "https://localhost:8080/"
        },
        "outputId": "6a078961-bd87-4a25-d291-62da8ecc9efa"
      },
      "source": [
        "def diferencaSimetrica(c1, c2):\n",
        "    \"\"\"\n",
        "    :param c1: conjunto 1\n",
        "    :param c2: conjunto 2\n",
        "    :return: diferença simétrica entre o conjunto 1 e o conjunto 2\n",
        "    \"\"\"\n",
        "    return c1 ^ c2\n",
        "\n",
        "\n",
        "conjunto_a = set()\n",
        "conjunto_b = set()\n",
        "\n",
        "numerosRandomicos(conjunto_a, 4)\n",
        "numerosRandomicos(conjunto_b, 3)\n",
        "print(conjunto_a)\n",
        "print(conjunto_b)\n",
        "\n",
        "print(diferencaSimetrica(conjunto_a, conjunto_b))"
      ],
      "execution_count": null,
      "outputs": [
        {
          "output_type": "stream",
          "name": "stdout",
          "text": [
            "{0, 9, 8}\n",
            "{8, 1, 5}\n",
            "{0, 1, 5, 9}\n"
          ]
        }
      ]
    },
    {
      "cell_type": "markdown",
      "metadata": {
        "id": "vzF0YOsKtofN"
      },
      "source": [
        "**Escreva um programa Python para verificar se um conjunto é um subconjunto de outro conjunto.**"
      ]
    },
    {
      "cell_type": "code",
      "metadata": {
        "colab": {
          "base_uri": "https://localhost:8080/"
        },
        "id": "u2IUUSMo0Vqw",
        "outputId": "9eababca-87ed-4020-9050-5629039479bb"
      },
      "source": [
        "conjunto_a = set()\n",
        "conjunto_b = set()\n",
        "numerosRandomicos(conjunto_a, 3)\n",
        "numerosRandomicos(conjunto_b, 11)\n",
        "\n",
        "print(conjunto_a)\n",
        "print(conjunto_b)\n",
        "\n",
        "verifica = True\n",
        "\n",
        "if len(conjunto_a) > len(conjunto_b):\n",
        "  print('O conjunto a é maior que o conjunto b, portanto não pode ser um subconjunto')\n",
        "\n",
        "for i in conjunto_b:\n",
        "  for j in conjunto_a:\n",
        "    if j not in conjunto_b:\n",
        "      verifica = False\n",
        "\n",
        "\n",
        "if verifica == False:\n",
        "  print(f'O conjunto a não é um subconjunto de b')\n",
        "else:\n",
        "  print(f'O conjunto a é um subconjunto de b')"
      ],
      "execution_count": null,
      "outputs": [
        {
          "output_type": "stream",
          "name": "stdout",
          "text": [
            "{1, 3}\n",
            "{0, 1, 3, 6, 8}\n",
            "O conjunto a é um subconjunto de b\n"
          ]
        }
      ]
    },
    {
      "cell_type": "markdown",
      "metadata": {
        "id": "H-29CAnntsmj"
      },
      "source": [
        "**Escreva um programa Python para criar uma cópia superficial dos conjuntos.**\n",
        "\n",
        "*Nota: Cópia superficial é uma cópia bit a bit de um objeto. É criado um novo objeto que possui uma cópia exata dos valores do objeto original.*\n",
        "\n",
        "**`shallow copy`** => cria um novo objeto e preenche esse objeto com referências para os itens contidos no objeto original. Dessa forma qualquer mudança em um dos objetos será também refletida no outro."
      ]
    },
    {
      "cell_type": "code",
      "metadata": {
        "id": "AOmFr2-ot2ID",
        "colab": {
          "base_uri": "https://localhost:8080/"
        },
        "outputId": "b6375a06-b37d-4a47-c620-0cc550aefa5a"
      },
      "source": [
        "conjunto = set()\n",
        "copia = set()\n",
        "numerosRandomicos(conjunto, 6)\n",
        "\n",
        "copia = conjunto\n",
        "print(f'conjunto => {conjunto}')\n",
        "print(f'copia => {copia}')\n",
        "\n",
        "numerosRandomicos(conjunto, 4)\n",
        "print(f'conjunto => {conjunto}')\n",
        "print(f'copia => {copia}')\n",
        "\n"
      ],
      "execution_count": null,
      "outputs": [
        {
          "output_type": "stream",
          "name": "stdout",
          "text": [
            "conjunto => {0, 9, 5, 7}\n",
            "copia => {0, 9, 5, 7}\n",
            "conjunto => {0, 2, 4, 5, 7, 9}\n",
            "copia => {0, 2, 4, 5, 7, 9}\n"
          ]
        }
      ]
    },
    {
      "cell_type": "code",
      "metadata": {
        "colab": {
          "base_uri": "https://localhost:8080/"
        },
        "id": "3IsB_xTG9-xu",
        "outputId": "a3894100-4f96-45be-8488-73b35db4ee8c"
      },
      "source": [
        "conjunto2 = set()\n",
        "copia2 = set()\n",
        "numerosRandomicos(conjunto2, 6)\n",
        "\n",
        "copia2 = conjunto2.copy()\n",
        "print(f'conjunto2 => {conjunto2}')\n",
        "print(f'copia2 => {copia2}')\n",
        "\n",
        "numerosRandomicos(conjunto2, 4)\n",
        "print(f'conjunto2 => {conjunto2}')\n",
        "print(f'copia2 => {copia2}')"
      ],
      "execution_count": null,
      "outputs": [
        {
          "output_type": "stream",
          "name": "stdout",
          "text": [
            "conjunto2 => {9, 2, 6, 7}\n",
            "copia2 => {9, 2, 6, 7}\n",
            "conjunto2 => {1, 2, 3, 6, 7, 9}\n",
            "copia2 => {9, 2, 6, 7}\n"
          ]
        }
      ]
    },
    {
      "cell_type": "markdown",
      "metadata": {
        "id": "GK1_6bMZt3Fv"
      },
      "source": [
        "**Escreva um programa Python para remover todos os elementos de um determinado conjunto.**"
      ]
    },
    {
      "cell_type": "code",
      "metadata": {
        "id": "aaa_gPaTt-RV",
        "colab": {
          "base_uri": "https://localhost:8080/"
        },
        "outputId": "6431e600-0866-4dd2-935c-4e156ab2e58c"
      },
      "source": [
        "cj = set()\n",
        "numerosRandomicos(cj, 6)\n",
        "\n",
        "print(cj)\n",
        "\n",
        "cj.clear()\n",
        "print(cj)\n",
        "\n"
      ],
      "execution_count": 8,
      "outputs": [
        {
          "output_type": "stream",
          "name": "stdout",
          "text": [
            "{0, 3, 4, 8, 9}\n",
            "set()\n"
          ]
        }
      ]
    },
    {
      "cell_type": "markdown",
      "metadata": {
        "id": "YH5JJjUWt-uc"
      },
      "source": [
        "**Escreva um programa Python para encontrar o valor máximo e mínimo em um conjunto.**"
      ]
    },
    {
      "cell_type": "code",
      "metadata": {
        "id": "Nz5o64gnuGLC",
        "colab": {
          "base_uri": "https://localhost:8080/"
        },
        "outputId": "28dedadc-b431-4b0f-cfaf-e93f2f92ef4c"
      },
      "source": [
        "cj = set()\n",
        "numerosRandomicos(cj, 15)\n",
        "print(cj)\n",
        "\n",
        "maximo = max(cj)\n",
        "minimo = min(cj)\n",
        "print(f'máximo = {maximo}')\n",
        "print(f'mínimo => {minimo}')"
      ],
      "execution_count": 16,
      "outputs": [
        {
          "output_type": "stream",
          "name": "stdout",
          "text": [
            "{32, 64, 3, 5, 6, 38, 76, 47, 15, 19, 54, 89, 28, 95}\n",
            "máximo = 95\n",
            "mínimo => 3\n"
          ]
        }
      ]
    },
    {
      "cell_type": "markdown",
      "metadata": {
        "id": "QFIatLtAuKxY"
      },
      "source": [
        "**Escreva um programa Python para encontrar o comprimento de um conjunto.**"
      ]
    },
    {
      "cell_type": "code",
      "metadata": {
        "id": "pbOYyxoFuL-V",
        "colab": {
          "base_uri": "https://localhost:8080/"
        },
        "outputId": "8d1cd4ea-c376-4aa7-96e8-d235e2f0d5c3"
      },
      "source": [
        "cj = set()\n",
        "numerosRandomicos(cj, 4)\n",
        "print(cj)\n",
        "\n",
        "\n",
        "print(len(cj))\n",
        "\n",
        "cj.add(15)\n",
        "print(cj)\n",
        "print(len(cj))\n"
      ],
      "execution_count": 23,
      "outputs": [
        {
          "output_type": "stream",
          "name": "stdout",
          "text": [
            "{56, 41, 99, 9}\n",
            "4\n",
            "{99, 41, 9, 15, 56}\n",
            "5\n"
          ]
        }
      ]
    }
  ]
}