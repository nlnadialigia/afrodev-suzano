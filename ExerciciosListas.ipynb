{
  "nbformat": 4,
  "nbformat_minor": 0,
  "metadata": {
    "colab": {
      "name": "ExerciciosListas.ipynb",
      "provenance": [],
      "collapsed_sections": [],
      "include_colab_link": true
    },
    "kernelspec": {
      "name": "python3",
      "display_name": "Python 3"
    },
    "language_info": {
      "name": "python"
    }
  },
  "cells": [
    {
      "cell_type": "markdown",
      "metadata": {
        "id": "view-in-github",
        "colab_type": "text"
      },
      "source": [
        "<a href=\"https://colab.research.google.com/github/nlnadialigia/afrodev-suzano/blob/main/ExerciciosListas.ipynb\" target=\"_parent\"><img src=\"https://colab.research.google.com/assets/colab-badge.svg\" alt=\"Open In Colab\"/></a>"
      ]
    },
    {
      "cell_type": "markdown",
      "metadata": {
        "id": "Zi2yNmmNaQp7"
      },
      "source": [
        "#Listas"
      ]
    },
    {
      "cell_type": "markdown",
      "metadata": {
        "id": "qjqFZicie6up"
      },
      "source": [
        "## Úteis"
      ]
    },
    {
      "cell_type": "code",
      "metadata": {
        "id": "JIquaMRdfDtn"
      },
      "source": [
        "from random import random, uniform\n",
        "\n",
        "def num_random(x, tipo=int):\n",
        "  n = random() * x\n",
        "  if tipo == int:\n",
        "    n = int(n)\n",
        "  else:\n",
        "    n = round(float(n), 2)\n",
        "  return n\n"
      ],
      "execution_count": 68,
      "outputs": []
    },
    {
      "cell_type": "code",
      "metadata": {
        "id": "aNVRB-B_BHKZ"
      },
      "source": [
        "# Gerar vetor com n elementos inteiros\n",
        "\n",
        "def gerar_vetor(n, x):\n",
        "  \"\"\"\n",
        "  n: quantidade de elmentos no vetor\n",
        "  x: nome do vetor\n",
        "  \"\"\"\n",
        "  for i in range(n):\n",
        "    n = num_random(100)\n",
        "    x.append(n)\n",
        "  return x\n"
      ],
      "execution_count": 74,
      "outputs": []
    },
    {
      "cell_type": "markdown",
      "metadata": {
        "id": "Lh9zhIX5e8V3"
      },
      "source": [
        "## Exercícios"
      ]
    },
    {
      "cell_type": "markdown",
      "metadata": {
        "id": "xRXYZKh_aSyG"
      },
      "source": [
        "**Faça um Programa que leia um vetor de 5 números inteiros e mostre-os.**"
      ]
    },
    {
      "cell_type": "code",
      "metadata": {
        "id": "1cqglVAUaPfR",
        "colab": {
          "base_uri": "https://localhost:8080/"
        },
        "outputId": "9d2f1e25-694e-4241-ae54-bbcb9abd7c81"
      },
      "source": [
        "lista_int = []\n",
        "\n",
        "for i in range(5):\n",
        "  i = num_random(100)\n",
        "  lista_int.append(i)\n",
        "\n",
        "print(lista_int)\n",
        "\n"
      ],
      "execution_count": 12,
      "outputs": [
        {
          "output_type": "stream",
          "name": "stdout",
          "text": [
            "[32, 23, 69, 24, 42]\n"
          ]
        }
      ]
    },
    {
      "cell_type": "markdown",
      "metadata": {
        "id": "_o9CuchuaX63"
      },
      "source": [
        "**Faça um Programa que leia um vetor de 10 números reais e mostre-os na ordem inversa.**"
      ]
    },
    {
      "cell_type": "code",
      "metadata": {
        "id": "g8YiQJrOaaFr",
        "colab": {
          "base_uri": "https://localhost:8080/"
        },
        "outputId": "5df4ad3a-9e10-4dac-9335-c501ade40efd"
      },
      "source": [
        "lista_float = []\n",
        "\n",
        "for i in range(10):\n",
        "  i = num_random(100, float)\n",
        "  lista_float.append(i)\n",
        "\n",
        "lista_inversa = sorted(lista_float, reverse=True)\n",
        "\n",
        "print (f'lista => {lista_float}')\n",
        "print(f'lista inversa => {lista_inversa}')"
      ],
      "execution_count": 16,
      "outputs": [
        {
          "output_type": "stream",
          "name": "stdout",
          "text": [
            "lista => [87.44, 97.33, 57.33, 8.13, 18.98, 76.37, 98.29, 43.34, 89.26, 43.72]\n",
            "lista inversa => [98.29, 97.33, 89.26, 87.44, 76.37, 57.33, 43.72, 43.34, 18.98, 8.13]\n"
          ]
        }
      ]
    },
    {
      "cell_type": "markdown",
      "metadata": {
        "id": "gean9zzwaah1"
      },
      "source": [
        "**Faça um Programa que leia 4 notas, mostre as notas e a média na tela.**"
      ]
    },
    {
      "cell_type": "code",
      "metadata": {
        "id": "9RngfMfQadt8",
        "colab": {
          "base_uri": "https://localhost:8080/"
        },
        "outputId": "e93dbe98-3757-42d8-9c36-8318f7d39c47"
      },
      "source": [
        "notas = []\n",
        "\n",
        "for i in range(1, 5):\n",
        "  while True:\n",
        "    nota = input(f'Digite a {i}ª nota: ')\n",
        "    if nota.isalpha():\n",
        "      print('Valor inválido!')\n",
        "    else:\n",
        "      nota = float(nota)\n",
        "      if 0 <= nota <= 10:\n",
        "        notas.append(nota)\n",
        "        break\n",
        "      else:\n",
        "        print('Digite um valor entre 0 e 10.')\n",
        "\n",
        "media = sum(notas) / 4\n",
        "print(f'Notas digitadas: {notas}')\n",
        "print(f'Média final: {round(media, 1)}')"
      ],
      "execution_count": 39,
      "outputs": [
        {
          "output_type": "stream",
          "name": "stdout",
          "text": [
            "Digite a 1ª nota: 11\n",
            "Digite um valor entre 0 e 10.\n",
            "Digite a 1ª nota: 9\n",
            "Digite a 2ª nota: 3\n",
            "Digite a 3ª nota: 1.75\n",
            "Digite a 4ª nota: 9\n",
            "Notas digitadas: [9.0, 3.0, 1.75, 9.0]\n",
            "Média final: 5.7\n"
          ]
        }
      ]
    },
    {
      "cell_type": "markdown",
      "metadata": {
        "id": "ZAnqKkS2avOJ"
      },
      "source": [
        "**Faça um Programa que leia um vetor de 10 caracteres, e diga quantas consoantes foram lidas. Imprima as consoantes.**"
      ]
    },
    {
      "cell_type": "code",
      "metadata": {
        "id": "TfCH3yBNayAl",
        "colab": {
          "base_uri": "https://localhost:8080/"
        },
        "outputId": "19f20e95-7e63-45aa-9a3b-6f0ac8468e28"
      },
      "source": [
        "lista_caracteres = []\n",
        "count = 0\n",
        "\n",
        "for i in range(3):\n",
        "  while True:\n",
        "    c = input('Digite 1 caracter: ')\n",
        "    if len(c) != 1:\n",
        "      print('Digite somente 1 caracter!')\n",
        "    else:\n",
        "      if c.isalpha() and c.lower() not in 'aeiou': \n",
        "        count += 1\n",
        "      break\n",
        "  lista_caracteres.append(c)\n",
        "\n",
        "print(f'Caracteres => {lista_caracteres}')\n",
        "print(f'Foram digitadas {count} consoantes.')\n",
        "\n",
        "\n",
        "  "
      ],
      "execution_count": 49,
      "outputs": [
        {
          "output_type": "stream",
          "name": "stdout",
          "text": [
            "Digite 1 caracter: d\n",
            "Digite 1 caracter: h\n",
            "Digite 1 caracter: 9\n",
            "Caracteres => ['d', 'h', '9']\n",
            "Foram digitadas 2 consoantes.\n"
          ]
        }
      ]
    },
    {
      "cell_type": "markdown",
      "metadata": {
        "id": "jhP6I4bUaydD"
      },
      "source": [
        "**Faça um Programa que leia 20 números inteiros e armazene-os num vetor. Armazene os números pares no vetor PAR e os números IMPARES no vetor impar. Imprima os três vetores.**"
      ]
    },
    {
      "cell_type": "code",
      "metadata": {
        "id": "Hk_jo71Sa0pf",
        "colab": {
          "base_uri": "https://localhost:8080/"
        },
        "outputId": "ec60d8ad-772f-4b7a-d4cd-04a61686d73a"
      },
      "source": [
        "vetor_numeros = []\n",
        "pares = []\n",
        "impares = []\n",
        "\n",
        "for i in range(20):\n",
        "  n = num_random(100)\n",
        "  vetor_numeros.append(n)\n",
        "  if n % 2 == 0:\n",
        "    pares.append(n)\n",
        "  else:\n",
        "    impares.append(n)\n",
        "\n",
        "print(f'Vetor => {vetor_numeros}')\n",
        "print(f'Pares => {pares}')\n",
        "print(f'Ímpares => {impares}')"
      ],
      "execution_count": 51,
      "outputs": [
        {
          "output_type": "stream",
          "name": "stdout",
          "text": [
            "Vetor => [31, 8, 55, 45, 85, 6, 50, 93, 12, 67, 72, 34, 81, 55, 54, 45, 10, 15, 75, 82]\n",
            "Pares => [8, 6, 50, 12, 72, 34, 54, 10, 82]\n",
            "Ímpares => [31, 55, 45, 85, 93, 67, 81, 55, 45, 15, 75]\n"
          ]
        }
      ]
    },
    {
      "cell_type": "markdown",
      "metadata": {
        "id": "BWffYQ2pa1GW"
      },
      "source": [
        "**Faça um Programa que peça as quatro notas de 10 alunos, calcule e armazene num vetor a média de cada aluno, imprima o número de alunos com média maior ou igual a 7.0.**"
      ]
    },
    {
      "cell_type": "code",
      "metadata": {
        "id": "JzRRogX_a3hI",
        "colab": {
          "base_uri": "https://localhost:8080/"
        },
        "outputId": "eb08cd81-bffc-41eb-9f14-b225a86317a1"
      },
      "source": [
        "medias = []\n",
        "\n",
        "for i in range(10):\n",
        "  soma = 0\n",
        "  media = 0\n",
        "  for j in range(4):\n",
        "    nota = num_random(10, float)\n",
        "    soma += nota\n",
        "  media = soma / 4\n",
        "  medias.append(round(media, 1))\n",
        "\n",
        "print(f'Médias => {medias}')\n",
        "count = 0\n",
        "for i in range(len(medias)):\n",
        "  if medias[i] >= 7:\n",
        "    count += 1\n",
        "if count == 0:\n",
        "  print('Nenhum aluno atingiu a média.')\n",
        "else:\n",
        "  print(f'{count}', end=' ')\n",
        "  if count == 1:\n",
        "    print('aluno', end=' ')\n",
        "  else:\n",
        "    print('alunos', end=' ')\n",
        "  print(f'tiveram média maior ou igual a 7')"
      ],
      "execution_count": 60,
      "outputs": [
        {
          "output_type": "stream",
          "name": "stdout",
          "text": [
            "Médias => [4.2, 6.9, 6.4, 5.2, 5.5, 3.3, 6.9, 4.4, 3.2, 4.3]\n",
            "Nenhum aluno atingiu a média.\n"
          ]
        }
      ]
    },
    {
      "cell_type": "markdown",
      "metadata": {
        "id": "KB48Enm4a3-Q"
      },
      "source": [
        "**Faça um Programa que leia um vetor de 5 números inteiros, mostre a soma, a multiplicação e os números.**"
      ]
    },
    {
      "cell_type": "code",
      "metadata": {
        "id": "WjdynRhPa7Bg",
        "colab": {
          "base_uri": "https://localhost:8080/"
        },
        "outputId": "cbb79e64-5ad6-411c-bbb8-8eaa8ebe3576"
      },
      "source": [
        "lista_num = []\n",
        "mult = 1\n",
        "\n",
        "for i in range(5):\n",
        "  n = num_random(10)\n",
        "  lista_num.append(n)\n",
        "  mult *= n\n",
        "\n",
        "soma = sum(lista_num)\n",
        "\n",
        "print(f'Números => {lista_num}')\n",
        "print(f'Soma = {soma}')\n",
        "print(f'Multiplicação = {mult}')\n"
      ],
      "execution_count": 62,
      "outputs": [
        {
          "output_type": "stream",
          "name": "stdout",
          "text": [
            "Números => [6, 1, 2, 2, 7]\n",
            "Soma = 18\n",
            "Multiplicação = 168\n"
          ]
        }
      ]
    },
    {
      "cell_type": "markdown",
      "metadata": {
        "id": "9fHsPAHca7cC"
      },
      "source": [
        "**Faça um Programa que peça a idade e a altura de 5 pessoas, armazene cada informação no seu respectivo vetor. Imprima a idade e a altura na ordem inversa a ordem lida.**"
      ]
    },
    {
      "cell_type": "code",
      "metadata": {
        "id": "lIIGO8Pga97Y",
        "colab": {
          "base_uri": "https://localhost:8080/"
        },
        "outputId": "08868131-b8df-4f31-f417-e1789802c292"
      },
      "source": [
        "idades = []\n",
        "alturas = []\n",
        "\n",
        "for i in range(5):\n",
        "  idade = num_random(100)\n",
        "  idades.append(idade)\n",
        "  altura = round(uniform(1, 3), 2)\n",
        "  alturas.append(altura)\n",
        "\n",
        "idades_r = sorted(idades, reverse=True)\n",
        "alturas_r = sorted(alturas, reverse=True)\n",
        "\n",
        "print(f'Idades => {idades}')\n",
        "print(f'idades em ordem inversa => {idades_r}')\n",
        "\n",
        "print(f'Alturas => {alturas}')\n",
        "print(f'Alturas em ordem inversa => {alturas_r}')"
      ],
      "execution_count": 70,
      "outputs": [
        {
          "output_type": "stream",
          "name": "stdout",
          "text": [
            "Idades => [76, 27, 6, 26, 76]\n",
            "idades em ordem inversa => [76, 76, 27, 26, 6]\n",
            "Alturas => [1.13, 1.93, 1.29, 2.7, 2.49]\n",
            "Alturas em ordem inversa => [2.7, 2.49, 1.93, 1.29, 1.13]\n"
          ]
        }
      ]
    },
    {
      "cell_type": "markdown",
      "metadata": {
        "id": "dmwGmZN_a-f8"
      },
      "source": [
        "**Faça um Programa que leia um vetor A com 10 números inteiros, calcule e mostre a soma dos quadrados dos elementos do vetor.**"
      ]
    },
    {
      "cell_type": "code",
      "metadata": {
        "id": "-KYKHcwibBYY",
        "colab": {
          "base_uri": "https://localhost:8080/"
        },
        "outputId": "3e7e57bb-e7b7-423c-c455-cf8705fc9cab"
      },
      "source": [
        "A = []\n",
        "soma = 0\n",
        "for i in range(3):\n",
        "  n = num_random(100)\n",
        "  A.append(n)\n",
        "  soma += (n * n)\n",
        "print(f'A => {A}')\n",
        "print(f'A soma dos quadrados do vetor A é igual a {soma}')"
      ],
      "execution_count": 73,
      "outputs": [
        {
          "output_type": "stream",
          "name": "stdout",
          "text": [
            "A => [1, 50, 45]\n",
            "A soma dos quadrados do vetor A é igual a 4526\n"
          ]
        }
      ]
    },
    {
      "cell_type": "markdown",
      "metadata": {
        "id": "IdRRYMhNbB0K"
      },
      "source": [
        "**Faça um Programa que leia dois vetores com 10 elementos cada. Gere um terceiro vetor de 20 elementos, cujos valores deverão ser compostos pelos elementos intercalados dos dois outros vetores.**"
      ]
    },
    {
      "cell_type": "code",
      "metadata": {
        "id": "RvVAHlEobEGA",
        "colab": {
          "base_uri": "https://localhost:8080/"
        },
        "outputId": "04cd4a6d-e261-4365-da3e-3e649b983dde"
      },
      "source": [
        "a = []\n",
        "b = []\n",
        "c = []\n",
        "a = gerar_vetor(10, a)\n",
        "b = gerar_vetor(10, b)\n",
        "\n",
        "for i in range(10):\n",
        "  c.append(a[i])\n",
        "  c.append(b[i])\n",
        "\n",
        "print(f'a = {a}')\n",
        "print(f'b = {b}')\n",
        "print(f'c = {c}')"
      ],
      "execution_count": 99,
      "outputs": [
        {
          "output_type": "stream",
          "name": "stdout",
          "text": [
            "a = [53, 52, 24, 61, 81, 0, 45, 44, 44, 19]\n",
            "b = [6, 48, 68, 39, 2, 39, 45, 33, 4, 42]\n",
            "c = [53, 6, 52, 48, 24, 68, 61, 39, 81, 2, 0, 39, 45, 45, 44, 33, 44, 4, 19, 42]\n"
          ]
        }
      ]
    },
    {
      "cell_type": "markdown",
      "metadata": {
        "id": "dmoTbe5LbEif"
      },
      "source": [
        "**Altere o programa anterior, intercalando 3 vetores de 10 elementos cada.**"
      ]
    },
    {
      "cell_type": "code",
      "metadata": {
        "id": "sr49NXpMbHWP"
      },
      "source": [
        ""
      ],
      "execution_count": null,
      "outputs": []
    },
    {
      "cell_type": "markdown",
      "metadata": {
        "id": "ay0rZ2s_bH1C"
      },
      "source": [
        "**Foram anotadas as idades e alturas de 30 alunos. Faça um Programa que determine quantos alunos com mais de 13 anos possuem altura inferior à média de altura desses alunos.**"
      ]
    },
    {
      "cell_type": "code",
      "metadata": {
        "id": "nAo7s0IEbKO3"
      },
      "source": [
        ""
      ],
      "execution_count": null,
      "outputs": []
    },
    {
      "cell_type": "markdown",
      "metadata": {
        "id": "iItfrlP_bKn1"
      },
      "source": [
        "**Faça um programa que receba a temperatura média de cada mês do ano e armazene-as em uma lista. Após isto, calcule a média anual das temperaturas e mostre todas as temperaturas acima da média anual, e em que mês elas ocorreram (mostrar o mês por extenso: 1 – Janeiro, 2 – Fevereiro, . . . ).**"
      ]
    },
    {
      "cell_type": "code",
      "metadata": {
        "id": "m81vLFoBbNai"
      },
      "source": [
        ""
      ],
      "execution_count": null,
      "outputs": []
    },
    {
      "cell_type": "markdown",
      "metadata": {
        "id": "JSUr_I2vbTuM"
      },
      "source": [
        "**Utilizando listas faça um programa que faça 5 perguntas para uma pessoa sobre um crime. As perguntas são:**\n",
        "\n",
        "1. \"Telefonou para a vítima?\"\n",
        "2. \"Esteve no local do crime?\"\n",
        "3. \"Mora perto da vítima?\"\n",
        "4. \"Devia para a vítima?\"\n",
        "5. \"Já trabalhou com a vítima?\" O programa deve no final emitir uma classificação sobre a participação da pessoa no crime. Se a pessoa responder positivamente a 2 questões ela deve ser classificada como \"Suspeita\", entre 3 e 4 como \"Cúmplice\" e 5 como \"Assassino\". Caso contrário, ele será classificado como \"Inocente\"."
      ]
    },
    {
      "cell_type": "code",
      "metadata": {
        "id": "UvzC4bCCbata"
      },
      "source": [
        ""
      ],
      "execution_count": null,
      "outputs": []
    },
    {
      "cell_type": "markdown",
      "metadata": {
        "id": "gVTTqib9bbx3"
      },
      "source": [
        "**Faça um programa que leia um número indeterminado de valores, correspondentes a notas, encerrando a entrada de dados quando for informado um valor igual a -1 (que não deve ser armazenado). Após esta entrada de dados, faça:**\n",
        "\n",
        "1. Mostre a quantidade de valores que foram lidos;\n",
        "2. Exiba todos os valores na ordem em que foram informados, um ao lado do outro;\n",
        "3. Exiba todos os valores na ordem inversa à que foram informados, um abaixo do outro;\n",
        "4. Calcule e mostre a soma dos valores;\n",
        "5. Calcule e mostre a média dos valores;\n",
        "6. Calcule e mostre a quantidade de valores acima da média calculada;\n",
        "7. Calcule e mostre a quantidade de valores abaixo de sete;\n",
        "8. Encerre o programa com uma mensagem;"
      ]
    },
    {
      "cell_type": "code",
      "metadata": {
        "id": "RLEIlUGZbfDG"
      },
      "source": [
        ""
      ],
      "execution_count": null,
      "outputs": []
    },
    {
      "cell_type": "markdown",
      "metadata": {
        "id": "mvAHzXuobqDj"
      },
      "source": [
        "**Utilize uma lista para resolver o problema a seguir. Uma empresa paga seus vendedores com base em comissões. O vendedor recebe 200 por semana mais 9 por cento de suas vendas brutas daquela semana. Por exemplo, um vendedor que teve vendas brutas de 3000 em uma semana recebe 200 mais 9 por cento de 3000, ou seja, um total de 470. Escreva um programa (usando um array de contadores) que determine quantos vendedores receberam salários nos seguintes intervalos de valores:**\n",
        "\n",
        "\n",
        "\n",
        "```\n",
        "a. $200 - $299\n",
        "b. $300 - $399\n",
        "c. $400 - $499\n",
        "d. $500 - $599\n",
        "e. $600 - $699\n",
        "f. $700 - $799\n",
        "g. $800 - $899\n",
        "h. $900 - $999\n",
        "i. $1000 em diante\n",
        "\n",
        "```\n",
        "\n",
        "Desafio: Crie ma fórmula para chegar na posição da lista a partir do salário, sem fazer vários ifs aninhados.\n",
        "\n"
      ]
    },
    {
      "cell_type": "code",
      "metadata": {
        "id": "HBmvcj6ZcC_J"
      },
      "source": [
        ""
      ],
      "execution_count": null,
      "outputs": []
    },
    {
      "cell_type": "markdown",
      "metadata": {
        "id": "ZWrwQrE4cF7z"
      },
      "source": [
        "**Em uma competição de salto em distância cada atleta tem direito a cinco saltos. O resultado do atleta será determinado pela média dos cinco valores restantes. Você deve fazer um programa que receba o nome e as cinco distâncias alcançadas pelo atleta em seus saltos e depois informe o nome, os saltos e a média dos saltos. O programa deve ser encerrado quando não for informado o nome do atleta. A saída do programa deve ser conforme o exemplo abaixo:**\n",
        "\n",
        "\n",
        "\n",
        "```\n",
        "Atleta: Rodrigo Curvêllo\n",
        " \n",
        "Primeiro Salto: 6.5 m\n",
        "Segundo Salto: 6.1 m\n",
        "Terceiro Salto: 6.2 m\n",
        "Quarto Salto: 5.4 m\n",
        "Quinto Salto: 5.3 m\n",
        "\n",
        "Resultado final:\n",
        "Atleta: Rodrigo Curvêllo\n",
        "Saltos: 6.5 - 6.1 - 6.2 - 5.4 - 5.3\n",
        "Média dos saltos: 5.9 m\n",
        "```\n",
        "\n"
      ]
    },
    {
      "cell_type": "code",
      "metadata": {
        "id": "VeCitpOacMjH"
      },
      "source": [
        ""
      ],
      "execution_count": null,
      "outputs": []
    },
    {
      "cell_type": "markdown",
      "metadata": {
        "id": "vgzaom0CcOEp"
      },
      "source": [
        "**Uma empresa de pesquisas precisa tabular os resultados da seguinte enquete feita a um grande quantidade de organizações:**\n",
        "\n",
        "\n",
        "```\n",
        "\"Qual o melhor Sistema Operacional para uso em servidores?\"\n",
        "\n",
        "As possíveis respostas são:\n",
        "\n",
        "1- Windows Server\n",
        "2- Unix\n",
        "3- Linux\n",
        "4- Netware\n",
        "5- Mac OS\n",
        "6- Outro\n",
        "```\n",
        "\n",
        "**Você foi contratado para desenvolver um programa que leia o resultado da enquete e informe ao final o resultado da mesma. O programa deverá ler os valores até ser informado o valor 0, que encerra a entrada dos dados. Não deverão ser aceitos valores além dos válidos para o programa (0 a 6). Os valores referentes a cada uma das opções devem ser armazenados num vetor. Após os dados terem sido completamente informados, o programa deverá calcular a percentual de cada um dos concorrentes e informar o vencedor da enquete. O formato da saída foi dado pela empresa, e é o seguinte:**\n",
        "\n",
        "\n",
        "```\n",
        "Sistema Operacional     Votos   %\n",
        "-------------------     -----   ---\n",
        "Windows Server           1500   17%\n",
        "Unix                     3500   40%\n",
        "Linux                    3000   34%\n",
        "Netware                   500    5%\n",
        "Mac OS                    150    2%\n",
        "Outro                     150    2%\n",
        "-------------------     -----\n",
        "Total                    8800\n",
        "\n",
        "O Sistema Operacional mais votado foi o Unix, com 3500 votos, correspondendo a 40% dos votos.\n",
        "```\n",
        "\n",
        "\n"
      ]
    },
    {
      "cell_type": "code",
      "metadata": {
        "id": "s1It43I2cyeF"
      },
      "source": [
        ""
      ],
      "execution_count": null,
      "outputs": []
    },
    {
      "cell_type": "markdown",
      "metadata": {
        "id": "s3AD2Kx0c54j"
      },
      "source": [
        "**Faça um programa que simule um lançamento de dados. Lance o dado 100 vezes e armazene os resultados em um vetor . Depois, mostre quantas vezes cada valor foi conseguido. Dica: use um vetor de contadores(1-6) e uma função para gerar numeros aleatórios, simulando os lançamentos dos dados.**"
      ]
    },
    {
      "cell_type": "code",
      "metadata": {
        "id": "eABNt9ozc7JY"
      },
      "source": [
        ""
      ],
      "execution_count": null,
      "outputs": []
    }
  ]
}