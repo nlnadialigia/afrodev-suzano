{
  "nbformat": 4,
  "nbformat_minor": 0,
  "metadata": {
    "colab": {
      "name": "formulario_fofoqueiro.ipynb",
      "provenance": [],
      "collapsed_sections": [],
      "authorship_tag": "ABX9TyNV5ShF/YNd3U2tHSxihlBF",
      "include_colab_link": true
    },
    "kernelspec": {
      "name": "python3",
      "display_name": "Python 3"
    },
    "language_info": {
      "name": "python"
    }
  },
  "cells": [
    {
      "cell_type": "markdown",
      "metadata": {
        "id": "view-in-github",
        "colab_type": "text"
      },
      "source": [
        "<a href=\"https://colab.research.google.com/github/nlnadialigia/afrodev-suzano/blob/main/formulario_fofoqueiro.ipynb\" target=\"_parent\"><img src=\"https://colab.research.google.com/assets/colab-badge.svg\" alt=\"Open In Colab\"/></a>"
      ]
    },
    {
      "cell_type": "code",
      "metadata": {
        "id": "gV-GSy5aZqAM"
      },
      "source": [
        "import numpy as np"
      ],
      "execution_count": 22,
      "outputs": []
    },
    {
      "cell_type": "code",
      "metadata": {
        "id": "N-qH-2hwYLxp"
      },
      "source": [
        "import csv"
      ],
      "execution_count": 23,
      "outputs": []
    },
    {
      "cell_type": "code",
      "metadata": {
        "id": "S9j8WTFoYb4H"
      },
      "source": [
        "afrodev = open('/content/formulario.csv')"
      ],
      "execution_count": 36,
      "outputs": []
    },
    {
      "cell_type": "code",
      "metadata": {
        "id": "SiIoKXGGYy0b"
      },
      "source": [
        "csvreader = csv.reader(afrodev, delimiter=';')"
      ],
      "execution_count": 37,
      "outputs": []
    },
    {
      "cell_type": "code",
      "metadata": {
        "id": "q2XO3vYTY3mq"
      },
      "source": [
        "# Inserção dos títulos em um lista\n",
        "\n",
        "header = []\n",
        "header = next(csvreader)\n",
        "\n",
        "# Inserção das informações em uma lista\n",
        "rows = []\n",
        "for row in csvreader:\n",
        "  rows.append(row)"
      ],
      "execution_count": 38,
      "outputs": []
    },
    {
      "cell_type": "code",
      "metadata": {
        "id": "9I8zO9f3ZITH"
      },
      "source": [
        "# Inclusão do array de rows em uma variável\n",
        "alunos_afrodev = np.array(rows)\n",
        "\n",
        "# Fechamento do arquivo\n",
        "afrodev.close()"
      ],
      "execution_count": 39,
      "outputs": []
    },
    {
      "cell_type": "code",
      "metadata": {
        "colab": {
          "base_uri": "https://localhost:8080/"
        },
        "id": "zjfsIP3hZt8H",
        "outputId": "9e83a3d2-91ca-43d6-c67e-fc08ad423c43"
      },
      "source": [
        "# Header - Topo do arquivo\n",
        "\n",
        "{i: val for i, val in enumerate(header)}\n"
      ],
      "execution_count": 40,
      "outputs": [
        {
          "output_type": "execute_result",
          "data": {
            "text/plain": [
              "{0: 'User_id',\n",
              " 1: 'Carimbo de data/hora',\n",
              " 2: 'Gênero ',\n",
              " 3: 'Idade',\n",
              " 4: 'CEP',\n",
              " 5: 'Gíria da sua cidade',\n",
              " 6: 'Estilo de música favorita',\n",
              " 7: 'Cor favorita ',\n",
              " 8: 'Número de irmãos ',\n",
              " 9: 'Qual seu salário dos sonhos ? ',\n",
              " 10: 'Gosta de programação',\n",
              " 11: 'Gosta de matemática',\n",
              " 12: 'Qual sua série favorita?',\n",
              " 13: 'Você gosta do seu nome?',\n",
              " 14: 'Você acredita em ET?',\n",
              " 15: 'Uma data importante',\n",
              " 16: 'Qual joia do infinito dos vingadores vocês gostaria de possuir ?',\n",
              " 17: 'O quão atraente você se considera de 0 até 10',\n",
              " 18: 'O quanto você gosta de café?',\n",
              " 19: 'Você prefere gato ou cachorro?'}"
            ]
          },
          "metadata": {},
          "execution_count": 40
        }
      ]
    },
    {
      "cell_type": "code",
      "metadata": {
        "colab": {
          "base_uri": "https://localhost:8080/"
        },
        "id": "R7Dp63Sjb1dS",
        "outputId": "0761968b-069d-4a6f-9b09-db0f5c225dce"
      },
      "source": [
        "# Nossos dados\n",
        "\n",
        "alunos_afrodev[:5]"
      ],
      "execution_count": 42,
      "outputs": [
        {
          "output_type": "execute_result",
          "data": {
            "text/plain": [
              "array([['1', '04/10/2021 20:05:11', 'Masculino', '31', '90660170',\n",
              "        'Porto Alegre', 'Rock', 'Azul Marinho', '0', 'R$ 5.000', 'Sim',\n",
              "        'Sim', 'Naruto Shippuden', 'Sim', 'Não', '17/12/2018',\n",
              "        'JOIA DA ALMA', '8', '10', 'Cachorro'],\n",
              "       ['2', '04/10/2021 20:05:15', 'Masculino', '26', '44380000',\n",
              "        'Barril', 'Forró', 'Azul', '1', '12000', 'Sim', 'Sim', 'Suits',\n",
              "        'Sim', 'Sim', '05/03/1995', 'JOIA DO TEMPO', '10', '5',\n",
              "        'Cachorro'],\n",
              "       ['3', '04/10/2021 20:05:25', 'Feminino', '23', '57061110',\n",
              "        'Maceió', 'Rock', 'Verde', '1', '10000', 'Sim', 'Sim', 'Friends',\n",
              "        'Sim', 'Sim', '16/04/2018', 'JOIA DO TEMPO', '8', '10', 'Gato'],\n",
              "       ['4', '04/10/2021 20:05:32', 'Masculino', '27', '45820-085',\n",
              "        'Fazer um reg', 'Forró', 'Azul', '3', '10k', 'Sim', 'Sim',\n",
              "        'Game of Thrones', 'Sim', 'Sim', '02/08/2017',\n",
              "        'JOIA DA REALIDADE', '6', '3', 'Gato'],\n",
              "       ['5', '04/10/2021 20:05:34', 'Masculino', '20', '45930-000',\n",
              "        'Didiel', 'Pagode', 'Preto', '3', '10000', 'Sim', 'Sim',\n",
              "        'Mr. Robot', 'Sim', 'Não', '23/05/2001', 'JOIA DO TEMPO', '8',\n",
              "        '5', 'Cachorro']], dtype='<U26')"
            ]
          },
          "metadata": {},
          "execution_count": 42
        }
      ]
    },
    {
      "cell_type": "code",
      "metadata": {
        "colab": {
          "base_uri": "https://localhost:8080/"
        },
        "id": "hzLhS-Acb-aO",
        "outputId": "6845406d-6b35-410e-eb9e-6cce00841b63"
      },
      "source": [
        "# Quantidade de linhas e colunas\n",
        "\n",
        "alunos_afrodev.shape"
      ],
      "execution_count": 43,
      "outputs": [
        {
          "output_type": "execute_result",
          "data": {
            "text/plain": [
              "(2560, 20)"
            ]
          },
          "metadata": {},
          "execution_count": 43
        }
      ]
    },
    {
      "cell_type": "code",
      "metadata": {
        "colab": {
          "base_uri": "https://localhost:8080/"
        },
        "id": "4sxCFEnxcFvV",
        "outputId": "b6bfdbd6-3cad-41d2-a2de-e014369cd87b"
      },
      "source": [
        "# Quantidade de dimensões\n",
        "\n",
        "alunos_afrodev.ndim"
      ],
      "execution_count": 44,
      "outputs": [
        {
          "output_type": "execute_result",
          "data": {
            "text/plain": [
              "2"
            ]
          },
          "metadata": {},
          "execution_count": 44
        }
      ]
    },
    {
      "cell_type": "code",
      "metadata": {
        "colab": {
          "base_uri": "https://localhost:8080/"
        },
        "id": "EfKdd8gtcRTc",
        "outputId": "112bc9d8-7869-400b-add0-7fcb1673f3e3"
      },
      "source": [
        "# COMO PODEMOS FAZER PARA PEGAR UMA COLUNA ESPECIFICA EM FORMA DE LISTA?\n",
        "\n",
        "print(alunos_afrodev[:,0])"
      ],
      "execution_count": 49,
      "outputs": [
        {
          "output_type": "stream",
          "name": "stdout",
          "text": [
            "['1' '2' '3' ... '2558' '2559' '2560']\n"
          ]
        }
      ]
    },
    {
      "cell_type": "code",
      "metadata": {
        "colab": {
          "base_uri": "https://localhost:8080/"
        },
        "id": "Pdjc7u1DczqB",
        "outputId": "7ec3a5eb-af03-4f65-a8f8-d777b81618dd"
      },
      "source": [
        "# E como fariamos para pegar duas colunas?\n",
        "\n",
        "print(alunos_afrodev[:,0:2][:2])"
      ],
      "execution_count": 52,
      "outputs": [
        {
          "output_type": "stream",
          "name": "stdout",
          "text": [
            "[['1' '04/10/2021 20:05:11']\n",
            " ['2' '04/10/2021 20:05:15']]\n"
          ]
        }
      ]
    },
    {
      "cell_type": "code",
      "metadata": {
        "colab": {
          "base_uri": "https://localhost:8080/"
        },
        "id": "fjznBOSHcH5U",
        "outputId": "a710c3bd-f9d7-47a4-82c2-044604eee141"
      },
      "source": [
        "# Para pegar colunas especificas basta fazermos uma lista com as colunas que queremos\n",
        "\n",
        "colunas = [0, 2 ,3]\n",
        "print(alunos_afrodev[:, colunas][:5])"
      ],
      "execution_count": 53,
      "outputs": [
        {
          "output_type": "stream",
          "name": "stdout",
          "text": [
            "[['1' 'Masculino' '31']\n",
            " ['2' 'Masculino' '26']\n",
            " ['3' 'Feminino' '23']\n",
            " ['4' 'Masculino' '27']\n",
            " ['5' 'Masculino' '20']]\n"
          ]
        }
      ]
    },
    {
      "cell_type": "markdown",
      "metadata": {
        "id": "H1MoaVxtdVOd"
      },
      "source": [
        "## EXERCÍCIO"
      ]
    },
    {
      "cell_type": "markdown",
      "metadata": {
        "id": "a1tCoziJgelC"
      },
      "source": [
        "### Calcular a média de idade"
      ]
    },
    {
      "cell_type": "code",
      "metadata": {
        "colab": {
          "base_uri": "https://localhost:8080/"
        },
        "id": "LdsKxGFedOtD",
        "outputId": "964da79a-ecb8-41ce-f5ab-295a959fbac8"
      },
      "source": [
        "# Média de idade\n",
        "\n",
        "idades = alunos_afrodev[:,3]\n",
        "print(idades[:100])"
      ],
      "execution_count": 69,
      "outputs": [
        {
          "output_type": "stream",
          "name": "stdout",
          "text": [
            "['31' '26' '23' '27' '20' '30' '27' '28' '43' '28' '24' '39' '33' '32'\n",
            " '21' '25' '41' '33 anos' '35 anos' '20' '26' '52' '29' '23' '38' '35'\n",
            " '41' '20' '23' '28' '21' '21' '31' '26' '23' '27' '20' '30' '27' '28'\n",
            " '43' '28' '24' '39' '33' '32' '21' '25' '41' '33 anos' '35 anos' '20'\n",
            " '26' '52' '29' '23' '38' '35' '41' '20' '23' '28' '21' '21' '31' '26'\n",
            " '23' '27' '20' '30' '27' '28' '43' '28' '24' '39' '33' '32' '21' '25'\n",
            " '41' '33 anos' '35 anos' '20' '26' '52' '29' '23' '38' '35' '41' '20'\n",
            " '23' '28' '21' '21' '31' '26' '23' '27']\n"
          ]
        }
      ]
    },
    {
      "cell_type": "code",
      "metadata": {
        "colab": {
          "base_uri": "https://localhost:8080/"
        },
        "id": "anz6DEIUeVg3",
        "outputId": "df2e3a6b-ec06-4dee-f9b6-b5d49c35c013"
      },
      "source": [
        "idade = np.array([int(s.split(' ')[0]) for s in idades])\n",
        "\n",
        "print(idade[:100])"
      ],
      "execution_count": 78,
      "outputs": [
        {
          "output_type": "stream",
          "name": "stdout",
          "text": [
            "[31 26 23 27 20 30 27 28 43 28 24 39 33 32 21 25 41 33 35 20 26 52 29 23\n",
            " 38 35 41 20 23 28 21 21 31 26 23 27 20 30 27 28 43 28 24 39 33 32 21 25\n",
            " 41 33 35 20 26 52 29 23 38 35 41 20 23 28 21 21 31 26 23 27 20 30 27 28\n",
            " 43 28 24 39 33 32 21 25 41 33 35 20 26 52 29 23 38 35 41 20 23 28 21 21\n",
            " 31 26 23 27]\n"
          ]
        }
      ]
    },
    {
      "cell_type": "code",
      "metadata": {
        "colab": {
          "base_uri": "https://localhost:8080/"
        },
        "id": "ISJtZKGMgWo3",
        "outputId": "b4d30d9e-2152-4f83-9512-a170bdd9dc43"
      },
      "source": [
        "idade.mean()"
      ],
      "execution_count": 79,
      "outputs": [
        {
          "output_type": "execute_result",
          "data": {
            "text/plain": [
              "29.46875"
            ]
          },
          "metadata": {},
          "execution_count": 79
        }
      ]
    },
    {
      "cell_type": "markdown",
      "metadata": {
        "id": "QAqtAC8wghRB"
      },
      "source": [
        "### Calcular o somatório do salário dos sonhos"
      ]
    },
    {
      "cell_type": "code",
      "metadata": {
        "colab": {
          "base_uri": "https://localhost:8080/"
        },
        "id": "WtjcZ54UgjKA",
        "outputId": "b0c3e61b-feb6-45c3-ba54-0e117d67869a"
      },
      "source": [
        "salarios_sonho = alunos_afrodev[:,9]\n",
        "print(salarios_sonho[:32])"
      ],
      "execution_count": 84,
      "outputs": [
        {
          "output_type": "stream",
          "name": "stdout",
          "text": [
            "['R$ 5.000' '12000' '10000' '10k' '10000' '20000' '10000' '10000'\n",
            " 'R$ 15.000' '30000' '50000' '28000' '15000' '15 mil' '7000' '120 mil'\n",
            " '7000' '15000' '25 mil reais' '10k+' '40 mil' 'R$ 20.000' '15000' '5 mil'\n",
            " 'R$ 20.000' '20.000 mensais' '7000' '100000' '50000' '20000' '3000'\n",
            " '100mil']\n"
          ]
        }
      ]
    },
    {
      "cell_type": "code",
      "metadata": {
        "id": "ip5ohDPfgw3X"
      },
      "source": [
        "# Tratamento dos dados\n",
        "\n",
        "def tratamento_dados(valor):\n",
        "  dado_tratado = valor.replace('R$', '').replace('k', '000').replace(' ', '').replace('mil', '000').replace('+', '').replace('mensais', '').replace(',00', '').replace('reais','')\n",
        "  dado_tratado = dado_tratado.replace('.', '')\n",
        "  return dado_tratado"
      ],
      "execution_count": 96,
      "outputs": []
    },
    {
      "cell_type": "code",
      "metadata": {
        "colab": {
          "base_uri": "https://localhost:8080/",
          "height": 35
        },
        "id": "sS5S7ZLfiCoM",
        "outputId": "54080acf-5ada-463a-ca6b-c11a45f598c5"
      },
      "source": [
        "tratamento_dados('12.000')"
      ],
      "execution_count": 93,
      "outputs": [
        {
          "output_type": "execute_result",
          "data": {
            "application/vnd.google.colaboratory.intrinsic+json": {
              "type": "string"
            },
            "text/plain": [
              "'12000'"
            ]
          },
          "metadata": {},
          "execution_count": 93
        }
      ]
    },
    {
      "cell_type": "code",
      "metadata": {
        "colab": {
          "base_uri": "https://localhost:8080/"
        },
        "id": "PW0V-LU7hl_t",
        "outputId": "f1add9b5-0476-470f-d329-d87a845d0355"
      },
      "source": [
        "salarios_tratados = np.array([int(tratamento_dados(i)) for i in salarios_sonho])\n",
        "print(salarios_tratados[:100])"
      ],
      "execution_count": 99,
      "outputs": [
        {
          "output_type": "stream",
          "name": "stdout",
          "text": [
            "[  5000  12000  10000  10000  10000  20000  10000  10000  15000  30000\n",
            "  50000  28000  15000  15000   7000 120000   7000  15000  25000  10000\n",
            "  40000  20000  15000   5000  20000  20000   7000 100000  50000  20000\n",
            "   3000 100000   5000  12000  10000  10000  10000  20000  10000  10000\n",
            "  15000  30000  50000  28000  15000  15000   7000 120000   7000  15000\n",
            "  25000  10000  40000  20000  15000   5000  20000  20000   7000 100000\n",
            "  50000  20000   3000 100000   5000  12000  10000  10000  10000  20000\n",
            "  10000  10000  15000  30000  50000  28000  15000  15000   7000 120000\n",
            "   7000  15000  25000  10000  40000  20000  15000   5000  20000  20000\n",
            "   7000 100000  50000  20000   3000 100000   5000  12000  10000  10000]\n"
          ]
        }
      ]
    },
    {
      "cell_type": "code",
      "metadata": {
        "colab": {
          "base_uri": "https://localhost:8080/"
        },
        "id": "kTgb1xA5mq-b",
        "outputId": "5dfbeb4b-41cf-46e5-96df-34b9406a4ddc"
      },
      "source": [
        "soma_salarios = sum(salarios_tratados)\n",
        "print(soma_salarios)\n"
      ],
      "execution_count": 101,
      "outputs": [
        {
          "output_type": "stream",
          "name": "stdout",
          "text": [
            "65920000\n"
          ]
        }
      ]
    },
    {
      "cell_type": "markdown",
      "metadata": {
        "id": "0GrSRlNhnWow"
      },
      "source": [
        "### Qual o valor médio para a pergunta 'O quanto você gosta de café?'"
      ]
    },
    {
      "cell_type": "code",
      "metadata": {
        "colab": {
          "base_uri": "https://localhost:8080/"
        },
        "id": "GzANJNU1nXqw",
        "outputId": "07ea72d1-f035-4c70-bee0-f97e51506279"
      },
      "source": [
        "print(alunos_afrodev[:, 18][:100])"
      ],
      "execution_count": 103,
      "outputs": [
        {
          "output_type": "stream",
          "name": "stdout",
          "text": [
            "['10' '5' '10' '3' '5' '5' '7' '9' '10' '9' '0' '0' '10' '9' '9' '10' '10'\n",
            " '1' '1' '10' '7' '10' '10' '3' '2' '7' '10' '10' '6' '8' '8' '2' '10' '5'\n",
            " '10' '3' '5' '5' '7' '9' '10' '9' '0' '0' '10' '9' '9' '10' '10' '1' '1'\n",
            " '10' '7' '10' '10' '3' '2' '7' '10' '10' '6' '8' '8' '2' '10' '5' '10'\n",
            " '3' '5' '5' '7' '9' '10' '9' '0' '0' '10' '9' '9' '10' '10' '1' '1' '10'\n",
            " '7' '10' '10' '3' '2' '7' '10' '10' '6' '8' '8' '2' '10' '5' '10' '3']\n"
          ]
        }
      ]
    },
    {
      "cell_type": "code",
      "metadata": {
        "colab": {
          "base_uri": "https://localhost:8080/"
        },
        "id": "FXe11bmynmo2",
        "outputId": "15f6c417-41ae-42e4-c8ba-af1241b9171a"
      },
      "source": [
        "gosta_cafe = np.array([int(i) for i in alunos_afrodev[:,18]])\n",
        "print(gosta_cafe[:100])"
      ],
      "execution_count": 106,
      "outputs": [
        {
          "output_type": "stream",
          "name": "stdout",
          "text": [
            "[10  5 10  3  5  5  7  9 10  9  0  0 10  9  9 10 10  1  1 10  7 10 10  3\n",
            "  2  7 10 10  6  8  8  2 10  5 10  3  5  5  7  9 10  9  0  0 10  9  9 10\n",
            " 10  1  1 10  7 10 10  3  2  7 10 10  6  8  8  2 10  5 10  3  5  5  7  9\n",
            " 10  9  0  0 10  9  9 10 10  1  1 10  7 10 10  3  2  7 10 10  6  8  8  2\n",
            " 10  5 10  3]\n"
          ]
        }
      ]
    },
    {
      "cell_type": "code",
      "metadata": {
        "colab": {
          "base_uri": "https://localhost:8080/"
        },
        "id": "65EUPIevoAWh",
        "outputId": "16359c10-13e6-42a4-8300-00a9d5bfc28f"
      },
      "source": [
        "print(gosta_cafe.mean())"
      ],
      "execution_count": 107,
      "outputs": [
        {
          "output_type": "stream",
          "name": "stdout",
          "text": [
            "6.75\n"
          ]
        }
      ]
    },
    {
      "cell_type": "markdown",
      "metadata": {
        "id": "bdziN9QRoHOP"
      },
      "source": [
        " ### Sabendo que o salário mínimo é de R$ 1.192,40, e o crescimento anual é de 5%, quantos anos cada pessoa levaria para chegar no salário dos sonhos, levando em consideração a coluna Qual seu salário dos sonhos ?"
      ]
    },
    {
      "cell_type": "code",
      "metadata": {
        "id": "Mcy3uVa6oJHH"
      },
      "source": [
        "def anos_para_sonho(valor):\n",
        "  salario_minimo = 1192.40\n",
        "  anos = 0\n",
        "  while salario_minimo < valor:\n",
        "    anos += 1\n",
        "    salario_minimo *= 1.05\n",
        "  return anos"
      ],
      "execution_count": 116,
      "outputs": []
    },
    {
      "cell_type": "code",
      "metadata": {
        "colab": {
          "base_uri": "https://localhost:8080/"
        },
        "id": "Z7iePs7komKF",
        "outputId": "a10370f6-a177-47be-bc07-9afda9530dca"
      },
      "source": [
        "tempo_sonho = np.array([anos_para_sonho(i) for i in salarios_tratados])\n",
        "print(tempo_sonho)"
      ],
      "execution_count": 118,
      "outputs": [
        {
          "output_type": "stream",
          "name": "stdout",
          "text": [
            "[30 48 44 ... 58 19 91]\n"
          ]
        }
      ]
    }
  ]
}