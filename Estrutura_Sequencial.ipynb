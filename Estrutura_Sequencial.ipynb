{
  "nbformat": 4,
  "nbformat_minor": 0,
  "metadata": {
    "colab": {
      "name": "Estrutura Sequencial.ipynb",
      "provenance": [],
      "collapsed_sections": [],
      "include_colab_link": true
    },
    "kernelspec": {
      "name": "python3",
      "display_name": "Python 3"
    },
    "language_info": {
      "name": "python"
    }
  },
  "cells": [
    {
      "cell_type": "markdown",
      "metadata": {
        "id": "view-in-github",
        "colab_type": "text"
      },
      "source": [
        "<a href=\"https://colab.research.google.com/github/nlnadialigia/afrodev-suzano/blob/main/Estrutura_Sequencial.ipynb\" target=\"_parent\"><img src=\"https://colab.research.google.com/assets/colab-badge.svg\" alt=\"Open In Colab\"/></a>"
      ]
    },
    {
      "cell_type": "markdown",
      "metadata": {
        "id": "s3h4XTy42l6y"
      },
      "source": [
        "##Estrutura Sequencial"
      ]
    },
    {
      "cell_type": "markdown",
      "metadata": {
        "id": "xiXySkgH7dwe"
      },
      "source": [
        "**Faça um Programa que peça um número e então mostre a mensagem:**\n",
        "\n",
        "#####O número informado foi [número]."
      ]
    },
    {
      "cell_type": "code",
      "metadata": {
        "id": "rlRavVZi8bS0"
      },
      "source": [
        "valor = input()\n",
        "print(\"O número informado {}\".format(valor))"
      ],
      "execution_count": null,
      "outputs": []
    },
    {
      "cell_type": "markdown",
      "metadata": {
        "id": "_Kl-2zy-8cNv"
      },
      "source": [
        "**Faça um Programa que peça dois números e imprima a soma.**"
      ]
    },
    {
      "cell_type": "code",
      "metadata": {
        "id": "CJlgEdLe3KLC"
      },
      "source": [
        "a = int(input('Digite um número: '))\n",
        "b = int(input('Digite outro número'))\n",
        "print(f'A soma de {a} e {b} é {a + b}')"
      ],
      "execution_count": null,
      "outputs": []
    },
    {
      "cell_type": "markdown",
      "metadata": {
        "id": "asSOCkv48hsr"
      },
      "source": [
        "**Faça um Programa que peça as 4 notas bimestrais e mostre a média.**"
      ]
    },
    {
      "cell_type": "code",
      "metadata": {
        "id": "q4BgyRbOR8xW"
      },
      "source": [
        "sum = 0\n",
        "for i in range(1,5):\n",
        "  i = float(input(f'Nota do {i}º Bimestre: '))\n",
        "  sum += i\n",
        "print(f'A média das notas dos 4 bimestres é {sum / 4}')"
      ],
      "execution_count": null,
      "outputs": []
    },
    {
      "cell_type": "markdown",
      "metadata": {
        "id": "ykRUV1Id8l8q"
      },
      "source": [
        "**Faça um Programa que converta metros para centímetros.**"
      ]
    },
    {
      "cell_type": "code",
      "metadata": {
        "id": "BHZPAdvt2aAq"
      },
      "source": [
        "metros = float(input('Metros: '))\n",
        "centimetros = metros * 100\n",
        "print(f'{metros} metros equivale a {centimetros} centímetros')"
      ],
      "execution_count": null,
      "outputs": []
    },
    {
      "cell_type": "markdown",
      "metadata": {
        "id": "H2UfEr398p_N"
      },
      "source": [
        "**Faça um Programa que peça o raio de um círculo, calcule e mostre sua área.**"
      ]
    },
    {
      "cell_type": "code",
      "metadata": {
        "id": "Fu1UfLa92p_O"
      },
      "source": [
        "import math\n",
        "raio = float(input('Raio do círculo: '))\n",
        "area = math.pi * pow(raio, raio)\n",
        "print(f'A área de um círculode {raio} de raio é {area:.2f}')"
      ],
      "execution_count": null,
      "outputs": []
    },
    {
      "cell_type": "markdown",
      "metadata": {
        "id": "vO9okcSq8txf"
      },
      "source": [
        "**Faça um Programa que calcule a área de um quadrado, em seguida mostre o dobro desta área para o usuário.**"
      ]
    },
    {
      "cell_type": "code",
      "metadata": {
        "id": "IrRGvkdl2sQ7"
      },
      "source": [
        "lado = float(input('Lado do quadrado [cm]: '))\n",
        "area = lado * lado\n",
        "print(f'O dobro da área de um quadrado de {lado}cm de lado é {area:.2f}cm²')"
      ],
      "execution_count": null,
      "outputs": []
    },
    {
      "cell_type": "markdown",
      "metadata": {
        "id": "eQjAPxZV9Y_U"
      },
      "source": [
        "**Faça um Programa que pergunte quanto você ganha por hora e o número de horas trabalhadas no mês. Calcule e mostre o total do seu salário no referido mês.**"
      ]
    },
    {
      "cell_type": "code",
      "metadata": {
        "id": "Y0rYrzfh9Xw5"
      },
      "source": [
        "valor_hora = float(input('Valor da hora trabalhada: R$'))\n",
        "horas_trabalhadas = float(input('Horas trabalhadas no mês: '))\n",
        "salario = horas_trabalhadas * valor_hora\n",
        "print(f'O salário no mês é de R${salario:.2f}')"
      ],
      "execution_count": null,
      "outputs": []
    },
    {
      "cell_type": "markdown",
      "metadata": {
        "id": "rCvWU_do9eb7"
      },
      "source": [
        "**Faça um Programa que peça a temperatura em graus Fahrenheit, transforme e mostre a temperatura em graus Celsius.\n",
        "C = 5 * ((F-32) / 9).**"
      ]
    },
    {
      "cell_type": "code",
      "metadata": {
        "id": "6-F8JLJl9nWy"
      },
      "source": [
        "temp = float(input('Temperatura em graus Fahrenheit: '))\n",
        "celsius = 5 * ((temp-32) / 9)\n",
        "print(f'{temp} °F equivale a {celsius} °C')"
      ],
      "execution_count": null,
      "outputs": []
    },
    {
      "cell_type": "markdown",
      "metadata": {
        "id": "wuNSOcEU9q82"
      },
      "source": [
        "**Faça um Programa que peça a temperatura em graus Celsius, transforme e mostre em graus Fahrenheit.**"
      ]
    },
    {
      "cell_type": "code",
      "metadata": {
        "id": "jFV9yA3W9vPA"
      },
      "source": [
        "celsius = float(input('Temperatura em graus Celsius: '))\n",
        "fahrenheit = (celsius * 1.8) + 32\n",
        "print(f'{celsius} °C equivale a {fahrenheit} °F')"
      ],
      "execution_count": null,
      "outputs": []
    },
    {
      "cell_type": "markdown",
      "metadata": {
        "id": "rHenay-u9wSe"
      },
      "source": [
        "**Faça um Programa que peça 2 números inteiros e um número real. Calcule e mostre:**\n",
        "\n",
        "1. Produto do dobro do primeiro com metade do segundo.\n",
        "2. Soma do triplo do primeiro com o terceiro.\n",
        "3. Terceiro elevado ao cubo.\n"
      ]
    },
    {
      "cell_type": "code",
      "metadata": {
        "id": "YnLaFKWE94sM"
      },
      "source": [
        "a = int(input('Digite um número inteiro: '))\n",
        "b = int(input('Digite um número inteiro: '))\n",
        "c = float(input('Digite um número real: '))\n",
        "x = (2 * a) * (b / 2)\n",
        "y = (3 * a) + c\n",
        "z = c**3\n",
        "print(f'Produto do dobro do primeiro com metade do segundo: {x}')\n",
        "print(f'Soma do triplo do primeiro com o terceiro: {y}')\n",
        "print(f'Terceiro elevado ao cubo: {z}')\n",
        "\n"
      ],
      "execution_count": null,
      "outputs": []
    },
    {
      "cell_type": "markdown",
      "metadata": {
        "id": "Pp-vVCNC-M9n"
      },
      "source": [
        "**Tendo como dados de entrada a altura de uma pessoa, construa um algoritmo que calcule seu peso ideal, usando a seguinte fórmula: (72.7*altura) - 58**"
      ]
    },
    {
      "cell_type": "code",
      "metadata": {
        "id": "elpHlKHR-TEW"
      },
      "source": [
        "altura = float(input('Digite sua altura [m]: '))\n",
        "peso_ideal = (72.7 * altura) - 58\n",
        "print(f'Seu peso ideal é {peso_ideal:.2f}kg')"
      ],
      "execution_count": null,
      "outputs": []
    },
    {
      "cell_type": "markdown",
      "metadata": {
        "id": "9DDiGIya-Tu3"
      },
      "source": [
        "**Tendo como dado de entrada a altura (h) de uma pessoa, construa um algoritmo que calcule seu peso ideal, utilizando as seguintes fórmulas:**\n",
        "1. Para homens: (72.7*h) - 58\n",
        "2. Para mulheres: (62.1*h) - 44.7"
      ]
    },
    {
      "cell_type": "code",
      "metadata": {
        "id": "Yj8Aur0f-fot"
      },
      "source": [
        "altura = float(input('Digite sua altura [m]: '))\n",
        "peso_ideal_h = (72.7 * altura) - 58\n",
        "peso_ideal_m = (62.1 * altura) - 44.7\n",
        "print(f'''\n",
        "PESO IDEAL:\n",
        "Para homens: {peso_ideal_h:.2f}kg\n",
        "Para mulheres: {peso_ideal_m:.2f}kg\n",
        "''')"
      ],
      "execution_count": null,
      "outputs": []
    },
    {
      "cell_type": "markdown",
      "metadata": {
        "id": "luMJHwGe-i8c"
      },
      "source": [
        "**João Papo-de-Pescador, homem de bem, comprou um microcomputador para controlar o rendimento diário de seu trabalho. Toda vez que ele traz um peso de peixes maior que o estabelecido pelo regulamento de pesca do estado de São Paulo (50 quilos) deve pagar uma multa de R$ 4,00 por quilo excedente. João precisa que você faça um programa que leia a variável peso (peso de peixes) e calcule o excesso. Gravar na variável excesso a quantidade de quilos além do limite e na variável multa o valor da multa que João deverá pagar. Imprima os dados do programa com as mensagens adequadas.**"
      ]
    },
    {
      "cell_type": "code",
      "metadata": {
        "id": "BOnYi7Ki-tlF"
      },
      "source": [
        "peso = float(input('Peso de peixes [kg]: '))\n",
        "excesso = peso - 50\n",
        "multa = 4 * excesso\n",
        "\n",
        "if peso > 50:\n",
        "  print(f'''\n",
        "  João pescou {peso}kg de peixe, excedendo o limite em {excesso}kg.\n",
        "  João deverá pagar uma multa de R${multa:.2f}.\n",
        "  ''')\n",
        "else:\n",
        "  print(f'''\n",
        "  João pescou {peso}kg de peixe, não excendo o limite de 50kg.\n",
        "  João não precisará pagar multa.\n",
        "  ''')"
      ],
      "execution_count": null,
      "outputs": []
    },
    {
      "cell_type": "markdown",
      "metadata": {
        "id": "GOv4mU5T-uNy"
      },
      "source": [
        "**Faça um Programa que pergunte quanto você ganha por hora e o número de horas trabalhadas no mês. Calcule e mostre o total do seu salário no referido mês, sabendo-se que são descontados 11% para o Imposto de Renda, 8% para o INSS e 5% para o sindicato, faça um programa que nos dê:**\n",
        "\n",
        "1. salário bruto.\n",
        "2. quanto pagou ao INSS.\n",
        "3. quanto pagou ao sindicato.\n",
        "4. o salário líquido.\n",
        "5. calcule os descontos e o salário líquido, conforme a tabela abaixo:\n",
        "\n",
        "```\n",
        "+ Salário Bruto : R$\n",
        "- IR (11%) : R$\n",
        "- INSS (8%) : R$\n",
        "- Sindicato ( 5%) : R$\n",
        "= Salário Liquido : R$\n",
        "```\n",
        "*Obs.: Salário Bruto - Descontos = Salário Líquido.*\n"
      ]
    },
    {
      "cell_type": "code",
      "metadata": {
        "id": "BpJrcHmA_WeV"
      },
      "source": [
        "valor_hora = float(input('Valor da hora trabalhada: R$'))\n",
        "horas_trabalhadas = float(input('Números de horas trabalhadas no mês: '))\n",
        "sb = valor_hora * horas_trabalhadas\n",
        "ir = sb * 0.11\n",
        "inss = sb * 0.08\n",
        "sind = sb * 0.05\n",
        "sl = sb - ir - inss - sind\n",
        "print(f'''\n",
        "+ Salário Bruto:  R${sb:.2f}\n",
        "- IR (11%):       R${ir:.2f}\n",
        "- INSS (8%):      R${inss:.2f}\n",
        "- Sindicato(5%):  R${sind:.2f}\n",
        "= Salário Líquido:R${sl:.2f}\n",
        "''')"
      ],
      "execution_count": null,
      "outputs": []
    },
    {
      "cell_type": "markdown",
      "metadata": {
        "id": "3wsz_2Tt_XIN"
      },
      "source": [
        "**Faça um programa para uma loja de tintas. O programa deverá pedir o tamanho em metros quadrados da área a ser pintada. Considere que a cobertura da tinta é de 1 litro para cada 3 metros quadrados e que a tinta é vendida em latas de 18 litros, que custam R$ 80,00. Informe ao usuário a quantidades de latas de tinta a serem compradas e o preço total.**"
      ]
    },
    {
      "cell_type": "code",
      "metadata": {
        "id": "sWHBxGcc_e9t"
      },
      "source": [
        "area = float(input('Área a ser pintada em m²: '))\n",
        "cobertura = area / 3\n",
        "if cobertura <= 18:\n",
        "  print(f'Para uma área de {area}m² será necessária 1 lata de tinta de 18 litros no valor total de R$80,00')\n",
        "else:\n",
        "  latas = int(cobertura / 18) + 1\n",
        "  print(f'Para uma área de {area}m² serão necessárias {latas} latas de tinta de 18 litros no valor total de R${(latas * 80):.2f}')\n"
      ],
      "execution_count": null,
      "outputs": []
    },
    {
      "cell_type": "markdown",
      "metadata": {
        "id": "H32vYQcGAQV9"
      },
      "source": [
        "Faça um programa que peça o tamanho de um arquivo para download (em MB) e a velocidade de um link de Internet (em Mbps), calcule e informe o tempo aproximado de download do arquivo usando este link (em minutos)."
      ]
    },
    {
      "cell_type": "code",
      "metadata": {
        "id": "Ajfkz7TLAUIF"
      },
      "source": [
        "arquivo = float(input('Informe do tamanho do arquivo em MegaByte: '))\n",
        "link = float(input('Informe a velocidade do link em Mbps: '))\n",
        "tempo = (arquivo * 8) / link\n",
        "minutos = int(tempo / 60)\n",
        "segundos = int(tempo % 60)\n",
        "print (f'O tempo aproximado de download é de {minutos} minutos e {segundos} segundos')"
      ],
      "execution_count": null,
      "outputs": []
    }
  ]
}