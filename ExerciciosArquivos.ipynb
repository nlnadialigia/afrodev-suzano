{
  "nbformat": 4,
  "nbformat_minor": 0,
  "metadata": {
    "colab": {
      "name": "ExerciciosArquivos.ipynb",
      "provenance": [],
      "collapsed_sections": [],
      "include_colab_link": true
    },
    "kernelspec": {
      "name": "python3",
      "display_name": "Python 3"
    },
    "language_info": {
      "name": "python"
    }
  },
  "cells": [
    {
      "cell_type": "markdown",
      "metadata": {
        "id": "view-in-github",
        "colab_type": "text"
      },
      "source": [
        "<a href=\"https://colab.research.google.com/github/nlnadialigia/afrodev-suzano/blob/main/ExerciciosArquivos.ipynb\" target=\"_parent\"><img src=\"https://colab.research.google.com/assets/colab-badge.svg\" alt=\"Open In Colab\"/></a>"
      ]
    },
    {
      "cell_type": "markdown",
      "metadata": {
        "id": "TUTFt2wUUwjv"
      },
      "source": [
        "#Arquivos"
      ]
    },
    {
      "cell_type": "markdown",
      "metadata": {
        "id": "xDbHRU4ItobA"
      },
      "source": [
        "## Úteis"
      ]
    },
    {
      "cell_type": "code",
      "metadata": {
        "colab": {
          "base_uri": "https://localhost:8080/"
        },
        "id": "ERYX1oEAtv0Z",
        "outputId": "677af3a6-a8c8-4aa7-d7c5-9b393b272377"
      },
      "source": [
        "from google.colab import drive\n",
        "drive.mount('/content/drive', force_remount=True)"
      ],
      "execution_count": null,
      "outputs": [
        {
          "output_type": "stream",
          "name": "stdout",
          "text": [
            "Mounted at /content/drive\n"
          ]
        }
      ]
    },
    {
      "cell_type": "code",
      "metadata": {
        "id": "NJYG_1sC0PP4"
      },
      "source": [
        "import re\n",
        "def regex(pattern, string):\n",
        "\tcapt = re.match(pattern, string)\n",
        "\tif bool(capt):\n",
        "\t\treturn capt.group()\n",
        "\treturn False"
      ],
      "execution_count": null,
      "outputs": []
    },
    {
      "cell_type": "markdown",
      "metadata": {
        "id": "0U1Wj9YWtqwf"
      },
      "source": [
        "## Exercícios"
      ]
    },
    {
      "cell_type": "markdown",
      "metadata": {
        "id": "U3YgMK12U7KW"
      },
      "source": [
        "**Faça um programa que leia um arquivo texto contendo uma lista de endereços IP e gere um outro arquivo, contendo um relatório dos endereços IP válidos e inválidos.**\n",
        "\n",
        "**O arquivo de entrada possui o seguinte formato:**\n",
        "```\n",
        "    200.135.80.9\n",
        "    192.168.1.1\n",
        "    8.35.67.74\n",
        "    257.32.4.5\n",
        "    85.345.1.2\n",
        "    1.2.3.4\n",
        "    9.8.234.5\n",
        "    192.168.0.256\n",
        "```\n",
        "**O arquivo de saída possui o seguinte formato:**\n",
        "```\n",
        "    [Endereços válidos:]\n",
        "    200.135.80.9\n",
        "    192.168.1.1\n",
        "    8.35.67.74\n",
        "    1.2.3.4\n",
        "\n",
        "    [Endereços inválidos:]\n",
        "    257.32.4.5\n",
        "    85.345.1.2\n",
        "    9.8.234.5\n",
        "    192.168.0.256\n",
        "```\n",
        "\n",
        "\n"
      ]
    },
    {
      "cell_type": "code",
      "metadata": {
        "id": "NAPGU8Rxt7tt"
      },
      "source": [
        "url_ex01 = '/content/drive/MyDrive/suzano/arquivos/ex01.txt'"
      ],
      "execution_count": null,
      "outputs": []
    },
    {
      "cell_type": "code",
      "metadata": {
        "id": "sVS07VJOUsYY",
        "colab": {
          "base_uri": "https://localhost:8080/"
        },
        "outputId": "bf4906e2-b323-4185-e875-a7afa84ae237"
      },
      "source": [
        "\n",
        "with open(url_ex01, 'r') as arquivo:\n",
        "  ips = arquivo.readlines()\n",
        "\n",
        "ip_v = ''\n",
        "ip_i = ''\n",
        "\n",
        "for i in range(len(ips)):\n",
        "  ips[i] = ips[i].replace('\\n', '')\n",
        "\n",
        "for ip in ips:\n",
        "\tif ip == '0.0.0.0':\n",
        "\t\tip_v = ip_v + '\\n' + ip\n",
        "\telif regex('^(([1-9]\\.|[1-9][0-9]\\.|1[0-9][0-9]\\.|2[0-4][0-9]\\.|25[0-5]\\.)([0-9]\\.|[1-9][0-9]\\.|1[0-9][0-9]\\.|2[0-4][0-9]\\.|25[0-5]\\.)([0-9]\\.|[1-9][0-9]\\.|1[0-9][0-9]\\.|2[0-4][0-9]\\.|25[0-5]\\.)([0-9]\\.|[1-9][0-9]\\.|1[0-9][0-9]\\.|2[0-4][0-9]\\.|25[0-5]\\.))$', ip + '.'):\n",
        "\t\tip_v = ip_v + '\\n' + ip\n",
        "\telse:\n",
        "\t\tip_i = ip_i + '\\n' + ip\n",
        "\n",
        "print('[Endereços válidos:]')\n",
        "print(ip_v)\n",
        "\n",
        "print('[Endereços inválidos:]')\n",
        "print(ip_i)"
      ],
      "execution_count": null,
      "outputs": [
        {
          "output_type": "stream",
          "name": "stdout",
          "text": [
            "[Endereços válidos:]\n",
            "\n",
            "200.135.80.9\n",
            "192.168.1.1\n",
            "8.35.67.74\n",
            "1.2.3.4\n",
            "9.8.234.5\n",
            "[Endereços inválidos:]\n",
            "\n",
            "257.32.4.5\n",
            "85.345.1.2\n",
            "192.168.0.256\n"
          ]
        }
      ]
    },
    {
      "cell_type": "markdown",
      "metadata": {
        "id": "ffkCLmr8VOCA"
      },
      "source": [
        "**A ACME Inc., uma empresa de 500 funcionários, está tendo problemas de espaço em disco no seu servidor de arquivos. Para tentar resolver este problema, o Administrador de Rede precisa saber qual o espaço ocupado pelos usuários, e identificar os usuários com maior espaço ocupado. Através de um programa, baixado da Internet, ele conseguiu gerar o seguinte arquivo, chamado \"usuarios.txt\":**\n",
        "\n",
        "```\n",
        "alexandre       456123789\n",
        "anderson        1245698456\n",
        "antonio         123456456\n",
        "carlos          91257581\n",
        "cesar           987458\n",
        "rosemary        789456125\n",
        "```\n",
        "**Neste arquivo, o nome do usuário possui 15 caracteres. A partir deste arquivo, você deve criar um programa que gere um relatório, chamado \"relatório.txt\", no seguinte formato:**\n",
        "\n",
        "```\n",
        "ACME Inc.               Uso do espaço em disco pelos usuários\n",
        "------------------------------------------------------------------------\n",
        "Nr.  Usuário        Espaço utilizado     % do uso\n",
        "\n",
        "1    alexandre       434,99 MB             16,85%\n",
        "2    anderson       1187,99 MB             46,02%\n",
        "3    antonio         117,73 MB              4,56%\n",
        "4    carlos           87,03 MB              3,37%\n",
        "5    cesar             0,94 MB              0,04%\n",
        "6    rosemary        752,88 MB             29,16%\n",
        "\n",
        "Espaço total ocupado: 2581,57 MB\n",
        "Espaço médio ocupado: 430,26 MB\n",
        "```\n",
        "**O arquivo de entrada deve ser lido uma única vez, e os dados armazenados em memória, caso sejam necessários, de forma a agilizar a execução do programa. A conversão da espaço ocupado em disco, de bytes para megabytes deverá ser feita através de uma função separada, que será chamada pelo programa principal. O cálculo do percentual de uso também deverá ser feito através de uma função, que será chamada pelo programa principal.**\n",
        "\n"
      ]
    },
    {
      "cell_type": "code",
      "metadata": {
        "id": "xig7UbekV7oD"
      },
      "source": [
        "url_user = '/content/drive/MyDrive/suzano/arquivos/usuarios.txt'"
      ],
      "execution_count": null,
      "outputs": []
    },
    {
      "cell_type": "code",
      "metadata": {
        "colab": {
          "base_uri": "https://localhost:8080/"
        },
        "id": "YHjamXp81zSG",
        "outputId": "047c8607-a9b9-41e2-d40b-1eeabfa03c93"
      },
      "source": [
        "with open(url_user, 'r') as arquivo:\n",
        "  usuarios = arquivo.read()\n",
        "print(usuarios)"
      ],
      "execution_count": null,
      "outputs": [
        {
          "output_type": "stream",
          "name": "stdout",
          "text": [
            "alexandre       456123789\n",
            "anderson        1245698456\n",
            "antonio         123456456\n",
            "carlos          91257581\n",
            "cesar           987458\n",
            "rosemary        789456125\n",
            "\n"
          ]
        }
      ]
    }
  ]
}